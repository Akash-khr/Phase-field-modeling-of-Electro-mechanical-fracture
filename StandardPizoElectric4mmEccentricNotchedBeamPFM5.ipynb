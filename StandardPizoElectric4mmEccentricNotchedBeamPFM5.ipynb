{
 "cells": [
  {
   "cell_type": "markdown",
   "id": "5a172ed2",
   "metadata": {},
   "source": [
    "### In case of positive hydrostatic strain i.e $\\text{tr}(\\boldsymbol{\\epsilon})\\geq 0$\n",
    "$\\langle p \\rangle_+ = p = \\boldsymbol{I}: \\boldsymbol{\\sigma}_{vol} = \\boldsymbol{I}: \\mathbb{I}_{vol}\\mathbb{C}  \\boldsymbol{\\epsilon}$    and      $\\langle p \\rangle_- = 0 $\n",
    "\n",
    "$\\mathbb{C}_{mod} = \\mathbb{C}_{+} = s^2\\left(\\mathbb{I}_{vol}\\mathbb{C} + \\mathbb{I}_{dev}\\mathbb{C}\\right) = s^2 \\mathbb{C}$\n",
    "\n",
    "### In case of negative hydrostatic strain $\\text{tr}(\\boldsymbol{\\epsilon})< 0$\n",
    "$\\langle p \\rangle_+ = 0 $   and    $\\langle p \\rangle_- = p =  \\boldsymbol{I}: \\boldsymbol{\\sigma}_{vol} = \\boldsymbol{I}:\\mathbb{I}_{vol}\\mathbb{C}  \\boldsymbol{\\epsilon}$\n",
    "\n",
    "$\\mathbb{C}_{mod} = \\mathbb{C}_{-} = s^2\\bigl(\\mathbb{I}_{dev}\\mathbb{C}\\bigr) + \\mathbb{I}_{vol}\\mathbb{C}$\n",
    "\n",
    " ## Strong Form in terms of $\\mathbb{C}_{mod}$ and $\\mathcal{H}(\\mathcal{E})$\n",
    " \n",
    " $\\nabla \\cdot \\boldsymbol{\\sigma} = {\\bf{0}}$\n",
    " \n",
    " $ \\nabla\\cdot \\boldsymbol{D}  = {0}$\n",
    "\n",
    " $ \\nabla \\cdot \\biggl(G_cl\\boldsymbol{A}\\nabla s\\biggr) - 2s\\mathcal{H}(\\mathcal{E})  + \\frac{G_c}{l}\\left(1-s\\right) = 0$\n",
    "\n",
    "where \n",
    "\n",
    "$\\boldsymbol{\\sigma} = \\biggl(\\mathbb{C}_{mod} \\boldsymbol{\\epsilon} -s^2\\mathbb{E}^T\\boldsymbol{E}\\biggr) $\n",
    "\n",
    "$\\boldsymbol{D} = \\biggr({s^2\\boldsymbol{K}\\boldsymbol{E}} +  s^2\\mathbb{E}\\boldsymbol{\\epsilon}\\biggl) $\n",
    "\n",
    "$\\mathcal{E} = \\frac{1}{2}\\biggl(\\langle p \\rangle_+\\boldsymbol{I}:\\mathbb{I}_{vol}\\boldsymbol{\\epsilon} + \\mathbb{I}_{dev}\\mathbb{C}\\boldsymbol{\\epsilon}:\\mathbb{I}_{dev}\\boldsymbol{\\epsilon} - 0.5 (\\overset{3}{\\mathbb{E}})^T\\boldsymbol{E}:\\boldsymbol{\\epsilon}^{+})$\n",
    "\n",
    "$\\mathcal{H}(f) = \\text{max}_{\\tau \\in [0,t]}f(\\tau)$"
   ]
  },
  {
   "cell_type": "markdown",
   "id": "26bc5576",
   "metadata": {},
   "source": [
    " # Weak Form\n",
    "\n",
    "### For Piezo-elasticity part\n",
    "\n",
    " $a_{\\text{EM}}((\\boldsymbol{u},\\varphi),(\\boldsymbol{v},\\gamma)) = \\int_{\\Omega}\\biggl(\\boldsymbol{\\epsilon}(\\boldsymbol{v}):\\left(\\mathbb{C}_{\\text{mod}}\\, \\boldsymbol{\\epsilon} \\,-\\,s^2(\\overset{3}{\\mathbb{E}})^T\\boldsymbol{E}(\\varphi)\\right) - \\boldsymbol{E}(\\gamma)\\cdot s^2\\bigl(\\boldsymbol{K}\\boldsymbol{E}(\\varphi) + \\, \\overset{3}{\\mathbb{E}}\\boldsymbol{\\epsilon}\\bigr)\\biggr) \\,d\\Omega$\n",
    " \n",
    " $b_{\\text{EM}}(\\boldsymbol{v}, \\gamma) = 0$\n",
    "\n",
    "### For phase-field part\n",
    " \n",
    "  $a_{\\text{PF}}(s,w) = \\int_{\\Omega}\\bigl(G_cl_s\\nabla s \\cdot \\nabla w + 2s w\\mathcal{H}(\\mathcal{E}) + \\frac{G_c}{l_s} s w\\bigr)\\,d\\Omega\\\\$\n",
    "  $b_{\\text{PF}}(w) = \\int_{\\Omega}w\\frac{G_c}{l_s} d\\Omega$"
   ]
  },
  {
   "cell_type": "code",
   "execution_count": 1,
   "id": "frank-charity",
   "metadata": {},
   "outputs": [],
   "source": [
    "using Gmsh: gmsh\n",
    "using GridapGmsh\n",
    "using Gridap\n",
    "using Gridap.TensorValues\n",
    "using PyPlot"
   ]
  },
  {
   "cell_type": "markdown",
   "id": "guided-cornell",
   "metadata": {},
   "source": [
    "## Definitions of Tensorial Quantities:\n",
    "\n",
    "$\\boldsymbol{I} = \\delta_{ij} \\boldsymbol{e}_i\\otimes\\boldsymbol{e}_j$\n",
    "\n",
    "$\\mathbb{I} = \\boldsymbol{I}\\otimes\\boldsymbol{I}$\n",
    "\n",
    "$\\mathbb{I}_{sym} = \\frac{1}{2}\\biggl(\\mathbb{I}+\\mathbb{I}^T\\biggr)$\n",
    "\n",
    "$\\mathbb{I}_{skw} = \\frac{1}{2}\\biggl(\\mathbb{I}-\\mathbb{I}^T\\biggr)$\n",
    "\n",
    "$\\mathbb{I}_{vol} = \\frac{1}{3}\\biggl(\\boldsymbol{I}\\otimes\\boldsymbol{I}\\biggr)$\n",
    "\n",
    "$\\mathbb{I}_{dev} = \\mathbb{I}_{sym} - \\mathbb{I}_{vol}$\n",
    "\n",
    "$\\boldsymbol{\\epsilon}_{vol} = \\frac{1}{3}\\text{tr}(\\boldsymbol{\\epsilon}) \\boldsymbol{I} = \\frac{1}{3}\\biggl(\\boldsymbol{\\epsilon}:\\boldsymbol{I}\\biggr)\\boldsymbol{I} = \\frac{1}{3}\\biggl(\\boldsymbol{I}\\otimes\\boldsymbol{I}\\biggr)\\boldsymbol{\\epsilon} = \\mathbb{I}_{vol} \\boldsymbol{\\epsilon} $\n",
    "\n",
    "$\\boldsymbol{\\epsilon}_{dev} = \\boldsymbol{\\epsilon} - \\boldsymbol{\\epsilon}_{vol} = \\biggl(\\mathbb{I}_{sym} -  \\mathbb{I}_{vol}\\biggl) \\boldsymbol{\\epsilon} = \\mathbb{I}_{dev} \\boldsymbol{\\epsilon}$\n",
    "\n",
    "$\\boldsymbol{\\sigma}_{vol} = p \\boldsymbol{I} = \\frac{1}{3}\\biggl(\\boldsymbol{\\sigma}:\\boldsymbol{I}\\biggr)\\boldsymbol{I} = \\frac{1}{3}\\biggl(\\boldsymbol{I}\\otimes\\boldsymbol{I}\\biggr)\\boldsymbol{\\sigma} = \\mathbb{I}_{vol} \\boldsymbol{\\sigma} = \\mathbb{I}_{vol}\\mathbb{C} \\boldsymbol{\\epsilon}$\n",
    "\n",
    "$\\boldsymbol{\\sigma}_{dev} = \\boldsymbol{\\sigma} - \\boldsymbol{\\sigma}_{vol} = \\biggl(\\mathbb{I}_{sym} -  \\mathbb{I}_{vol}\\biggl) \\boldsymbol{\\sigma} = \\mathbb{I}_{dev} \\boldsymbol{\\sigma}=\\mathbb{I}_{dev} \\mathbb{C} \\boldsymbol{\\epsilon}$"
   ]
  },
  {
   "cell_type": "code",
   "execution_count": 2,
   "id": "contained-intro",
   "metadata": {},
   "outputs": [
    {
     "data": {
      "text/plain": [
       "SymFourthOrderTensorValue{2,Float64,9}(0.6666666666666667, 0.0, -0.3333333333333333, 0.0, 0.5, 0.0, -0.3333333333333333, 0.0, 0.6666666666666667)"
      ]
     },
     "execution_count": 2,
     "metadata": {},
     "output_type": "execute_result"
    }
   ],
   "source": [
    "I2 = SymTensorValue{2,Float64}(1.0 ,0.0 ,1.0)\n",
    "I4 = I2⊗I2\n",
    "I4_sym = one(SymFourthOrderTensorValue{2,Float64})\n",
    "I4_vol = (1.0/3)*I4\n",
    "I4_dev = I4_sym  - I4_vol"
   ]
  },
  {
   "cell_type": "code",
   "execution_count": 3,
   "id": "municipal-incentive",
   "metadata": {},
   "outputs": [
    {
     "name": "stdout",
     "output_type": "stream",
     "text": [
      "Info    : Meshing 1D...\n",
      "Info    : Meshing curve 1 (Line)\n",
      "Info    : Meshing curve 2 (Line)\n",
      "Info    : Meshing curve 3 (Line)\n",
      "Info    : Meshing curve 4 (Line)\n",
      "Info    : Meshing curve 5 (Line)\n",
      "Info    : Meshing curve 6 (Line)\n",
      "Info    : Meshing curve 7 (Line)\n",
      "Info    : Meshing curve 8 (Line)\n",
      "Info    : Meshing curve 9 (Line)\n",
      "Info    : Meshing curve 10 (Line)\n",
      "Info    : Meshing curve 11 (Line)\n",
      "Info    : Meshing curve 12 (Line)\n",
      "Info    : Meshing curve 13 (Line)\n",
      "Info    : Done meshing 1D (0.002949 s)\n",
      "Info    : Meshing 2D...\n",
      "Info    : Meshing surface 1 (Plane, Delaunay)\n",
      "Info    : Done meshing 2D (1.60176 s)\n",
      "Info    : 46993 vertices 93997 elements\n",
      "Info    : Writing '4mmEccentricNotchedBeam.msh'...\n",
      "Info    : Done writing '4mmEccentricNotchedBeam.msh'\n"
     ]
    }
   ],
   "source": [
    "const L = 19.1\n",
    "const LL = L/2 - 4\n",
    "const SO = 1\n",
    "const SI = 0.05\n",
    "const H = 9\n",
    "const CH = 4         #Crack height\n",
    "const CW = 0.46      #Crack Width\n",
    "const lsp = 0.08     #length factor\n",
    "const hf = 0.06/2.1  #Mesh size parameter\n",
    "const hfc = 0.06/50  #Mesh size parameter\n",
    "const h = 50*hf      #Mesh size parameter\n",
    "const LW = CW\n",
    "const FMR = CW/2\n",
    "\n",
    "gmsh.initialize()\n",
    "gmsh.option.setNumber(\"General.Terminal\", 1)\n",
    "p1 = gmsh.model.geo.addPoint(0.0, 0.0, 0.0, h)\n",
    "p2 = gmsh.model.geo.addPoint(SO, 0, 0.0, h)\n",
    "p3 = gmsh.model.geo.addPoint(LL-0.5*CW, 0, 0.0, h)\n",
    "p4 = gmsh.model.geo.addPoint(LL-0.5*CW, CH-0.5*CW, 0.0, h)\n",
    "p5 = gmsh.model.geo.addPoint(LL, CH, 0.0, hfc)\n",
    "p6 = gmsh.model.geo.addPoint(LL+0.5*CW, CH-0.5*CW, 0.0, h)\n",
    "p7 = gmsh.model.geo.addPoint(LL+0.5*CW,0.0, 0.0, h)\n",
    "p8 = gmsh.model.geo.addPoint(L-SO,0.0, 0.0, h)\n",
    "p9 = gmsh.model.geo.addPoint(L,0.0, 0.0, h)\n",
    "p10 = gmsh.model.geo.addPoint(L, H, 0.0, h)\n",
    "p11 = gmsh.model.geo.addPoint((L/2)+LW, H , 0.0, h)\n",
    "p12 = gmsh.model.geo.addPoint((L/2)-LW, H , 0.0, h)\n",
    "p13 = gmsh.model.geo.addPoint(0, H , 0.0, h)\n",
    "\n",
    "l1 = gmsh.model.geo.addLine(p1, p2)\n",
    "l2 = gmsh.model.geo.addLine(p2, p3)\n",
    "l3 = gmsh.model.geo.addLine(p3, p4)\n",
    "l4 = gmsh.model.geo.addLine(p4, p5)\n",
    "l5 = gmsh.model.geo.addLine(p5, p6)\n",
    "l6 = gmsh.model.geo.addLine(p6, p7)\n",
    "l7 = gmsh.model.geo.addLine(p7, p8)\n",
    "l8 = gmsh.model.geo.addLine(p8, p9)\n",
    "l9 = gmsh.model.geo.addLine(p9, p10)\n",
    "l10 = gmsh.model.geo.addLine(p10, p11)\n",
    "l11 = gmsh.model.geo.addLine(p11, p12)\n",
    "l12 = gmsh.model.geo.addLine(p12, p13)\n",
    "l13 = gmsh.model.geo.addLine(p13, p1)                 \n",
    "\n",
    "cl1 = gmsh.model.geo.addCurveLoop([l1,l2,l3,l4,l5,l6,l7,l8,l9,l10,l11,l12,l13]) \n",
    "\n",
    "ps1 = gmsh.model.geo.addPlaneSurface([cl1])\n",
    "\n",
    "pg1 = gmsh.model.addPhysicalGroup(2, [ps1])\n",
    "\n",
    "pg2 = gmsh.model.addPhysicalGroup(0, [p2])\n",
    "pg3 = gmsh.model.addPhysicalGroup(0, [p8])\n",
    "pg4 = gmsh.model.addPhysicalGroup(1, [l11])\n",
    "pg5 = gmsh.model.addPhysicalGroup(1, [l13])\n",
    "pg6 = gmsh.model.addPhysicalGroup(1, [l9])\n",
    "\n",
    "gmsh.model.setPhysicalName(2, pg1, \"Domain\")\n",
    "gmsh.model.setPhysicalName(0, pg2, \"DirichletLeft\")\n",
    "gmsh.model.setPhysicalName(0, pg3, \"DirichletRight\")\n",
    "gmsh.model.setPhysicalName(1, pg4, \"LoadLine\")\n",
    "gmsh.model.setPhysicalName(1, pg5, \"ElectricPotentialLeft\")\n",
    "gmsh.model.setPhysicalName(1, pg6, \"ElectricPotentialRight\")\n",
    "\n",
    "gmsh.model.mesh.field.add(\"Box\", 11)\n",
    "gmsh.model.mesh.field.setNumber(11, \"VIn\", hf)\n",
    "gmsh.model.mesh.field.setNumber(11, \"VOut\", h)\n",
    "gmsh.model.mesh.field.setNumber(11, \"XMin\", (LL-5*FMR))\n",
    "gmsh.model.mesh.field.setNumber(11, \"XMax\", ((L/2)+LW+2*FMR))\n",
    "gmsh.model.mesh.field.setNumber(11, \"YMin\", 0.95*CH)\n",
    "gmsh.model.mesh.field.setNumber(11, \"YMax\", H)\n",
    "\n",
    "gmsh.model.mesh.field.setAsBackgroundMesh(11)\n",
    "\n",
    "gmsh.model.geo.synchronize()\n",
    "gmsh.model.mesh.generate(2)\n",
    "gmsh.write(\"4mmEccentricNotchedBeam.msh\")\n",
    "gmsh.finalize()"
   ]
  },
  {
   "cell_type": "code",
   "execution_count": 4,
   "id": "dangerous-preference",
   "metadata": {},
   "outputs": [
    {
     "name": "stdout",
     "output_type": "stream",
     "text": [
      "Info    : Reading '4mmEccentricNotchedBeam.msh'...\n",
      "Info    : 27 entities\n",
      "Info    : 46993 nodes\n",
      "Info    : 93745 elements\n",
      "Info    : Done reading '4mmEccentricNotchedBeam.msh'\n"
     ]
    },
    {
     "data": {
      "text/plain": [
       "3-element Array{Array{String,1},1}:\n",
       " [\"4mmEccentricNotchedBeam_0.vtu\"]\n",
       " [\"4mmEccentricNotchedBeam_1.vtu\"]\n",
       " [\"4mmEccentricNotchedBeam_2.vtu\"]"
      ]
     },
     "execution_count": 4,
     "metadata": {},
     "output_type": "execute_result"
    }
   ],
   "source": [
    "model = GmshDiscreteModel(\"4mmEccentricNotchedBeam.msh\")\n",
    "writevtk(model,\"4mmEccentricNotchedBeam\")"
   ]
  },
  {
   "cell_type": "code",
   "execution_count": 5,
   "id": "1ccc7309",
   "metadata": {},
   "outputs": [
    {
     "data": {
      "text/plain": [
       "5.1"
      ]
     },
     "execution_count": 5,
     "metadata": {},
     "output_type": "execute_result"
    }
   ],
   "source": [
    "ElecF = 5\n",
    "phiMaxApp = (ElecF/10)*L*1e3\n",
    "thickness = 5.1"
   ]
  },
  {
   "cell_type": "code",
   "execution_count": 6,
   "id": "bd6fbf65",
   "metadata": {},
   "outputs": [],
   "source": [
    "cd(\"Result4mmEccentricNotchedBeamElecField$ElecF\")"
   ]
  },
  {
   "cell_type": "code",
   "execution_count": 7,
   "id": "meaningful-haven",
   "metadata": {
    "scrolled": false
   },
   "outputs": [
    {
     "data": {
      "text/plain": [
       "93696-element Array{Int8,1}:\n",
       " 6\n",
       " 6\n",
       " 6\n",
       " 6\n",
       " 6\n",
       " 6\n",
       " 6\n",
       " 6\n",
       " 6\n",
       " 6\n",
       " 6\n",
       " 6\n",
       " 6\n",
       " ⋮\n",
       " 6\n",
       " 6\n",
       " 6\n",
       " 6\n",
       " 6\n",
       " 6\n",
       " 6\n",
       " 6\n",
       " 6\n",
       " 6\n",
       " 6\n",
       " 6"
      ]
     },
     "execution_count": 7,
     "metadata": {},
     "output_type": "execute_result"
    }
   ],
   "source": [
    "using Gridap.Geometry\n",
    "labels = get_face_labeling(model)\n",
    "dimension = 2\n",
    "mat_tags = get_face_tag(labels,dimension)"
   ]
  },
  {
   "cell_type": "code",
   "execution_count": 8,
   "id": "forty-hollow",
   "metadata": {},
   "outputs": [
    {
     "data": {
      "text/plain": [
       "6"
      ]
     },
     "execution_count": 8,
     "metadata": {},
     "output_type": "execute_result"
    }
   ],
   "source": [
    "const Mat_tag = get_tag_from_name(labels,\"Domain\")"
   ]
  },
  {
   "cell_type": "markdown",
   "id": "roman-infrastructure",
   "metadata": {},
   "source": [
    "## Input paramters for Piezo-Electric Material Properties"
   ]
  },
  {
   "cell_type": "markdown",
   "id": "foreign-anderson",
   "metadata": {},
   "source": [
    "#### Input elasticity parameters"
   ]
  },
  {
   "cell_type": "code",
   "execution_count": 9,
   "id": "healthy-grave",
   "metadata": {},
   "outputs": [
    {
     "data": {
      "text/plain": [
       "30600.0"
      ]
     },
     "execution_count": 9,
     "metadata": {},
     "output_type": "execute_result"
    }
   ],
   "source": [
    "const λ_mat = 77.8e3 \n",
    "const μ_mat = 30.6e3"
   ]
  },
  {
   "cell_type": "markdown",
   "id": "global-client",
   "metadata": {},
   "source": [
    "#### Input piezo-electric parameters"
   ]
  },
  {
   "cell_type": "code",
   "execution_count": 10,
   "id": "intensive-captain",
   "metadata": {},
   "outputs": [
    {
     "data": {
      "text/plain": [
       "0.016"
      ]
     },
     "execution_count": 10,
     "metadata": {},
     "output_type": "execute_result"
    }
   ],
   "source": [
    "const C1 = -6.98e-3\n",
    "const C2 = -6.06e-3\n",
    "const C3 = 16.00e-3"
   ]
  },
  {
   "cell_type": "markdown",
   "id": "running-anxiety",
   "metadata": {},
   "source": [
    "#### Input permitivity parameters"
   ]
  },
  {
   "cell_type": "code",
   "execution_count": 11,
   "id": "otherwise-newman",
   "metadata": {},
   "outputs": [
    {
     "data": {
      "text/plain": [
       "6.0e-9"
      ]
     },
     "execution_count": 11,
     "metadata": {},
     "output_type": "execute_result"
    }
   ],
   "source": [
    "const K₁₁_mat = 6e-9\n",
    "const K₂₂_mat = 6e-9"
   ]
  },
  {
   "cell_type": "markdown",
   "id": "superior-compensation",
   "metadata": {},
   "source": [
    "#### Input fracture parameters"
   ]
  },
  {
   "cell_type": "code",
   "execution_count": 12,
   "id": "acute-carry",
   "metadata": {},
   "outputs": [
    {
     "data": {
      "text/plain": [
       "1.0e-10"
      ]
     },
     "execution_count": 12,
     "metadata": {},
     "output_type": "execute_result"
    }
   ],
   "source": [
    "const Gc = 7e-3\n",
    "const η = 1e-10"
   ]
  },
  {
   "cell_type": "markdown",
   "id": "private-nebraska",
   "metadata": {},
   "source": [
    "### Third order piezoelectric tensor"
   ]
  },
  {
   "cell_type": "code",
   "execution_count": 13,
   "id": "conventional-purse",
   "metadata": {},
   "outputs": [
    {
     "data": {
      "text/plain": [
       "ThirdOrderTensorValue{2,2,2,Float64,8}(0.002960000000000001, 0.0, 0.0, 0.008, 0.0, 0.008, -0.00698, 0.0)"
      ]
     },
     "execution_count": 13,
     "metadata": {},
     "output_type": "execute_result"
    }
   ],
   "source": [
    "p = VectorValue(1,0)\n",
    "I = [1 0; 0 1]\n",
    "K1 = zeros(2,2,2)\n",
    "K2 = zeros(2,2,2)\n",
    "K3 = zeros(2,2,2)\n",
    "for i = 1:2, j = 1:2, k= 1:2\n",
    "    K1[i,j,k] = p[i]*I[j,k]\n",
    "end\n",
    "for i = 1:2, j = 1:2, k= 1:2\n",
    "    K2[i,j,k] = p[i]*p[j]*p[k]\n",
    "end\n",
    "for i = 1:2, j = 1:2, k= 1:2\n",
    "    K3[i,j,k] = 0.5*(p[j]*I[i,k] + p[k]*I[i,j])\n",
    "end\n",
    "K = C1*K1+C2*K2+C3*K3\n",
    "const e_mat = ThirdOrderTensorValue(K)"
   ]
  },
  {
   "cell_type": "markdown",
   "id": "better-reminder",
   "metadata": {},
   "source": [
    "### Second order electrical permittivity tensor"
   ]
  },
  {
   "cell_type": "code",
   "execution_count": 14,
   "id": "developing-foundation",
   "metadata": {},
   "outputs": [
    {
     "data": {
      "text/plain": [
       "TensorValue{2,2,Float64,4}(6.0e-9, 0.0, 0.0, 6.0e-9)"
      ]
     },
     "execution_count": 14,
     "metadata": {},
     "output_type": "execute_result"
    }
   ],
   "source": [
    "const K_mat = TensorValue(K₁₁_mat,0.0,0.0, K₁₁_mat)"
   ]
  },
  {
   "cell_type": "markdown",
   "id": "nutritional-oliver",
   "metadata": {},
   "source": [
    "## Stress\n",
    "\n",
    "$\\sigma_{elas}(\\epsilon(\\boldsymbol{u})) =  \\mathbb{C}\\,\\boldsymbol{\\epsilon}$\n",
    "\n",
    "$\\sigma_{elasMod}(\\epsilon(\\boldsymbol{u}),s) =  \\mathbb{C}_{mod}\\,\\boldsymbol{\\epsilon}$\n",
    "\n",
    "$\\sigma_{piezo}(\\boldsymbol{E}(\\phi)) = - \\mathbb{E}^T\\,\\boldsymbol{E}$\n",
    "\n",
    "or, $\\sigma_{piezo}(\\nabla\\phi) =  \\mathbb{E}^T\\,\\boldsymbol{\\nabla}\\phi$\n",
    "\n",
    "$\\sigma_{piezoMod}(\\nabla\\phi,s) =  s^2\\mathbb{E}^T\\,\\boldsymbol{\\nabla}\\phi$"
   ]
  },
  {
   "cell_type": "code",
   "execution_count": 15,
   "id": "built-universe",
   "metadata": {},
   "outputs": [
    {
     "data": {
      "text/plain": [
       "σ_elasMod (generic function with 1 method)"
      ]
     },
     "execution_count": 15,
     "metadata": {},
     "output_type": "execute_result"
    }
   ],
   "source": [
    "σ_elas(ε) = λ_mat*tr(ε)*one(ε) + 2*μ_mat*ε\n",
    "\n",
    "function σ_elasMod(ε, ε_in, s_in)  \n",
    " if tr(ε_in)  >= 0\n",
    "      σ = (s_in^2 + η)*σ_elas(ε)\n",
    "  elseif tr(ε_in) < 0\n",
    "      σ = (s_in^2 + η)*I4_dev ⊙ σ_elas(ε) + I4_vol⊙ σ_elas(ε)\n",
    "  end  \n",
    "    return σ\n",
    "end"
   ]
  },
  {
   "cell_type": "code",
   "execution_count": 16,
   "id": "bc56b220",
   "metadata": {},
   "outputs": [
    {
     "data": {
      "text/plain": [
       "σ_piezoMod (generic function with 1 method)"
      ]
     },
     "execution_count": 16,
     "metadata": {},
     "output_type": "execute_result"
    }
   ],
   "source": [
    "σ_piezo(∇) = ∇ ⋅ e_mat\n",
    "\n",
    "σ_piezoMod(∇, ∇_in, s_in) = (s_in^2 + η)*σ_piezo(∇)"
   ]
  },
  {
   "cell_type": "markdown",
   "id": "average-petroleum",
   "metadata": {},
   "source": [
    "### Electric Displacement\n",
    "\n",
    "$\\boldsymbol{D}_{elas}(ε(\\boldsymbol{u}),tag) = \\mathbb{E}\\boldsymbol{\\epsilon}$\n",
    "\n",
    "$\\boldsymbol{D}_{elasMod}(ε(\\boldsymbol{u}),s,tag) = s^2\\mathbb{E}\\boldsymbol{\\epsilon}$\n",
    "\n",
    "$\\boldsymbol{D}_{piezo}(\\boldsymbol{E}(\\phi)) = -\\boldsymbol{K}\\boldsymbol{E} $\n",
    "\n",
    "or, $\\boldsymbol{D}_{piezo}(\\nabla\\phi)  = \\boldsymbol{K}\\boldsymbol{\\nabla} \\phi$\n",
    "\n",
    "$\\boldsymbol{D}_{piezoMod}(\\nabla\\phi,s)  = s^2\\boldsymbol{K}\\boldsymbol{\\nabla} \\phi$"
   ]
  },
  {
   "cell_type": "code",
   "execution_count": 17,
   "id": "f5be4d33",
   "metadata": {},
   "outputs": [
    {
     "data": {
      "text/plain": [
       "D_elasMod (generic function with 1 method)"
      ]
     },
     "execution_count": 17,
     "metadata": {},
     "output_type": "execute_result"
    }
   ],
   "source": [
    "D_elasMod(ε, ∇_in, s_in) = (s_in^2 + η)*(e_mat ⋅² ε)"
   ]
  },
  {
   "cell_type": "code",
   "execution_count": 18,
   "id": "7c9f4d54",
   "metadata": {},
   "outputs": [
    {
     "data": {
      "text/plain": [
       "D_piezoMod (generic function with 1 method)"
      ]
     },
     "execution_count": 18,
     "metadata": {},
     "output_type": "execute_result"
    }
   ],
   "source": [
    "D_piezo(∇) = K_mat ⋅ ∇\n",
    "\n",
    "function D_piezoMod(∇, s_in)   \n",
    "    return (s_in^2 + η)*D_piezo(∇)\n",
    "end"
   ]
  },
  {
   "cell_type": "code",
   "execution_count": 19,
   "id": "reflected-female",
   "metadata": {},
   "outputs": [
    {
     "data": {
      "text/plain": [
       "ψPos (generic function with 1 method)"
      ]
     },
     "execution_count": 19,
     "metadata": {},
     "output_type": "execute_result"
    }
   ],
   "source": [
    "function ψPos(ε_in, ∇_in)   \n",
    " if tr(ε_in) >= 0\n",
    "    ψPlus = 0.5*(ε_in ⊙ σ_elas(ε_in)) + 0.5*(σ_piezo(∇_in) ⊙ ε_in)\n",
    " elseif tr(ε_in) < 0\n",
    "    ψPlus = 0.5*((I4_dev ⊙ σ_elas(ε_in)) ⊙ (I4_dev ⊙ ε_in)) + 0.5*(σ_piezo(∇_in) ⊙ (I4_dev ⊙ ε_in))        \n",
    " end \n",
    "    return ψPlus\n",
    "end"
   ]
  },
  {
   "cell_type": "code",
   "execution_count": 20,
   "id": "6fce0388",
   "metadata": {},
   "outputs": [
    {
     "data": {
      "text/plain": [
       "new_EnergyState (generic function with 1 method)"
      ]
     },
     "execution_count": 20,
     "metadata": {},
     "output_type": "execute_result"
    }
   ],
   "source": [
    "function new_EnergyState(ψPlusPrev_in,ψhPos_in)\n",
    "  ψPlus_in = ψhPos_in\n",
    "  if ψPlus_in >= ψPlusPrev_in\n",
    "    ψPlus_out = ψPlus_in\n",
    "  else\n",
    "    ψPlus_out = ψPlusPrev_in\n",
    "  end\n",
    "  true,ψPlus_out\n",
    "end"
   ]
  },
  {
   "cell_type": "markdown",
   "id": "spare-throw",
   "metadata": {},
   "source": [
    "## FE formulation"
   ]
  },
  {
   "cell_type": "code",
   "execution_count": 21,
   "id": "tough-beast",
   "metadata": {},
   "outputs": [
    {
     "data": {
      "text/plain": [
       "project (generic function with 1 method)"
      ]
     },
     "execution_count": 21,
     "metadata": {},
     "output_type": "execute_result"
    }
   ],
   "source": [
    "function project(q,model,dΩ,order)\n",
    "  reffe = ReferenceFE(lagrangian,Float64,order)\n",
    "  V = FESpace(model,reffe,conformity=:L2)\n",
    "  a(u,v) = ∫( u*v )*dΩ\n",
    "  l(v) = ∫( v*q )*dΩ\n",
    "  op = AffineFEOperator(a,l,V,V)\n",
    "  qh = solve(op)\n",
    "  qh\n",
    "end"
   ]
  },
  {
   "cell_type": "code",
   "execution_count": 22,
   "id": "french-place",
   "metadata": {},
   "outputs": [
    {
     "data": {
      "text/plain": [
       "2"
      ]
     },
     "execution_count": 22,
     "metadata": {},
     "output_type": "execute_result"
    }
   ],
   "source": [
    "order = 1\n",
    "degree = 2*order"
   ]
  },
  {
   "cell_type": "code",
   "execution_count": 23,
   "id": "stuck-parent",
   "metadata": {},
   "outputs": [
    {
     "data": {
      "text/plain": [
       "Measure()"
      ]
     },
     "execution_count": 23,
     "metadata": {},
     "output_type": "execute_result"
    }
   ],
   "source": [
    "Ω = Triangulation(model)\n",
    "dΩ = Measure(Ω,degree)"
   ]
  },
  {
   "cell_type": "code",
   "execution_count": 24,
   "id": "focal-alliance",
   "metadata": {},
   "outputs": [
    {
     "data": {
      "text/plain": [
       "GenericCellField():\n",
       " num_cells: 33\n",
       " DomainStyle: ReferenceDomain()\n",
       " Triangulation: BoundaryTriangulation()\n",
       " Triangulation id: 1329469345924427074"
      ]
     },
     "execution_count": 24,
     "metadata": {},
     "output_type": "execute_result"
    }
   ],
   "source": [
    "LoadTagId = get_tag_from_name(labels,\"LoadLine\")\n",
    "Γ_Load = BoundaryTriangulation(model,tags = LoadTagId)\n",
    "dΓ_Load = Measure(Γ_Load,degree)\n",
    "n_Γ_Load = get_normal_vector(Γ_Load)"
   ]
  },
  {
   "cell_type": "code",
   "execution_count": 25,
   "id": "incorporated-decade",
   "metadata": {},
   "outputs": [
    {
     "data": {
      "text/plain": [
       "SingleFieldFEFunction():\n",
       " num_cells: 93696\n",
       " DomainStyle: ReferenceDomain()\n",
       " Triangulation: UnstructuredGrid()\n",
       " Triangulation id: 10715402184540810599"
      ]
     },
     "execution_count": 25,
     "metadata": {},
     "output_type": "execute_result"
    }
   ],
   "source": [
    "reffe_PF = ReferenceFE(lagrangian,Float64,order)\n",
    "V0_PF = TestFESpace(model,reffe_PF;\n",
    "  conformity=:H1)\n",
    "U_PF = TrialFESpace(V0_PF)\n",
    "sh = zero(V0_PF)"
   ]
  },
  {
   "cell_type": "code",
   "execution_count": 26,
   "id": "victorian-utilization",
   "metadata": {},
   "outputs": [
    {
     "data": {
      "text/plain": [
       "SingleFieldFEFunction():\n",
       " num_cells: 93696\n",
       " DomainStyle: ReferenceDomain()\n",
       " Triangulation: UnstructuredGrid()\n",
       " Triangulation id: 10715402184540810599"
      ]
     },
     "execution_count": 26,
     "metadata": {},
     "output_type": "execute_result"
    }
   ],
   "source": [
    "reffe_Disp = ReferenceFE(lagrangian,VectorValue{2,Float64},order)\n",
    "        V0_Disp = TestFESpace(model,reffe_Disp;\n",
    "          conformity=:H1,\n",
    "          dirichlet_tags=[\"DirichletLeft\",\"DirichletRight\",\"LoadLine\"],\n",
    "          dirichlet_masks=[(true,true), (false,true), (false,true)])\n",
    "\n",
    "uh = zero(V0_Disp)"
   ]
  },
  {
   "cell_type": "code",
   "execution_count": 27,
   "id": "unique-iceland",
   "metadata": {},
   "outputs": [
    {
     "data": {
      "text/plain": [
       "UnconstrainedFESpace()"
      ]
     },
     "execution_count": 27,
     "metadata": {},
     "output_type": "execute_result"
    }
   ],
   "source": [
    "reffe_ElecPot = ReferenceFE(lagrangian,Float64,order)\n",
    "V0_ElecPot  = TestFESpace(model,reffe_ElecPot;\n",
    "  conformity=:H1,\n",
    "  dirichlet_tags=[\"ElectricPotentialLeft\",\"ElectricPotentialRight\"])"
   ]
  },
  {
   "cell_type": "code",
   "execution_count": 28,
   "id": "accredited-startup",
   "metadata": {},
   "outputs": [
    {
     "data": {
      "text/plain": [
       "MultiFieldFESpace()"
      ]
     },
     "execution_count": 28,
     "metadata": {},
     "output_type": "execute_result"
    }
   ],
   "source": [
    "V0 = MultiFieldFESpace([V0_Disp,V0_ElecPot])"
   ]
  },
  {
   "cell_type": "code",
   "execution_count": 29,
   "id": "terminal-saint",
   "metadata": {},
   "outputs": [
    {
     "data": {
      "text/plain": [
       "stepPhaseField (generic function with 1 method)"
      ]
     },
     "execution_count": 29,
     "metadata": {},
     "output_type": "execute_result"
    }
   ],
   "source": [
    "function  stepPhaseField(uh_in,ψPlusPrev_in)\n",
    "        \n",
    "        a_PF(s,ϕ) = ∫( Gc*lsp*∇(ϕ)⋅ ∇(s) + 2*ψPlusPrev_in*s*ϕ  + (Gc/lsp)*s*ϕ )*dΩ\n",
    "        b_PF(ϕ) = ∫( (Gc/lsp)*ϕ )*dΩ\n",
    "        op_PF = AffineFEOperator(a_PF,b_PF,U_PF,V0_PF)\n",
    "        sh_out = solve(op_PF)           \n",
    "    \n",
    "    return sh_out\n",
    "    \n",
    "end"
   ]
  },
  {
   "cell_type": "code",
   "execution_count": 30,
   "id": "broadband-tracker",
   "metadata": {},
   "outputs": [
    {
     "data": {
      "text/plain": [
       "stepDispElecPot (generic function with 1 method)"
      ]
     },
     "execution_count": 30,
     "metadata": {},
     "output_type": "execute_result"
    }
   ],
   "source": [
    " function   stepDispElecPot(uh_in,phih_in,sh_in,vApp,phiApp)\n",
    "    \n",
    "        uApp1(x) = VectorValue(0.0,0.0)\n",
    "        uApp2(x) = VectorValue(0.0,0.0)\n",
    "        uApp3(x) = VectorValue(0.0,-vApp)\n",
    "        U_Disp = TrialFESpace(V0_Disp,[uApp1,uApp2,uApp3])\n",
    "    \n",
    "        phiApp1(x) = phiApp\n",
    "        phiApp2(x) = 0\n",
    "        U_ElecPot = TrialFESpace(V0_ElecPot,[phiApp1,phiApp2])\n",
    "    \n",
    "        U = MultiFieldFESpace([U_Disp,U_ElecPot])\n",
    "    \n",
    "        a((u,ϕ),(v,ψ)) = ∫( (ε(v) ⊙ (σ_elasMod∘(ε(u),ε(uh_in),sh_in))) + (∇(v) ⊙ (σ_piezoMod ∘(∇(ϕ),∇(phih_in),sh_in))) - (∇(ψ)⋅(D_piezoMod∘ (∇(ϕ),sh_in))) + (∇(ψ)⋅(D_elasMod∘(ε(u),∇(phih_in),sh_in))) )*dΩ\n",
    "        b((v,ψ)) = 0.0\n",
    "    \n",
    "        op = AffineFEOperator(a,b,U,V0)\n",
    "        uhPhi = solve(op)\n",
    "        uh_out,phih_out = uhPhi\n",
    "    \n",
    "    return uh_out,phih_out\n",
    "end"
   ]
  },
  {
   "cell_type": "code",
   "execution_count": 31,
   "id": "electoral-disability",
   "metadata": {
    "scrolled": true
   },
   "outputs": [
    {
     "name": "stdout",
     "output_type": "stream",
     "text": [
      "\n",
      " Entering displacemtent step1 :0.0\n",
      " Relative error = 2.9116980516226324e-17\n",
      " Entering displacemtent step2 :0.0\n",
      " Relative error = 5.088489564953543e-6\n",
      " Relative error = 1.5265234609904502e-5\n",
      " Relative error = 2.8374665125558778e-9"
     ]
    },
    {
     "ename": "LoadError",
     "evalue": "\u001b[91mInterruptException:\u001b[39m",
     "output_type": "error",
     "traceback": [
      "\u001b[91mInterruptException:\u001b[39m",
      "",
      "Stacktrace:",
      " [1] umfpack_numeric!(::SuiteSparse.UMFPACK.UmfpackLU{Float64,Int64}; reuse_numeric::Bool) at /buildworker/worker/package_linux64/build/usr/share/julia/stdlib/v1.5/SuiteSparse/src/umfpack.jl:327",
      " [2] umfpack_numeric! at /buildworker/worker/package_linux64/build/usr/share/julia/stdlib/v1.5/SuiteSparse/src/umfpack.jl:324 [inlined]",
      " [3] lu(::SparseArrays.SparseMatrixCSC{Float64,Int64}; check::Bool) at /buildworker/worker/package_linux64/build/usr/share/julia/stdlib/v1.5/SuiteSparse/src/umfpack.jl:161",
      " [4] lu at /buildworker/worker/package_linux64/build/usr/share/julia/stdlib/v1.5/SuiteSparse/src/umfpack.jl:155 [inlined]",
      " [5] numerical_setup at /home/akash/.julia/packages/Gridap/yyqf7/src/Algebra/LinearSolvers.jl:259 [inlined]",
      " [6] solve! at /home/akash/.julia/packages/Gridap/yyqf7/src/Algebra/LinearSolvers.jl:206 [inlined]",
      " [7] solve!(::Array{Float64,1}, ::LUSolver, ::Gridap.Algebra.AffineOperator{SparseArrays.SparseMatrixCSC{Float64,Int64},Array{Float64,1}}) at /home/akash/.julia/packages/Gridap/yyqf7/src/Algebra/NonlinearSolvers.jl:22",
      " [8] solve!(::Gridap.FESpaces.SingleFieldFEFunction{Gridap.CellData.GenericCellField{ReferenceDomain}}, ::LinearFESolver, ::AffineFEOperator, ::Nothing) at /home/akash/.julia/packages/Gridap/yyqf7/src/FESpaces/FESolvers.jl:97",
      " [9] solve!(::Gridap.FESpaces.SingleFieldFEFunction{Gridap.CellData.GenericCellField{ReferenceDomain}}, ::LinearFESolver, ::AffineFEOperator) at /home/akash/.julia/packages/Gridap/yyqf7/src/FESpaces/FESolvers.jl:14",
      " [10] solve(::LinearFESolver, ::AffineFEOperator) at /home/akash/.julia/packages/Gridap/yyqf7/src/FESpaces/FESolvers.jl:35",
      " [11] solve at /home/akash/.julia/packages/Gridap/yyqf7/src/FESpaces/FESolvers.jl:41 [inlined]",
      " [12] stepPhaseField(::Gridap.FESpaces.SingleFieldFEFunction{Gridap.CellData.GenericCellField{ReferenceDomain}}, ::Gridap.FESpaces.SingleFieldFEFunction{Gridap.CellData.GenericCellField{ReferenceDomain}}) at ./In[29]:6",
      " [13] top-level scope at ./In[31]:38",
      " [14] include_string(::Function, ::Module, ::String, ::String) at ./loading.jl:1091"
     ]
    }
   ],
   "source": [
    "vApp = 0\n",
    "phiApp = 0\n",
    "delv = 1e-4\n",
    "vAppMax = 0.005\n",
    "innerMax = 10\n",
    "count = 0\n",
    "\n",
    "Load = Float64[]\n",
    "Displacement = Float64[]\n",
    "\n",
    "ψPlusPrev = CellState(0.0,dΩ) \n",
    "sPrev = CellState(1.0,dΩ)\n",
    "sh = project(sPrev,model,dΩ,order)\n",
    "ϕPrev = CellState(0.0,dΩ)\n",
    "ϕh = project(ϕPrev,model,dΩ,order)\n",
    "\n",
    "\n",
    "while vApp .< vAppMax \n",
    "    count = count .+ 1\n",
    "    \n",
    "    if count <= 5\n",
    "        phiApp = phiApp + (phiMaxApp/5)\n",
    "        vApp = vApp\n",
    "    else\n",
    "        phiApp = phiMaxApp\n",
    "        vApp = vApp .+ delv\n",
    "    end\n",
    "    \n",
    "    print(\"\\n Entering displacemtent step$count :\", float(vApp))\n",
    "    \n",
    "   for inner = 1:innerMax   \n",
    "        \n",
    "        ψhPlusPrev = project(ψPlusPrev,model,dΩ,order)\n",
    "        \n",
    "        RelErr = abs(sum(∫( Gc*lsp*∇(sh)⋅ ∇(sh) + 2*ψhPlusPrev*sh*sh  + (Gc/lsp)*sh*sh)*dΩ - ∫( (Gc/lsp)*sh)*dΩ))/abs(sum(∫( (Gc/lsp)*sh)*dΩ))\n",
    "        print(\"\\n Relative error = \",float(RelErr))\n",
    "        \n",
    "        sh = stepPhaseField(uh,ψhPlusPrev) \n",
    "        uh,ϕh = stepDispElecPot(uh,ϕh,sh,vApp,phiApp)\n",
    "        \n",
    "        ψhPos_in = ψPos∘(ε(uh),∇(ϕh))      \n",
    "        \n",
    "        update_state!(new_EnergyState,ψPlusPrev,ψhPos_in)\n",
    "  \n",
    "        if RelErr < 1e-8\n",
    "            break \n",
    "        end      \n",
    "    end\n",
    "    \n",
    "    Node_Force = sum(∫( n_Γ_Load ⋅ (σ_elasMod∘(ε(uh),ε(uh),sh)) ) *dΓ_Load + ∫( n_Γ_Load ⋅ (σ_piezoMod∘(∇(ϕh),∇(ϕh),sh) ) )  *dΓ_Load)\n",
    "    \n",
    "    push!(Load, thickness*Node_Force[2])\n",
    "    push!(Displacement, vApp)\n",
    "    if mod(count,2) == 0\n",
    "         writevtk(Ω,\"results_4mmEccentricNotchedBeam$count\",cellfields=\n",
    "        [\"uh\"=>uh,\"s\"=>sh ,\"phi\"=>ϕh, \"epsi\"=>ε(uh)])\n",
    "    end\n",
    "end"
   ]
  },
  {
   "cell_type": "code",
   "execution_count": 32,
   "id": "disabled-stone",
   "metadata": {},
   "outputs": [
    {
     "data": {
      "text/plain": [
       "([\"results_4mmEccentricNotchedBeam2.vtu\"],)"
      ]
     },
     "execution_count": 32,
     "metadata": {},
     "output_type": "execute_result"
    }
   ],
   "source": [
    " writevtk(Ω,\"results_4mmEccentricNotchedBeam$count\",cellfields=\n",
    "        [\"uh\"=>uh,\"s\"=>sh ,\"phi\"=>ϕh, \"epsi\"=>ε(uh)])"
   ]
  },
  {
   "cell_type": "code",
   "execution_count": 33,
   "id": "colonial-infection",
   "metadata": {
    "scrolled": false
   },
   "outputs": [
    {
     "data": {
      "image/png": "[encoded data removed]",
      "text/plain": [
       "Figure(PyObject <Figure size 640x480 with 1 Axes>)"
      ]
     },
     "metadata": {},
     "output_type": "display_data"
    },
    {
     "data": {
      "text/plain": [
       "1-element Array{PyCall.PyObject,1}:\n",
       " PyObject <matplotlib.lines.Line2D object at 0x7f8f4d3fcfd0>"
      ]
     },
     "execution_count": 33,
     "metadata": {},
     "output_type": "execute_result"
    }
   ],
   "source": [
    "plot(Displacement,-Load)"
   ]
  },
  {
   "cell_type": "code",
   "execution_count": 34,
   "id": "human-hollywood",
   "metadata": {},
   "outputs": [
    {
     "data": {
      "text/plain": [
       "-4.822422361797794"
      ]
     },
     "execution_count": 34,
     "metadata": {},
     "output_type": "execute_result"
    }
   ],
   "source": [
    "maximum(-Load)"
   ]
  },
  {
   "cell_type": "code",
   "execution_count": 35,
   "id": "pointed-month",
   "metadata": {},
   "outputs": [],
   "source": [
    "cd(\"../DataLoadDispResult4mmEccentricNotchedBeam\")"
   ]
  },
  {
   "cell_type": "code",
   "execution_count": 36,
   "id": "adjustable-production",
   "metadata": {},
   "outputs": [],
   "source": [
    "using DelimitedFiles\n",
    "Disp = writedlm(\"DispDataResult4mmEccentricNotchedBeam$ElecF ls$lsp.csv\",  Displacement, ',')\n",
    "Force = writedlm(\"LoadDataResult4mmEccentricNotchedBeam$ElecF ls$lsp.csv\",  Load, ',')"
   ]
  }
 ],
 "metadata": {
  "@webio": {
   "lastCommId": null,
   "lastKernelId": null
  },
  "kernelspec": {
   "display_name": "Julia 1.5.4",
   "language": "julia",
   "name": "julia-1.5"
  },
  "language_info": {
   "file_extension": ".jl",
   "mimetype": "application/julia",
   "name": "julia",
   "version": "1.5.4"
  }
 },
 "nbformat": 4,
 "nbformat_minor": 5
}
