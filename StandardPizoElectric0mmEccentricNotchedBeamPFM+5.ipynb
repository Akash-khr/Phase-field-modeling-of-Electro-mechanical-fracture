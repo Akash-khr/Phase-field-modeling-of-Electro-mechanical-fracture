{
 "cells": [
  {
   "cell_type": "markdown",
   "id": "5a172ed2",
   "metadata": {},
   "source": [
    "### In case of positive hydrostatic strain i.e $\\text{tr}(\\boldsymbol{\\epsilon})\\geq 0$\n",
    "$\\langle p \\rangle_+ = p = \\boldsymbol{I}: \\boldsymbol{\\sigma}_{vol} = \\boldsymbol{I}: \\mathbb{I}_{vol}\\mathbb{C}  \\boldsymbol{\\epsilon}$    and      $\\langle p \\rangle_- = 0 $\n",
    "\n",
    "$\\mathbb{C}_{mod} = \\mathbb{C}_{+} = s^2\\left(\\mathbb{I}_{vol}\\mathbb{C} + \\mathbb{I}_{dev}\\mathbb{C}\\right) = s^2 \\mathbb{C}$\n",
    "\n",
    "### In case of negative hydrostatic strain $\\text{tr}(\\boldsymbol{\\epsilon})< 0$\n",
    "$\\langle p \\rangle_+ = 0 $   and    $\\langle p \\rangle_- = p =  \\boldsymbol{I}: \\boldsymbol{\\sigma}_{vol} = \\boldsymbol{I}:\\mathbb{I}_{vol}\\mathbb{C}  \\boldsymbol{\\epsilon}$\n",
    "\n",
    "$\\mathbb{C}_{mod} = \\mathbb{C}_{-} = s^2\\bigl(\\mathbb{I}_{dev}\\mathbb{C}\\bigr) + \\mathbb{I}_{vol}\\mathbb{C}$\n",
    "\n",
    " ## Strong Form in terms of $\\mathbb{C}_{mod}$ and $\\mathcal{H}(\\mathcal{E})$\n",
    " \n",
    " $\\nabla \\cdot \\boldsymbol{\\sigma} = {\\bf{0}}$\n",
    " \n",
    " $ \\nabla\\cdot \\boldsymbol{D}  = {0}$\n",
    "\n",
    " $ \\nabla \\cdot \\biggl(G_cl\\boldsymbol{A}\\nabla s\\biggr) - 2s\\mathcal{H}(\\mathcal{E})  + \\frac{G_c}{l}\\left(1-s\\right) = 0$\n",
    "\n",
    "where \n",
    "\n",
    "$\\boldsymbol{\\sigma} = \\biggl(\\mathbb{C}_{mod} \\boldsymbol{\\epsilon} -s^2\\mathbb{E}^T\\boldsymbol{E}\\biggr) $\n",
    "\n",
    "$\\boldsymbol{D} = \\biggr({s^2\\boldsymbol{K}\\boldsymbol{E}} +  s^2\\mathbb{E}\\boldsymbol{\\epsilon}\\biggl) $\n",
    "\n",
    "$\\mathcal{E} = \\frac{1}{2}\\biggl(\\langle p \\rangle_+\\boldsymbol{I}:\\mathbb{I}_{vol}\\boldsymbol{\\epsilon} + \\mathbb{I}_{dev}\\mathbb{C}\\boldsymbol{\\epsilon}:\\mathbb{I}_{dev}\\boldsymbol{\\epsilon} - 0.5 (\\overset{3}{\\mathbb{E}})^T\\boldsymbol{E}:\\boldsymbol{\\epsilon}^{+})$\n",
    "\n",
    "$\\mathcal{H}(f) = \\text{max}_{\\tau \\in [0,t]}f(\\tau)$"
   ]
  },
  {
   "cell_type": "markdown",
   "id": "26bc5576",
   "metadata": {},
   "source": [
    " # Weak Form\n",
    "\n",
    "### For Piezo-elasticity part\n",
    "\n",
    " $a_{\\text{EM}}((\\boldsymbol{u},\\varphi),(\\boldsymbol{v},\\gamma)) = \\int_{\\Omega}\\biggl(\\boldsymbol{\\epsilon}(\\boldsymbol{v}):\\left(\\mathbb{C}_{\\text{mod}}\\, \\boldsymbol{\\epsilon} \\,-\\,s^2(\\overset{3}{\\mathbb{E}})^T\\boldsymbol{E}(\\varphi)\\right) - \\boldsymbol{E}(\\gamma)\\cdot s^2\\bigl(\\boldsymbol{K}\\boldsymbol{E}(\\varphi) + \\, \\overset{3}{\\mathbb{E}}\\boldsymbol{\\epsilon}\\bigr)\\biggr) \\,d\\Omega$\n",
    " \n",
    " $b_{\\text{EM}}(\\boldsymbol{v}, \\gamma) = 0$\n",
    "\n",
    "### For phase-field part\n",
    " \n",
    "  $a_{\\text{PF}}(s,w) = \\int_{\\Omega}\\bigl(G_cl_s\\nabla s \\cdot \\nabla w + 2s w\\mathcal{H}(\\mathcal{E}) + \\frac{G_c}{l_s} s w\\bigr)\\,d\\Omega\\\\$\n",
    "  $b_{\\text{PF}}(w) = \\int_{\\Omega}w\\frac{G_c}{l_s} d\\Omega$"
   ]
  },
  {
   "cell_type": "code",
   "execution_count": 1,
   "id": "frank-charity",
   "metadata": {},
   "outputs": [],
   "source": [
    "using Gmsh: gmsh\n",
    "using GridapGmsh\n",
    "using Gridap\n",
    "using Gridap.TensorValues\n",
    "using PyPlot"
   ]
  },
  {
   "cell_type": "markdown",
   "id": "guided-cornell",
   "metadata": {},
   "source": [
    "## Definitions of Tensorial Quantities:\n",
    "\n",
    "$\\boldsymbol{I} = \\delta_{ij} \\boldsymbol{e}_i\\otimes\\boldsymbol{e}_j$\n",
    "\n",
    "$\\mathbb{I} = \\boldsymbol{I}\\otimes\\boldsymbol{I}$\n",
    "\n",
    "$\\mathbb{I}_{sym} = \\frac{1}{2}\\biggl(\\mathbb{I}+\\mathbb{I}^T\\biggr)$\n",
    "\n",
    "$\\mathbb{I}_{skw} = \\frac{1}{2}\\biggl(\\mathbb{I}-\\mathbb{I}^T\\biggr)$\n",
    "\n",
    "$\\mathbb{I}_{vol} = \\frac{1}{3}\\biggl(\\boldsymbol{I}\\otimes\\boldsymbol{I}\\biggr)$\n",
    "\n",
    "$\\mathbb{I}_{dev} = \\mathbb{I}_{sym} - \\mathbb{I}_{vol}$\n",
    "\n",
    "$\\boldsymbol{\\epsilon}_{vol} = \\frac{1}{3}\\text{tr}(\\boldsymbol{\\epsilon}) \\boldsymbol{I} = \\frac{1}{3}\\biggl(\\boldsymbol{\\epsilon}:\\boldsymbol{I}\\biggr)\\boldsymbol{I} = \\frac{1}{3}\\biggl(\\boldsymbol{I}\\otimes\\boldsymbol{I}\\biggr)\\boldsymbol{\\epsilon} = \\mathbb{I}_{vol} \\boldsymbol{\\epsilon} $\n",
    "\n",
    "$\\boldsymbol{\\epsilon}_{dev} = \\boldsymbol{\\epsilon} - \\boldsymbol{\\epsilon}_{vol} = \\biggl(\\mathbb{I}_{sym} -  \\mathbb{I}_{vol}\\biggl) \\boldsymbol{\\epsilon} = \\mathbb{I}_{dev} \\boldsymbol{\\epsilon}$\n",
    "\n",
    "$\\boldsymbol{\\sigma}_{vol} = p \\boldsymbol{I} = \\frac{1}{3}\\biggl(\\boldsymbol{\\sigma}:\\boldsymbol{I}\\biggr)\\boldsymbol{I} = \\frac{1}{3}\\biggl(\\boldsymbol{I}\\otimes\\boldsymbol{I}\\biggr)\\boldsymbol{\\sigma} = \\mathbb{I}_{vol} \\boldsymbol{\\sigma} = \\mathbb{I}_{vol}\\mathbb{C} \\boldsymbol{\\epsilon}$\n",
    "\n",
    "$\\boldsymbol{\\sigma}_{dev} = \\boldsymbol{\\sigma} - \\boldsymbol{\\sigma}_{vol} = \\biggl(\\mathbb{I}_{sym} -  \\mathbb{I}_{vol}\\biggl) \\boldsymbol{\\sigma} = \\mathbb{I}_{dev} \\boldsymbol{\\sigma}=\\mathbb{I}_{dev} \\mathbb{C} \\boldsymbol{\\epsilon}$"
   ]
  },
  {
   "cell_type": "code",
   "execution_count": 2,
   "id": "contained-intro",
   "metadata": {},
   "outputs": [
    {
     "data": {
      "text/plain": [
       "SymFourthOrderTensorValue{2,Float64,9}(0.6666666666666667, 0.0, -0.3333333333333333, 0.0, 0.5, 0.0, -0.3333333333333333, 0.0, 0.6666666666666667)"
      ]
     },
     "execution_count": 2,
     "metadata": {},
     "output_type": "execute_result"
    }
   ],
   "source": [
    "I2 = SymTensorValue{2,Float64}(1.0 ,0.0 ,1.0)\n",
    "I4 = I2⊗I2\n",
    "I4_sym = one(SymFourthOrderTensorValue{2,Float64})\n",
    "I4_vol = (1.0/3)*I4\n",
    "I4_dev = I4_sym  - I4_vol"
   ]
  },
  {
   "cell_type": "code",
   "execution_count": 3,
   "id": "municipal-incentive",
   "metadata": {},
   "outputs": [
    {
     "name": "stdout",
     "output_type": "stream",
     "text": [
      "Info    : Meshing 1D...\n",
      "Info    : Meshing curve 1 (Line)\n",
      "Info    : Meshing curve 2 (Line)\n",
      "Info    : Meshing curve 3 (Line)\n",
      "Info    : Meshing curve 4 (Line)\n",
      "Info    : Meshing curve 5 (Line)\n",
      "Info    : Meshing curve 6 (Line)\n",
      "Info    : Meshing curve 7 (Line)\n",
      "Info    : Meshing curve 8 (Line)\n",
      "Info    : Meshing curve 9 (Line)\n",
      "Info    : Meshing curve 10 (Line)\n",
      "Info    : Meshing curve 11 (Line)\n",
      "Info    : Meshing curve 12 (Line)\n",
      "Info    : Meshing curve 13 (Line)\n",
      "Info    : Done meshing 1D (0.002821 s)\n",
      "Info    : Meshing 2D...\n",
      "Info    : Meshing surface 1 (Plane, Delaunay)\n",
      "Info    : Done meshing 2D (0.371979 s)\n",
      "Info    : 15554 vertices 31119 elements\n",
      "Info    : Writing '0mmEccentricNotchedBeam.msh'...\n",
      "Info    : Done writing '0mmEccentricNotchedBeam.msh'\n"
     ]
    }
   ],
   "source": [
    "const L = 19.1\n",
    "const LL = L/2\n",
    "const SO = 1\n",
    "const SI = 0.05\n",
    "const H = 9\n",
    "const CH = 4       #Crack height\n",
    "const CW = 0.46    #Crack Width\n",
    "const lsp = 0.08   #length factor\n",
    "const hf = 0.06/2.1#Mesh size parameter\n",
    "const hfc = 0.06/50#Mesh size parameter\n",
    "const h = 50*hf    #Mesh size parameter\n",
    "const LW = CW\n",
    "const FMR = CW/2\n",
    "\n",
    "gmsh.initialize()\n",
    "gmsh.option.setNumber(\"General.Terminal\", 1)\n",
    "p1 = gmsh.model.geo.addPoint(0.0, 0.0, 0.0, h)\n",
    "p2 = gmsh.model.geo.addPoint(SO, 0, 0.0, h)\n",
    "p3 = gmsh.model.geo.addPoint(LL-0.5*CW, 0, 0.0, h)\n",
    "p4 = gmsh.model.geo.addPoint(LL-0.5*CW, CH-0.5*CW, 0.0, h)\n",
    "p5 = gmsh.model.geo.addPoint(LL, CH, 0.0, hfc)\n",
    "p6 = gmsh.model.geo.addPoint(LL+0.5*CW, CH-0.5*CW, 0.0, h)\n",
    "p7 = gmsh.model.geo.addPoint(LL+0.5*CW,0.0, 0.0, h)\n",
    "p8 = gmsh.model.geo.addPoint(L-SO,0.0, 0.0, h)\n",
    "p9 = gmsh.model.geo.addPoint(L,0.0, 0.0, h)\n",
    "p10 = gmsh.model.geo.addPoint(L, H, 0.0, h)\n",
    "p11 = gmsh.model.geo.addPoint((L/2)+LW, H , 0.0, h)\n",
    "p12 = gmsh.model.geo.addPoint((L/2)-LW, H , 0.0, h)\n",
    "p13 = gmsh.model.geo.addPoint(0, H , 0.0, h)\n",
    "\n",
    "l1 = gmsh.model.geo.addLine(p1, p2)\n",
    "l2 = gmsh.model.geo.addLine(p2, p3)\n",
    "l3 = gmsh.model.geo.addLine(p3, p4)\n",
    "l4 = gmsh.model.geo.addLine(p4, p5)\n",
    "l5 = gmsh.model.geo.addLine(p5, p6)\n",
    "l6 = gmsh.model.geo.addLine(p6, p7)\n",
    "l7 = gmsh.model.geo.addLine(p7, p8)\n",
    "l8 = gmsh.model.geo.addLine(p8, p9)\n",
    "l9 = gmsh.model.geo.addLine(p9, p10)\n",
    "l10 = gmsh.model.geo.addLine(p10, p11)\n",
    "l11 = gmsh.model.geo.addLine(p11, p12)\n",
    "l12 = gmsh.model.geo.addLine(p12, p13)\n",
    "l13 = gmsh.model.geo.addLine(p13, p1)                 \n",
    "\n",
    "cl1 = gmsh.model.geo.addCurveLoop([l1,l2,l3,l4,l5,l6,l7,l8,l9,l10,l11,l12,l13]) \n",
    "\n",
    "ps1 = gmsh.model.geo.addPlaneSurface([cl1])\n",
    "\n",
    "pg1 = gmsh.model.addPhysicalGroup(2, [ps1])\n",
    "\n",
    "pg2 = gmsh.model.addPhysicalGroup(0, [p2])\n",
    "pg3 = gmsh.model.addPhysicalGroup(0, [p8])\n",
    "pg4 = gmsh.model.addPhysicalGroup(1, [l11])\n",
    "pg5 = gmsh.model.addPhysicalGroup(1, [l13])\n",
    "pg6 = gmsh.model.addPhysicalGroup(1, [l9])\n",
    "\n",
    "gmsh.model.setPhysicalName(2, pg1, \"Domain\")\n",
    "gmsh.model.setPhysicalName(0, pg2, \"DirichletLeft\")\n",
    "gmsh.model.setPhysicalName(0, pg3, \"DirichletRight\")\n",
    "gmsh.model.setPhysicalName(1, pg4, \"LoadLine\")\n",
    "gmsh.model.setPhysicalName(1, pg5, \"ElectricPotentialLeft\")\n",
    "gmsh.model.setPhysicalName(1, pg6, \"ElectricPotentialRight\")\n",
    "\n",
    "gmsh.model.mesh.field.add(\"Box\", 11)\n",
    "gmsh.model.mesh.field.setNumber(11, \"VIn\", hf)\n",
    "gmsh.model.mesh.field.setNumber(11, \"VOut\", h)\n",
    "gmsh.model.mesh.field.setNumber(11, \"XMin\", (LL-5*FMR))\n",
    "gmsh.model.mesh.field.setNumber(11, \"XMax\", ((L/2)+LW+2*FMR))\n",
    "gmsh.model.mesh.field.setNumber(11, \"YMin\", 0.95*CH)\n",
    "gmsh.model.mesh.field.setNumber(11, \"YMax\", H)\n",
    "\n",
    "gmsh.model.mesh.field.setAsBackgroundMesh(11)\n",
    "\n",
    "gmsh.model.geo.synchronize()\n",
    "gmsh.model.mesh.generate(2)\n",
    "gmsh.write(\"0mmEccentricNotchedBeam.msh\")\n",
    "gmsh.finalize()"
   ]
  },
  {
   "cell_type": "code",
   "execution_count": 4,
   "id": "dangerous-preference",
   "metadata": {},
   "outputs": [
    {
     "name": "stdout",
     "output_type": "stream",
     "text": [
      "Info    : Reading '0mmEccentricNotchedBeam.msh'...\n",
      "Info    : 27 entities\n",
      "Info    : 15554 nodes\n",
      "Info    : 31005 elements\n",
      "Info    : Done reading '0mmEccentricNotchedBeam.msh'\n"
     ]
    },
    {
     "data": {
      "text/plain": [
       "3-element Array{Array{String,1},1}:\n",
       " [\"0mmEccentricNotchedBeam_0.vtu\"]\n",
       " [\"0mmEccentricNotchedBeam_1.vtu\"]\n",
       " [\"0mmEccentricNotchedBeam_2.vtu\"]"
      ]
     },
     "execution_count": 4,
     "metadata": {},
     "output_type": "execute_result"
    }
   ],
   "source": [
    "model = GmshDiscreteModel(\"0mmEccentricNotchedBeam.msh\")\n",
    "writevtk(model,\"0mmEccentricNotchedBeam\")"
   ]
  },
  {
   "cell_type": "code",
   "execution_count": 5,
   "id": "1ccc7309",
   "metadata": {},
   "outputs": [
    {
     "data": {
      "text/plain": [
       "5.1"
      ]
     },
     "execution_count": 5,
     "metadata": {},
     "output_type": "execute_result"
    }
   ],
   "source": [
    "ElecF = 5\n",
    "phiMaxApp = (ElecF/10)*L*1e3\n",
    "thickness = 5.1"
   ]
  },
  {
   "cell_type": "code",
   "execution_count": 6,
   "id": "bd6fbf65",
   "metadata": {},
   "outputs": [],
   "source": [
    "cd(\"Result0mmEccentricNotchedBeamElecField$ElecF\")"
   ]
  },
  {
   "cell_type": "code",
   "execution_count": 7,
   "id": "meaningful-haven",
   "metadata": {
    "scrolled": false
   },
   "outputs": [
    {
     "data": {
      "text/plain": [
       "30956-element Array{Int8,1}:\n",
       " 6\n",
       " 6\n",
       " 6\n",
       " 6\n",
       " 6\n",
       " 6\n",
       " 6\n",
       " 6\n",
       " 6\n",
       " 6\n",
       " 6\n",
       " 6\n",
       " 6\n",
       " ⋮\n",
       " 6\n",
       " 6\n",
       " 6\n",
       " 6\n",
       " 6\n",
       " 6\n",
       " 6\n",
       " 6\n",
       " 6\n",
       " 6\n",
       " 6\n",
       " 6"
      ]
     },
     "execution_count": 7,
     "metadata": {},
     "output_type": "execute_result"
    }
   ],
   "source": [
    "using Gridap.Geometry\n",
    "labels = get_face_labeling(model)\n",
    "dimension = 2\n",
    "mat_tags = get_face_tag(labels,dimension)"
   ]
  },
  {
   "cell_type": "code",
   "execution_count": 8,
   "id": "forty-hollow",
   "metadata": {},
   "outputs": [
    {
     "data": {
      "text/plain": [
       "6"
      ]
     },
     "execution_count": 8,
     "metadata": {},
     "output_type": "execute_result"
    }
   ],
   "source": [
    "const Mat_tag = get_tag_from_name(labels,\"Domain\")"
   ]
  },
  {
   "cell_type": "markdown",
   "id": "roman-infrastructure",
   "metadata": {},
   "source": [
    "## Input paramters for Piezo-Electric Material Properties"
   ]
  },
  {
   "cell_type": "markdown",
   "id": "foreign-anderson",
   "metadata": {},
   "source": [
    "#### Input elasticity parameters"
   ]
  },
  {
   "cell_type": "code",
   "execution_count": 9,
   "id": "healthy-grave",
   "metadata": {},
   "outputs": [
    {
     "data": {
      "text/plain": [
       "30600.0"
      ]
     },
     "execution_count": 9,
     "metadata": {},
     "output_type": "execute_result"
    }
   ],
   "source": [
    "const λ_mat = 77.8e3 \n",
    "const μ_mat = 30.6e3"
   ]
  },
  {
   "cell_type": "markdown",
   "id": "global-client",
   "metadata": {},
   "source": [
    "#### Input piezo-electric parameters"
   ]
  },
  {
   "cell_type": "code",
   "execution_count": null,
   "id": "intensive-captain",
   "metadata": {},
   "outputs": [],
   "source": [
    "const C1 = -6.98e-3\n",
    "const C2 = -6.06e-3\n",
    "const C3 = 16.00e-3"
   ]
  },
  {
   "cell_type": "markdown",
   "id": "running-anxiety",
   "metadata": {},
   "source": [
    "#### Input permitivity parameters"
   ]
  },
  {
   "cell_type": "code",
   "execution_count": 10,
   "id": "otherwise-newman",
   "metadata": {},
   "outputs": [
    {
     "data": {
      "text/plain": [
       "6.0e-9"
      ]
     },
     "execution_count": 10,
     "metadata": {},
     "output_type": "execute_result"
    }
   ],
   "source": [
    "const K₁₁_mat = 6e-9\n",
    "const K₂₂_mat = 6e-9"
   ]
  },
  {
   "cell_type": "markdown",
   "id": "superior-compensation",
   "metadata": {},
   "source": [
    "#### Input fracture parameters"
   ]
  },
  {
   "cell_type": "code",
   "execution_count": 11,
   "id": "acute-carry",
   "metadata": {},
   "outputs": [
    {
     "data": {
      "text/plain": [
       "1.0e-10"
      ]
     },
     "execution_count": 11,
     "metadata": {},
     "output_type": "execute_result"
    }
   ],
   "source": [
    "const Gc = 7e-3\n",
    "const η = 1e-10"
   ]
  },
  {
   "cell_type": "markdown",
   "id": "private-nebraska",
   "metadata": {},
   "source": [
    "### Third order piezoelectric tensor"
   ]
  },
  {
   "cell_type": "code",
   "execution_count": 12,
   "id": "conventional-purse",
   "metadata": {},
   "outputs": [
    {
     "data": {
      "text/plain": [
       "2×2 Array{Float64,2}:\n",
       " 0.00296   0.0\n",
       " 0.0      -0.00698"
      ]
     },
     "execution_count": 12,
     "metadata": {},
     "output_type": "execute_result"
    }
   ],
   "source": [
    "p = VectorValue(1,0)\n",
    "I = [1 0; 0 1]\n",
    "K1 = zeros(2,2,2)\n",
    "K2 = zeros(2,2,2)\n",
    "K3 = zeros(2,2,2)\n",
    "for i = 1:2, j = 1:2, k= 1:2\n",
    "    K1[i,j,k] = p[i]*I[j,k]\n",
    "end\n",
    "for i = 1:2, j = 1:2, k= 1:2\n",
    "    K2[i,j,k] = p[i]*p[j]*p[k]\n",
    "end\n",
    "for i = 1:2, j = 1:2, k= 1:2\n",
    "    K3[i,j,k] = 0.5*(p[j]*I[i,k] + p[k]*I[i,j])\n",
    "end\n",
    "K = C1*K1+C2*K2+C3*K3\n",
    "const e_mat = ThirdOrderTensorValue(K)"
   ]
  },
  {
   "cell_type": "markdown",
   "id": "better-reminder",
   "metadata": {},
   "source": [
    "### Second order electrical permittivity tensor"
   ]
  },
  {
   "cell_type": "code",
   "execution_count": 14,
   "id": "developing-foundation",
   "metadata": {},
   "outputs": [
    {
     "data": {
      "text/plain": [
       "TensorValue{2,2,Float64,4}(6.0e-9, 0.0, 0.0, 6.0e-9)"
      ]
     },
     "execution_count": 14,
     "metadata": {},
     "output_type": "execute_result"
    }
   ],
   "source": [
    "const K_mat = TensorValue(K₁₁_mat,0.0,0.0, K₁₁_mat)"
   ]
  },
  {
   "cell_type": "markdown",
   "id": "nutritional-oliver",
   "metadata": {},
   "source": [
    "## Stress\n",
    "\n",
    "$\\sigma_{elas}(\\epsilon(\\boldsymbol{u})) =  \\mathbb{C}\\,\\boldsymbol{\\epsilon}$\n",
    "\n",
    "$\\sigma_{elasMod}(\\epsilon(\\boldsymbol{u}),s) =  \\mathbb{C}_{mod}\\,\\boldsymbol{\\epsilon}$\n",
    "\n",
    "$\\sigma_{piezo}(\\boldsymbol{E}(\\phi)) = - \\mathbb{E}^T\\,\\boldsymbol{E}$\n",
    "\n",
    "or, $\\sigma_{piezo}(\\nabla\\phi) =  \\mathbb{E}^T\\,\\boldsymbol{\\nabla}\\phi$\n",
    "\n",
    "$\\sigma_{piezoMod}(\\nabla\\phi,s) =  s^2\\mathbb{E}^T\\,\\boldsymbol{\\nabla}\\phi$"
   ]
  },
  {
   "cell_type": "code",
   "execution_count": 15,
   "id": "built-universe",
   "metadata": {},
   "outputs": [
    {
     "data": {
      "text/plain": [
       "σ_elasMod (generic function with 1 method)"
      ]
     },
     "execution_count": 15,
     "metadata": {},
     "output_type": "execute_result"
    }
   ],
   "source": [
    "σ_elas(ε) = λ_mat*tr(ε)*one(ε) + 2*μ_mat*ε\n",
    "\n",
    "function σ_elasMod(ε, ε_in, s_in)  \n",
    " if tr(ε_in)  >= 0\n",
    "      σ = (s_in^2 + η)*σ_elas(ε)\n",
    "  elseif tr(ε_in) < 0\n",
    "      σ = (s_in^2 + η)*I4_dev ⊙ σ_elas(ε) + I4_vol⊙ σ_elas(ε)\n",
    "  end  \n",
    "    return σ\n",
    "end"
   ]
  },
  {
   "cell_type": "code",
   "execution_count": 16,
   "id": "bc56b220",
   "metadata": {},
   "outputs": [
    {
     "data": {
      "text/plain": [
       "σ_piezoMod (generic function with 1 method)"
      ]
     },
     "execution_count": 16,
     "metadata": {},
     "output_type": "execute_result"
    }
   ],
   "source": [
    "σ_piezo(∇) = ∇ ⋅ e_mat\n",
    "\n",
    "σ_piezoMod(∇, ∇_in, s_in) = (s_in^2 + η)*σ_piezo(∇)"
   ]
  },
  {
   "cell_type": "markdown",
   "id": "average-petroleum",
   "metadata": {},
   "source": [
    "### Electric Displacement\n",
    "\n",
    "$\\boldsymbol{D}_{elas}(ε(\\boldsymbol{u}),tag) = \\mathbb{E}\\boldsymbol{\\epsilon}$\n",
    "\n",
    "$\\boldsymbol{D}_{elasMod}(ε(\\boldsymbol{u}),s,tag) = s^2\\mathbb{E}\\boldsymbol{\\epsilon}$\n",
    "\n",
    "$\\boldsymbol{D}_{piezo}(\\boldsymbol{E}(\\phi)) = -\\boldsymbol{K}\\boldsymbol{E} $\n",
    "\n",
    "or, $\\boldsymbol{D}_{piezo}(\\nabla\\phi)  = \\boldsymbol{K}\\boldsymbol{\\nabla} \\phi$\n",
    "\n",
    "$\\boldsymbol{D}_{piezoMod}(\\nabla\\phi,s)  = s^2\\boldsymbol{K}\\boldsymbol{\\nabla} \\phi$"
   ]
  },
  {
   "cell_type": "code",
   "execution_count": 17,
   "id": "f5be4d33",
   "metadata": {},
   "outputs": [
    {
     "data": {
      "text/plain": [
       "D_elasMod (generic function with 1 method)"
      ]
     },
     "execution_count": 17,
     "metadata": {},
     "output_type": "execute_result"
    }
   ],
   "source": [
    "D_elasMod(ε, ∇_in, s_in) = (s_in^2 + η)*(e_mat ⋅² ε)"
   ]
  },
  {
   "cell_type": "code",
   "execution_count": 18,
   "id": "7c9f4d54",
   "metadata": {},
   "outputs": [
    {
     "data": {
      "text/plain": [
       "D_piezoMod (generic function with 1 method)"
      ]
     },
     "execution_count": 18,
     "metadata": {},
     "output_type": "execute_result"
    }
   ],
   "source": [
    "D_piezo(∇) = K_mat ⋅ ∇\n",
    "\n",
    "function D_piezoMod(∇, s_in)   \n",
    "    return (s_in^2 + η)*D_piezo(∇)\n",
    "end"
   ]
  },
  {
   "cell_type": "code",
   "execution_count": 19,
   "id": "reflected-female",
   "metadata": {},
   "outputs": [
    {
     "data": {
      "text/plain": [
       "ψPos (generic function with 1 method)"
      ]
     },
     "execution_count": 19,
     "metadata": {},
     "output_type": "execute_result"
    }
   ],
   "source": [
    "function ψPos(ε_in, ∇_in)   \n",
    " if tr(ε_in) >= 0\n",
    "    ψPlus = 0.5*(ε_in ⊙ σ_elas(ε_in)) + 0.5*(σ_piezo(∇_in) ⊙ ε_in)\n",
    " elseif tr(ε_in) < 0\n",
    "    ψPlus = 0.5*((I4_dev ⊙ σ_elas(ε_in)) ⊙ (I4_dev ⊙ ε_in)) + 0.5*(σ_piezo(∇_in) ⊙ (I4_dev ⊙ ε_in))        \n",
    " end \n",
    "    return ψPlus\n",
    "end"
   ]
  },
  {
   "cell_type": "code",
   "execution_count": 20,
   "id": "6fce0388",
   "metadata": {},
   "outputs": [
    {
     "data": {
      "text/plain": [
       "new_EnergyState (generic function with 1 method)"
      ]
     },
     "execution_count": 20,
     "metadata": {},
     "output_type": "execute_result"
    }
   ],
   "source": [
    "function new_EnergyState(ψPlusPrev_in,ψhPos_in)\n",
    "  ψPlus_in = ψhPos_in\n",
    "  if ψPlus_in >= ψPlusPrev_in\n",
    "    ψPlus_out = ψPlus_in\n",
    "  else\n",
    "    ψPlus_out = ψPlusPrev_in\n",
    "  end\n",
    "  true,ψPlus_out\n",
    "end"
   ]
  },
  {
   "cell_type": "markdown",
   "id": "spare-throw",
   "metadata": {},
   "source": [
    "## FE formulation"
   ]
  },
  {
   "cell_type": "code",
   "execution_count": 21,
   "id": "tough-beast",
   "metadata": {},
   "outputs": [
    {
     "data": {
      "text/plain": [
       "project (generic function with 1 method)"
      ]
     },
     "execution_count": 21,
     "metadata": {},
     "output_type": "execute_result"
    }
   ],
   "source": [
    "function project(q,model,dΩ,order)\n",
    "  reffe = ReferenceFE(lagrangian,Float64,order)\n",
    "  V = FESpace(model,reffe,conformity=:L2)\n",
    "  a(u,v) = ∫( u*v )*dΩ\n",
    "  l(v) = ∫( v*q )*dΩ\n",
    "  op = AffineFEOperator(a,l,V,V)\n",
    "  qh = solve(op)\n",
    "  qh\n",
    "end"
   ]
  },
  {
   "cell_type": "code",
   "execution_count": 22,
   "id": "french-place",
   "metadata": {},
   "outputs": [
    {
     "data": {
      "text/plain": [
       "2"
      ]
     },
     "execution_count": 22,
     "metadata": {},
     "output_type": "execute_result"
    }
   ],
   "source": [
    "order = 1\n",
    "degree = 2*order"
   ]
  },
  {
   "cell_type": "code",
   "execution_count": 23,
   "id": "stuck-parent",
   "metadata": {},
   "outputs": [
    {
     "data": {
      "text/plain": [
       "Measure()"
      ]
     },
     "execution_count": 23,
     "metadata": {},
     "output_type": "execute_result"
    }
   ],
   "source": [
    "Ω = Triangulation(model)\n",
    "dΩ = Measure(Ω,degree)"
   ]
  },
  {
   "cell_type": "code",
   "execution_count": 24,
   "id": "focal-alliance",
   "metadata": {},
   "outputs": [
    {
     "data": {
      "text/plain": [
       "GenericCellField():\n",
       " num_cells: 33\n",
       " DomainStyle: ReferenceDomain()\n",
       " Triangulation: BoundaryTriangulation()\n",
       " Triangulation id: 5730829375451143815"
      ]
     },
     "execution_count": 24,
     "metadata": {},
     "output_type": "execute_result"
    }
   ],
   "source": [
    "LoadTagId = get_tag_from_name(labels,\"LoadLine\")\n",
    "Γ_Load = BoundaryTriangulation(model,tags = LoadTagId)\n",
    "dΓ_Load = Measure(Γ_Load,degree)\n",
    "n_Γ_Load = get_normal_vector(Γ_Load)"
   ]
  },
  {
   "cell_type": "code",
   "execution_count": 25,
   "id": "incorporated-decade",
   "metadata": {},
   "outputs": [
    {
     "data": {
      "text/plain": [
       "SingleFieldFEFunction():\n",
       " num_cells: 30956\n",
       " DomainStyle: ReferenceDomain()\n",
       " Triangulation: UnstructuredGrid()\n",
       " Triangulation id: 17916410245152042359"
      ]
     },
     "execution_count": 25,
     "metadata": {},
     "output_type": "execute_result"
    }
   ],
   "source": [
    "reffe_PF = ReferenceFE(lagrangian,Float64,order)\n",
    "V0_PF = TestFESpace(model,reffe_PF;\n",
    "  conformity=:H1)\n",
    "U_PF = TrialFESpace(V0_PF)\n",
    "sh = zero(V0_PF)"
   ]
  },
  {
   "cell_type": "code",
   "execution_count": 26,
   "id": "victorian-utilization",
   "metadata": {},
   "outputs": [
    {
     "data": {
      "text/plain": [
       "SingleFieldFEFunction():\n",
       " num_cells: 30956\n",
       " DomainStyle: ReferenceDomain()\n",
       " Triangulation: UnstructuredGrid()\n",
       " Triangulation id: 17916410245152042359"
      ]
     },
     "execution_count": 26,
     "metadata": {},
     "output_type": "execute_result"
    }
   ],
   "source": [
    "reffe_Disp = ReferenceFE(lagrangian,VectorValue{2,Float64},order)\n",
    "        V0_Disp = TestFESpace(model,reffe_Disp;\n",
    "          conformity=:H1,\n",
    "          dirichlet_tags=[\"DirichletLeft\",\"DirichletRight\",\"LoadLine\"],\n",
    "          dirichlet_masks=[(true,true), (false,true), (false,true)])\n",
    "\n",
    "uh = zero(V0_Disp)"
   ]
  },
  {
   "cell_type": "code",
   "execution_count": 27,
   "id": "unique-iceland",
   "metadata": {},
   "outputs": [
    {
     "data": {
      "text/plain": [
       "UnconstrainedFESpace()"
      ]
     },
     "execution_count": 27,
     "metadata": {},
     "output_type": "execute_result"
    }
   ],
   "source": [
    "reffe_ElecPot = ReferenceFE(lagrangian,Float64,order)\n",
    "V0_ElecPot  = TestFESpace(model,reffe_ElecPot;\n",
    "  conformity=:H1,\n",
    "  dirichlet_tags=[\"ElectricPotentialLeft\",\"ElectricPotentialRight\"])"
   ]
  },
  {
   "cell_type": "code",
   "execution_count": 28,
   "id": "accredited-startup",
   "metadata": {},
   "outputs": [
    {
     "data": {
      "text/plain": [
       "MultiFieldFESpace()"
      ]
     },
     "execution_count": 28,
     "metadata": {},
     "output_type": "execute_result"
    }
   ],
   "source": [
    "V0 = MultiFieldFESpace([V0_Disp,V0_ElecPot])"
   ]
  },
  {
   "cell_type": "code",
   "execution_count": 29,
   "id": "terminal-saint",
   "metadata": {},
   "outputs": [
    {
     "data": {
      "text/plain": [
       "stepPhaseField (generic function with 1 method)"
      ]
     },
     "execution_count": 29,
     "metadata": {},
     "output_type": "execute_result"
    }
   ],
   "source": [
    "function  stepPhaseField(uh_in,ψPlusPrev_in)\n",
    "        \n",
    "        a_PF(s,ϕ) = ∫( Gc*lsp*∇(ϕ)⋅ ∇(s) + 2*ψPlusPrev_in*s*ϕ  + (Gc/lsp)*s*ϕ )*dΩ\n",
    "        b_PF(ϕ) = ∫( (Gc/lsp)*ϕ )*dΩ\n",
    "        op_PF = AffineFEOperator(a_PF,b_PF,U_PF,V0_PF)\n",
    "        sh_out = solve(op_PF)           \n",
    "    \n",
    "    return sh_out\n",
    "    \n",
    "end"
   ]
  },
  {
   "cell_type": "code",
   "execution_count": 30,
   "id": "broadband-tracker",
   "metadata": {},
   "outputs": [
    {
     "data": {
      "text/plain": [
       "stepDispElecPot (generic function with 1 method)"
      ]
     },
     "execution_count": 30,
     "metadata": {},
     "output_type": "execute_result"
    }
   ],
   "source": [
    " function   stepDispElecPot(uh_in,phih_in,sh_in,vApp,phiApp)\n",
    "    \n",
    "        uApp1(x) = VectorValue(0.0,0.0)\n",
    "        uApp2(x) = VectorValue(0.0,0.0)\n",
    "        uApp3(x) = VectorValue(0.0,-vApp)\n",
    "        U_Disp = TrialFESpace(V0_Disp,[uApp1,uApp2,uApp3])\n",
    "    \n",
    "        phiApp1(x) = phiApp\n",
    "        phiApp2(x) = 0\n",
    "        U_ElecPot = TrialFESpace(V0_ElecPot,[phiApp1,phiApp2])\n",
    "    \n",
    "        U = MultiFieldFESpace([U_Disp,U_ElecPot])\n",
    "    \n",
    "        a((u,ϕ),(v,ψ)) = ∫( (ε(v) ⊙ (σ_elasMod∘(ε(u),ε(uh_in),sh_in))) + (∇(v) ⊙ (σ_piezoMod ∘(∇(ϕ),∇(phih_in),sh_in))) - (∇(ψ)⋅(D_piezoMod∘ (∇(ϕ),sh_in))) + (∇(ψ)⋅(D_elasMod∘(ε(u),∇(phih_in),sh_in))) )*dΩ\n",
    "        b((v,ψ)) = 0.0\n",
    "    \n",
    "        op = AffineFEOperator(a,b,U,V0)\n",
    "        uhPhi = solve(op)\n",
    "        uh_out,phih_out = uhPhi\n",
    "    \n",
    "    return uh_out,phih_out\n",
    "end"
   ]
  },
  {
   "cell_type": "code",
   "execution_count": 31,
   "id": "electoral-disability",
   "metadata": {
    "scrolled": true
   },
   "outputs": [
    {
     "name": "stdout",
     "output_type": "stream",
     "text": [
      "\n",
      " Entering displacemtent step1 :0.0\n",
      " Relative error = 2.5435926229585642e-17\n",
      " Entering displacemtent step2 :0.0\n",
      " Relative error = 1.5610373795719547e-5\n",
      " Relative error = 4.68312879226746e-5\n",
      " Relative error = 3.574303828247267e-8\n",
      " Relative error = 5.831342518343618e-11\n",
      " Entering displacemtent step3 :0.0\n",
      " Relative error = 1.447230259729734e-13\n",
      " Entering displacemtent step4 :0.0\n",
      " Relative error = 7.802965668971193e-5\n",
      " Relative error = 0.00010933212704636173\n",
      " Relative error = 3.343596446856738e-7\n",
      " Relative error = 2.1977647101119347e-9\n",
      " Entering displacemtent step5 :0.0\n",
      " Relative error = 2.199782925520277e-11\n",
      " Entering displacemtent step6 :0.0001\n",
      " Relative error = 0.00014031669501478043\n",
      " Relative error = 1.3919978862077866e-6\n",
      " Relative error = 2.5317581976544036e-10\n",
      " Entering displacemtent step7 :0.0002\n",
      " Relative error = 4.688880636546511e-14\n",
      " Entering displacemtent step8 :0.00030000000000000003\n",
      " Relative error = 1.5819704595049044e-6\n",
      " Relative error = 2.327322058776392e-6\n",
      " Relative error = 1.0461862781490288e-9\n",
      " Entering displacemtent step9 :0.0004\n",
      " Relative error = 6.245848159942806e-14\n",
      " Entering displacemtent step10 :0.0005\n",
      " Relative error = 4.688731821845717e-6\n",
      " Relative error = 8.517115021650385e-6\n",
      " Relative error = 7.435913105200774e-9\n",
      " Entering displacemtent step11 :0.0006000000000000001\n",
      " Relative error = 8.084609698840496e-13\n",
      " Entering displacemtent step12 :0.0007000000000000001\n",
      " Relative error = 1.73414788161325e-5\n",
      " Relative error = 3.0520371101351755e-5\n",
      " Relative error = 8.619988462402515e-8\n",
      " Relative error = 6.362156664053658e-10\n",
      " Entering displacemtent step13 :0.0008000000000000001\n",
      " Relative error = 9.255377121452676e-12\n",
      " Entering displacemtent step14 :0.0009000000000000002\n",
      " Relative error = 4.807855320687797e-5\n",
      " Relative error = 6.488017163397556e-5\n",
      " Relative error = 3.6435254256329355e-7\n",
      " Relative error = 1.3161383774108517e-8\n",
      " Relative error = 6.643065028816252e-10\n",
      " Entering displacemtent step15 :0.0010000000000000002\n",
      " Relative error = 3.381857477747146e-11\n",
      " Entering displacemtent step16 :0.0011000000000000003\n",
      " Relative error = 7.798150646017423e-5\n",
      " Relative error = 8.986324494166612e-5\n",
      " Relative error = 8.219310810520447e-7\n",
      " Relative error = 5.7269406427614246e-8\n",
      " Relative error = 5.381710912465167e-9\n",
      " Entering displacemtent step17 :0.0012000000000000003\n",
      " Relative error = 5.130051175732598e-10\n",
      " Entering displacemtent step18 :0.0013000000000000004\n",
      " Relative error = 9.891153872427773e-5\n",
      " Relative error = 0.00010861493531514754\n",
      " Relative error = 1.4968368516182114e-6\n",
      " Relative error = 1.6488243190264043e-7\n",
      " Relative error = 2.4086425932677327e-8\n",
      " Relative error = 3.6381642338294837e-9\n",
      " Entering displacemtent step19 :0.0014000000000000004\n",
      " Relative error = 5.545921379930237e-10\n",
      " Entering displacemtent step20 :0.0015000000000000005\n",
      " Relative error = 0.00011647492910833409\n",
      " Relative error = 0.000126272540894938\n",
      " Relative error = 2.570076203249626e-6\n",
      " Relative error = 4.1368405422528564e-7\n",
      " Relative error = 8.724894624704777e-8\n",
      " Relative error = 1.9249150801412557e-8\n",
      " Relative error = 4.305220252467267e-9\n",
      " Entering displacemtent step21 :0.0016000000000000005\n",
      " Relative error = 9.67692555141433e-10\n",
      " Entering displacemtent step22 :0.0017000000000000006\n",
      " Relative error = 0.00013226657666695268\n",
      " Relative error = 0.00014381403694602523\n",
      " Relative error = 4.0663796900043465e-6\n",
      " Relative error = 9.103545396814677e-7\n",
      " Relative error = 2.653015044410399e-7\n",
      " Relative error = 8.156738207981331e-8\n",
      " Relative error = 2.5529465255031088e-8\n",
      " Relative error = 8.04361809589828e-9\n",
      " Entering displacemtent step23 :0.0018000000000000006\n",
      " Relative error = 2.5408041158708925e-9\n",
      " Entering displacemtent step24 :0.0019000000000000006\n",
      " Relative error = 0.00014955605073703525\n",
      " Relative error = 0.00016369215690090427\n",
      " Relative error = 6.450774715127191e-6\n",
      " Relative error = 1.95148744012694e-6\n",
      " Relative error = 7.655070908172041e-7\n",
      " Relative error = 3.202810488313891e-7\n",
      " Relative error = 1.37174053151805e-7\n",
      " Relative error = 5.9303478513438006e-8\n",
      " Relative error = 2.5737844610539004e-8\n",
      " Relative error = 1.1188724514618351e-8\n",
      " Entering displacemtent step25 :0.0020000000000000005\n",
      " Relative error = 4.867396554045665e-9\n",
      " Entering displacemtent step26 :0.0021000000000000003\n",
      " Relative error = 0.0001652477907005873\n",
      " Relative error = 0.00018256438738786573\n",
      " Relative error = 9.791404190266609e-6\n",
      " Relative error = 3.977974990388953e-6\n",
      " Relative error = 2.091104100985861e-6\n",
      " Relative error = 1.1862648691649772e-6\n",
      " Relative error = 6.948791944528824e-7\n",
      " Relative error = 4.1338600279561336e-7\n",
      " Relative error = 2.4792604602755983e-7\n",
      " Relative error = 1.493545285153606e-7\n",
      " Entering displacemtent step27 :0.0022\n",
      " Relative error = 9.020081104912424e-8\n",
      " Relative error = 0.00017936831071348568\n",
      " Relative error = 8.961087352858812e-6\n",
      " Relative error = 4.10924417371204e-6\n",
      " Relative error = 2.5424736903486124e-6\n",
      " Relative error = 1.7177618721014854e-6\n",
      " Relative error = 1.2029346543278e-6\n",
      " Relative error = 8.578351074503242e-7\n",
      " Relative error = 6.184186635390593e-7\n",
      " Relative error = 4.490112051969041e-7\n",
      " Entering displacemtent step28 :0.0023\n",
      " Relative error = 3.276270435500353e-7\n",
      " Relative error = 0.0001866246155503852\n",
      " Relative error = 1.0682132134690058e-5\n",
      " Relative error = 5.902586133355898e-6\n",
      " Relative error = 4.4251782837107425e-6\n",
      " Relative error = 3.624664696409165e-6\n",
      " Relative error = 3.09666966607889e-6\n",
      " Relative error = 2.718042792036475e-6\n",
      " Relative error = 2.435176112662031e-6\n",
      " Relative error = 2.2196934478790742e-6\n",
      " Entering displacemtent step29 :0.0024\n",
      " Relative error = 2.053760775217472e-6\n",
      " Relative error = 0.0001855773072097929\n",
      " Relative error = 1.3940584455180984e-5\n",
      " Relative error = 1.064370142825173e-5\n",
      " Relative error = 1.0451724766080796e-5\n",
      " Relative error = 1.1093966253932208e-5\n",
      " Relative error = 1.2305535287877403e-5\n",
      " Relative error = 1.4079380818936293e-5\n",
      " Relative error = 1.6450159625471193e-5\n",
      " Relative error = 1.9195437558428497e-5\n",
      " Entering displacemtent step30 :0.0024999999999999996\n",
      " Relative error = 2.1615359452528705e-5\n",
      " Relative error = 0.00016166916509426695\n",
      " Relative error = 3.54905784460973e-5\n",
      " Relative error = 3.1445829405311034e-5\n",
      " Relative error = 3.013359250743016e-5\n",
      " Relative error = 2.9487567419085514e-5\n",
      " Relative error = 2.873708268371229e-5\n",
      " Relative error = 2.7543115890377285e-5\n",
      " Relative error = 2.650747961259658e-5\n",
      " Relative error = 2.561639243596464e-5\n",
      " Entering displacemtent step31 :0.0025999999999999994\n",
      " Relative error = 2.4309361806361174e-5\n",
      " Relative error = 0.00012363143417310084\n",
      " Relative error = 3.646193818889354e-5\n",
      " Relative error = 3.315830885013767e-5\n",
      " Relative error = 3.234335783317747e-5\n",
      " Relative error = 3.170240630110843e-5\n",
      " Relative error = 3.139641848785543e-5\n",
      " Relative error = 3.1325364237678866e-5\n",
      " Relative error = 3.1278945443878284e-5\n",
      " Relative error = 3.07326840141295e-5\n",
      " Entering displacemtent step32 :0.0026999999999999993\n",
      " Relative error = 2.9875480116977687e-5\n",
      " Relative error = 0.00012466760593663278\n",
      " Relative error = 4.441234846859791e-5\n",
      " Relative error = 4.068553285024328e-5\n",
      " Relative error = 3.9628894072965186e-5\n",
      " Relative error = 3.89152460257915e-5\n",
      " Relative error = 3.826369241489674e-5\n",
      " Relative error = 3.820061045741237e-5\n",
      " Relative error = 3.7981928459699695e-5\n",
      " Relative error = 3.7213454466937605e-5\n",
      " Entering displacemtent step33 :0.002799999999999999\n",
      " Relative error = 3.695365863301754e-5\n",
      " Relative error = 0.00012619856771961942\n",
      " Relative error = 5.3700653643333074e-5\n",
      " Relative error = 4.975468613802335e-5\n",
      " Relative error = 4.844317653336158e-5\n",
      " Relative error = 4.7889161044022046e-5\n",
      " Relative error = 4.758056798869167e-5\n",
      " Relative error = 4.729880670542444e-5\n",
      " Relative error = 4.6988103190924736e-5\n",
      " Relative error = 4.6887926933618607e-5\n",
      " Entering displacemtent step34 :0.002899999999999999\n",
      " Relative error = 4.685592647568497e-5\n",
      " Relative error = 0.0001304078302364582\n",
      " Relative error = 6.369892547655116e-5\n",
      " Relative error = 6.005225546474791e-5\n",
      " Relative error = 5.8793626300413676e-5\n",
      " Relative error = 5.7831237179979306e-5\n",
      " Relative error = 5.726068477731888e-5\n",
      " Relative error = 5.671810326338694e-5\n",
      " Relative error = 5.620162726249794e-5\n",
      " Relative error = 5.578851138643143e-5\n",
      " Entering displacemtent step35 :0.0029999999999999988\n",
      " Relative error = 5.54957578896467e-5\n",
      " Relative error = 0.00013224050594507945\n",
      " Relative error = 7.28666830528076e-5\n",
      " Relative error = 6.897769321803145e-5\n",
      " Relative error = 6.718919349586133e-5\n",
      " Relative error = 6.604422347177612e-5\n",
      " Relative error = 6.530734984543081e-5\n",
      " Relative error = 6.42706896628466e-5\n",
      " Relative error = 6.32992770508367e-5\n",
      " Relative error = 6.33157068062161e-5\n",
      " Entering displacemtent step36 :0.0030999999999999986\n",
      " Relative error = 6.310776253225251e-5\n",
      " Relative error = 0.00013228204277617378\n",
      " Relative error = 7.921693246586056e-5\n",
      " Relative error = 7.519012406826108e-5\n",
      " Relative error = 7.389033356631342e-5\n",
      " Relative error = 7.253485467818096e-5\n",
      " Relative error = 7.144876570462304e-5\n",
      " Relative error = 7.055374196561716e-5\n",
      " Relative error = 6.948871660523993e-5\n",
      " Relative error = 6.85243215284988e-5\n",
      " Entering displacemtent step37 :0.0031999999999999984\n",
      " Relative error = 6.7582607560126e-5\n",
      " Relative error = 0.0001289629963774059\n",
      " Relative error = 8.383128114114635e-5\n",
      " Relative error = 7.991520802982967e-5\n",
      " Relative error = 7.777212868811993e-5\n",
      " Relative error = 7.59973347885421e-5\n",
      " Relative error = 7.506540283094852e-5\n",
      " Relative error = 7.409433763243407e-5\n",
      " Relative error = 7.296711253673278e-5\n",
      " Relative error = 7.15899416577922e-5\n",
      " Entering displacemtent step38 :0.0032999999999999982\n",
      " Relative error = 7.062327094393902e-5\n",
      " Relative error = 0.00012325784948478548\n",
      " Relative error = 8.570966223382742e-5\n",
      " Relative error = 8.209010825501051e-5\n",
      " Relative error = 8.007406797158083e-5\n",
      " Relative error = 7.819791989439583e-5\n",
      " Relative error = 7.66521179753621e-5\n",
      " Relative error = 7.547927855870835e-5\n",
      " Relative error = 7.435278311469939e-5\n",
      " Relative error = 7.294308982442658e-5\n",
      " Entering displacemtent step39 :0.003399999999999998\n",
      " Relative error = 7.170788588069559e-5\n",
      " Relative error = 0.00011758457448372893\n",
      " Relative error = 8.530196347169404e-5\n",
      " Relative error = 8.15568778423394e-5\n",
      " Relative error = 7.949832862651384e-5\n",
      " Relative error = 7.766106163559329e-5\n",
      " Relative error = 7.590476419962206e-5\n",
      " Relative error = 7.404298547470188e-5\n",
      " Relative error = 7.229986181853438e-5\n",
      " Relative error = 7.081397412334197e-5\n",
      " Entering displacemtent step40 :0.003499999999999998\n",
      " Relative error = 6.923018591107534e-5\n",
      " Relative error = 0.00010751325721976785\n",
      " Relative error = 8.035271657264414e-5\n",
      " Relative error = 7.650986666381928e-5\n",
      " Relative error = 7.449843853442357e-5\n",
      " Relative error = 7.23471158347806e-5\n",
      " Relative error = 7.03663794050183e-5\n",
      " Relative error = 6.865507071900738e-5\n",
      " Relative error = 6.708450211264704e-5\n",
      " Relative error = 6.554621437643029e-5\n",
      " Entering displacemtent step41 :0.0035999999999999977\n",
      " Relative error = 6.393505916420648e-5\n",
      " Relative error = 9.514832770674593e-5\n",
      " Relative error = 7.394026720679646e-5\n",
      " Relative error = 7.037038233933857e-5\n",
      " Relative error = 6.78854222741328e-5\n",
      " Relative error = 6.631206765309263e-5\n",
      " Relative error = 6.471516554426797e-5\n",
      " Relative error = 6.290626983002411e-5\n",
      " Relative error = 6.141366860682236e-5\n",
      " Relative error = 5.943415043717163e-5\n",
      " Entering displacemtent step42 :0.0036999999999999976\n",
      " Relative error = 5.7728708276305234e-5\n",
      " Relative error = 8.402161633924359e-5\n",
      " Relative error = 6.667119221510675e-5\n",
      " Relative error = 6.341118235925687e-5\n",
      " Relative error = 6.106916958362871e-5\n",
      " Relative error = 5.89098371744223e-5\n",
      " Relative error = 5.747837772176986e-5\n",
      " Relative error = 5.587497961411687e-5\n",
      " Relative error = 5.3987326717898995e-5\n",
      " Relative error = 5.228627268847318e-5\n",
      " Entering displacemtent step43 :0.0037999999999999974\n",
      " Relative error = 5.07406749789053e-5\n",
      " Relative error = 7.279922232234497e-5\n",
      " Relative error = 5.819861234165282e-5\n",
      " Relative error = 5.529049319448341e-5\n",
      " Relative error = 5.335579402818371e-5\n",
      " Relative error = 5.177265776221487e-5\n",
      " Relative error = 5.035846453279431e-5\n",
      " Relative error = 4.890608529931328e-5\n",
      " Relative error = 4.7417068031491414e-5\n",
      " Relative error = 4.5875234128549905e-5\n",
      " Entering displacemtent step44 :0.0038999999999999972\n",
      " Relative error = 4.424713640874844e-5\n",
      " Relative error = 6.152400516023731e-5\n",
      " Relative error = 5.0220112896408913e-5\n",
      " Relative error = 4.7998264722637904e-5\n",
      " Relative error = 4.5962507265148456e-5\n",
      " Relative error = 4.4245595642718634e-5\n",
      " Relative error = 4.3063075520546845e-5\n",
      " Relative error = 4.171228741063749e-5\n",
      " Relative error = 4.025925402251924e-5\n",
      " Relative error = 3.926949597251477e-5\n",
      " Entering displacemtent step45 :0.0039999999999999975\n",
      " Relative error = 3.856741262303499e-5\n",
      " Relative error = 5.296492256550024e-5\n",
      " Relative error = 4.292020057780332e-5\n",
      " Relative error = 4.0380676791592566e-5\n",
      " Relative error = 3.903144196524705e-5\n",
      " Relative error = 3.79815787120706e-5\n",
      " Relative error = 3.670545878579936e-5\n",
      " Relative error = 3.4939963564250076e-5\n",
      " Relative error = 3.362426684957531e-5\n",
      " Relative error = 3.27293116397024e-5\n",
      " Entering displacemtent step46 :0.004099999999999998\n",
      " Relative error = 3.190116100598722e-5\n",
      " Relative error = 4.334977495639654e-5\n",
      " Relative error = 3.565022828454526e-5\n",
      " Relative error = 3.437179029322599e-5\n",
      " Relative error = 3.346239608795739e-5\n",
      " Relative error = 3.2131132003367534e-5\n",
      " Relative error = 3.057236933756829e-5\n",
      " Relative error = 2.925925483348952e-5\n",
      " Relative error = 2.8072420885253405e-5\n",
      " Relative error = 2.700992548894651e-5\n",
      " Entering displacemtent step47 :0.004199999999999998\n",
      " Relative error = 2.6033830927611114e-5\n",
      " Relative error = 3.5909435348511816e-5\n",
      " Relative error = 3.009063641483824e-5\n",
      " Relative error = 2.8672778025925602e-5\n",
      " Relative error = 2.738466785059054e-5\n",
      " Relative error = 2.6314417564565816e-5\n",
      " Relative error = 2.551913405552966e-5\n",
      " Relative error = 2.4891324394415304e-5\n",
      " Relative error = 2.4212112361406825e-5\n",
      " Relative error = 2.3473274280744036e-5\n",
      " Entering displacemtent step48 :0.004299999999999998\n",
      " Relative error = 2.2431949106215646e-5\n",
      " Relative error = 3.020226115093739e-5\n",
      " Relative error = 2.45003316650626e-5\n",
      " Relative error = 2.3073302033984524e-5\n",
      " Relative error = 2.207168626109189e-5\n",
      " Relative error = 2.140340426666482e-5\n",
      " Relative error = 2.0874927161794236e-5\n",
      " Relative error = 2.0388376157064734e-5\n",
      " Relative error = 1.976799551317929e-5\n",
      " Relative error = 1.9056285600517284e-5\n",
      " Entering displacemtent step49 :0.0043999999999999985\n",
      " Relative error = 1.826305130622845e-5\n",
      " Relative error = 2.5231169747602106e-5\n",
      " Relative error = 2.05235068127652e-5\n",
      " Relative error = 1.93034659543568e-5\n",
      " Relative error = 1.8374401224999524e-5\n",
      " Relative error = 1.749592032674077e-5\n",
      " Relative error = 1.7025126311989162e-5\n",
      " Relative error = 1.6732786161431868e-5\n",
      " Relative error = 1.6364625804960025e-5\n",
      " Relative error = 1.5978968924515018e-5\n",
      " Entering displacemtent step50 :0.004499999999999999\n",
      " Relative error = 1.516449146449781e-5\n",
      " Relative error = 2.082042302180563e-5\n",
      " Relative error = 1.6923476233573675e-5\n",
      " Relative error = 1.5979330381440532e-5\n",
      " Relative error = 1.516210825585256e-5\n",
      " Relative error = 1.4581585268673874e-5\n",
      " Relative error = 1.4194150036846059e-5\n",
      " Relative error = 1.366588994488619e-5\n",
      " Relative error = 1.3177249760189279e-5\n",
      " Relative error = 1.2889729319235012e-5\n",
      " Entering displacemtent step51 :0.004599999999999999\n",
      " Relative error = 1.2619582797713864e-5\n",
      " Relative error = 1.7893726356011687e-5\n",
      " Relative error = 1.4521303327129998e-5\n",
      " Relative error = 1.3651364283548293e-5\n",
      " Relative error = 1.2912804438203033e-5\n",
      " Relative error = 1.2200355487684816e-5\n",
      " Relative error = 1.1523462324660488e-5\n",
      " Relative error = 1.0840117658009274e-5\n",
      " Relative error = 1.016602184792147e-5\n",
      " Relative error = 9.555115029386169e-6\n",
      " Entering displacemtent step52 :0.004699999999999999\n",
      " Relative error = 9.032153966735406e-6\n",
      " Relative error = 1.365174973861674e-5\n",
      " Relative error = 1.0764002398157562e-5\n",
      " Relative error = 1.0185028182659872e-5\n",
      " Relative error = 9.794741783972757e-6\n",
      " Relative error = 9.439844275317906e-6\n",
      " Relative error = 9.124807598195798e-6\n",
      " Relative error = 8.830784889102102e-6\n",
      " Relative error = 8.517436827240223e-6\n",
      " Relative error = 8.207739223109198e-6\n",
      " Entering displacemtent step53 :0.0048\n",
      " Relative error = 7.959838959037329e-6\n",
      " Relative error = 1.2411343851979828e-5\n",
      " Relative error = 1.008847174056213e-5\n"
     ]
    },
    {
     "name": "stdout",
     "output_type": "stream",
     "text": [
      " Relative error = 9.708944416022019e-6\n",
      " Relative error = 9.401665157345677e-6\n",
      " Relative error = 9.061866093077463e-6\n",
      " Relative error = 8.691412977690377e-6\n",
      " Relative error = 8.310272615389923e-6\n",
      " Relative error = 7.910560755269757e-6\n",
      " Relative error = 7.492956067547631e-6\n",
      " Entering displacemtent step54 :0.0049\n",
      " Relative error = 7.119960301584668e-6\n",
      " Relative error = 1.0934787505319919e-5\n",
      " Relative error = 8.388621560011348e-6\n",
      " Relative error = 7.666360314314622e-6\n",
      " Relative error = 7.097912021220611e-6\n",
      " Relative error = 6.623537389590805e-6\n",
      " Relative error = 6.213626607180003e-6\n",
      " Relative error = 5.819062543589829e-6\n",
      " Relative error = 5.4458859939071995e-6\n",
      " Relative error = 5.101340610112511e-6\n",
      " Entering displacemtent step55 :0.005\n",
      " Relative error = 4.785593270400925e-6\n",
      " Relative error = 8.339225781669486e-6\n",
      " Relative error = 6.154734678375608e-6\n",
      " Relative error = 5.6754048277144085e-6\n",
      " Relative error = 5.450148626742094e-6\n",
      " Relative error = 5.334957274324718e-6\n",
      " Relative error = 5.234619466025187e-6\n",
      " Relative error = 5.115370394005292e-6\n",
      " Relative error = 4.9600001014448916e-6\n",
      " Relative error = 4.802697435478898e-6"
     ]
    }
   ],
   "source": [
    "vApp = 0\n",
    "phiApp = 0\n",
    "delv = 1e-4\n",
    "vAppMax = 0.005\n",
    "innerMax = 10\n",
    "count = 0\n",
    "\n",
    "Load = Float64[]\n",
    "Displacement = Float64[]\n",
    "\n",
    "ψPlusPrev = CellState(0.0,dΩ) \n",
    "sPrev = CellState(1.0,dΩ)\n",
    "sh = project(sPrev,model,dΩ,order)\n",
    "ϕPrev = CellState(0.0,dΩ)\n",
    "ϕh = project(ϕPrev,model,dΩ,order)\n",
    "\n",
    "\n",
    "while vApp .< vAppMax \n",
    "    count = count .+ 1\n",
    "    \n",
    "    if count <= 5\n",
    "        phiApp = phiApp + (phiMaxApp/5)\n",
    "        vApp = vApp\n",
    "    else\n",
    "        phiApp = phiMaxApp\n",
    "        vApp = vApp .+ delv\n",
    "    end\n",
    "    \n",
    "    \n",
    "    print(\"\\n Entering displacemtent step$count :\", float(vApp))\n",
    "    \n",
    "   for inner = 1:innerMax   \n",
    "        \n",
    "        ψhPlusPrev = project(ψPlusPrev,model,dΩ,order)\n",
    "        \n",
    "        RelErr = abs(sum(∫( Gc*lsp*∇(sh)⋅ ∇(sh) + 2*ψhPlusPrev*sh*sh  + (Gc/lsp)*sh*sh)*dΩ - ∫( (Gc/lsp)*sh)*dΩ))/abs(sum(∫( (Gc/lsp)*sh)*dΩ))\n",
    "        print(\"\\n Relative error = \",float(RelErr))\n",
    "        \n",
    "        sh = stepPhaseField(uh,ψhPlusPrev) \n",
    "        uh,ϕh = stepDispElecPot(uh,ϕh,sh,vApp,phiApp)\n",
    "        \n",
    "        ψhPos_in = ψPos∘(ε(uh),∇(ϕh))      \n",
    "        \n",
    "        update_state!(new_EnergyState,ψPlusPrev,ψhPos_in)\n",
    "  \n",
    "        if RelErr < 1e-8\n",
    "            break \n",
    "        end      \n",
    "    end\n",
    "    \n",
    "    Node_Force = sum(∫( n_Γ_Load ⋅ (σ_elasMod∘(ε(uh),ε(uh),sh)) ) *dΓ_Load + ∫( n_Γ_Load ⋅ (σ_piezoMod∘(∇(ϕh),∇(ϕh),sh) ) )  *dΓ_Load)\n",
    "    \n",
    "    push!(Load, thickness*Node_Force[2])\n",
    "    push!(Displacement, vApp)\n",
    "    if mod(count,2) == 0\n",
    "         writevtk(Ω,\"results_0mmEccentricNotchedBeam$count\",cellfields=\n",
    "        [\"uh\"=>uh,\"s\"=>sh ,\"phi\"=>ϕh, \"epsi\"=>ε(uh)])\n",
    "    end\n",
    "end"
   ]
  },
  {
   "cell_type": "code",
   "execution_count": 32,
   "id": "disabled-stone",
   "metadata": {},
   "outputs": [
    {
     "data": {
      "text/plain": [
       "([\"results_0mmEccentricNotchedBeam55.vtu\"],)"
      ]
     },
     "execution_count": 32,
     "metadata": {},
     "output_type": "execute_result"
    }
   ],
   "source": [
    " writevtk(Ω,\"results_0mmEccentricNotchedBeam$count\",cellfields=\n",
    "        [\"uh\"=>uh,\"s\"=>sh ,\"phi\"=>ϕh, \"epsi\"=>ε(uh)])"
   ]
  },
  {
   "cell_type": "code",
   "execution_count": 33,
   "id": "colonial-infection",
   "metadata": {
    "scrolled": false
   },
   "outputs": [
    {
     "data": {
      "image/png": "[encoded data removed]",
      "text/plain": [
       "Figure(PyObject <Figure size 640x480 with 1 Axes>)"
      ]
     },
     "metadata": {},
     "output_type": "display_data"
    },
    {
     "data": {
      "text/plain": [
       "1-element Array{PyCall.PyObject,1}:\n",
       " PyObject <matplotlib.lines.Line2D object at 0x7f9423cc1150>"
      ]
     },
     "execution_count": 33,
     "metadata": {},
     "output_type": "execute_result"
    }
   ],
   "source": [
    "plot(Displacement,-Load)"
   ]
  },
  {
   "cell_type": "code",
   "execution_count": 34,
   "id": "human-hollywood",
   "metadata": {},
   "outputs": [
    {
     "data": {
      "text/plain": [
       "87.93303367223278"
      ]
     },
     "execution_count": 34,
     "metadata": {},
     "output_type": "execute_result"
    }
   ],
   "source": [
    "maximum(-Load)"
   ]
  },
  {
   "cell_type": "code",
   "execution_count": 35,
   "id": "pointed-month",
   "metadata": {},
   "outputs": [],
   "source": [
    "cd(\"../DataLoadDispResult0mmEccentricNotchedBeam\")"
   ]
  },
  {
   "cell_type": "code",
   "execution_count": 36,
   "id": "adjustable-production",
   "metadata": {},
   "outputs": [],
   "source": [
    "using DelimitedFiles\n",
    "Disp = writedlm(\"DispDataResult0mmEccentricNotchedBeam$ElecF ls$lsp.csv\",  Displacement, ',')\n",
    "Force = writedlm(\"LoadDataResult0mmEccentricNotchedBeam$ElecF ls$lsp.csv\",  Load, ',')"
   ]
  }
 ],
 "metadata": {
  "@webio": {
   "lastCommId": null,
   "lastKernelId": null
  },
  "kernelspec": {
   "display_name": "Julia 1.5.4",
   "language": "julia",
   "name": "julia-1.5"
  },
  "language_info": {
   "file_extension": ".jl",
   "mimetype": "application/julia",
   "name": "julia",
   "version": "1.5.4"
  }
 },
 "nbformat": 4,
 "nbformat_minor": 5
}
