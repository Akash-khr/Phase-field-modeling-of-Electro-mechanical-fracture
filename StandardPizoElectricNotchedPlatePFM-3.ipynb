{
 "cells": [
  {
   "cell_type": "markdown",
   "id": "5a172ed2",
   "metadata": {},
   "source": [
    "### In case of positive hydrostatic strain i.e $\\text{tr}(\\boldsymbol{\\epsilon})\\geq 0$\n",
    "$\\langle p \\rangle_+ = p = \\boldsymbol{I}: \\boldsymbol{\\sigma}_{vol} = \\boldsymbol{I}: \\mathbb{I}_{vol}\\mathbb{C}  \\boldsymbol{\\epsilon}$    and      $\\langle p \\rangle_- = 0 $\n",
    "\n",
    "$\\mathbb{C}_{mod} = \\mathbb{C}_{+} = s^2\\left(\\mathbb{I}_{vol}\\mathbb{C} + \\mathbb{I}_{dev}\\mathbb{C}\\right) = s^2 \\mathbb{C}$\n",
    "\n",
    "### In case of negative hydrostatic strain $\\text{tr}(\\boldsymbol{\\epsilon})< 0$\n",
    "$\\langle p \\rangle_+ = 0 $   and    $\\langle p \\rangle_- = p =  \\boldsymbol{I}: \\boldsymbol{\\sigma}_{vol} = \\boldsymbol{I}:\\mathbb{I}_{vol}\\mathbb{C}  \\boldsymbol{\\epsilon}$\n",
    "\n",
    "$\\mathbb{C}_{mod} = \\mathbb{C}_{-} = s^2\\bigl(\\mathbb{I}_{dev}\\mathbb{C}\\bigr) + \\mathbb{I}_{vol}\\mathbb{C}$\n",
    "\n",
    " ## Strong Form in terms of $\\mathbb{C}_{mod}$ and $\\mathcal{H}(\\mathcal{E})$\n",
    " \n",
    " $\\nabla \\cdot \\boldsymbol{\\sigma} = {\\bf{0}}$\n",
    " \n",
    " $ \\nabla\\cdot \\boldsymbol{D}  = {0}$\n",
    "\n",
    " $ \\nabla \\cdot \\biggl(G_cl\\boldsymbol{A}\\nabla s\\biggr) - 2s\\mathcal{H}(\\mathcal{E})  + \\frac{G_c}{l}\\left(1-s\\right) = 0$\n",
    "\n",
    "where \n",
    "\n",
    "$\\boldsymbol{\\sigma} = \\biggl(\\mathbb{C}_{mod} \\boldsymbol{\\epsilon} -\\mathbb{e}_{mod}^T\\boldsymbol{E}\\biggr) $\n",
    "\n",
    "$\\boldsymbol{D} = \\biggr({\\boldsymbol{K}_{mod}\\boldsymbol{E}} +  \\mathbb{e}_{mod}\\boldsymbol{\\epsilon}\\biggl) $\n",
    "\n",
    "$\\mathcal{E} = \\frac{1}{2}\\biggl(\\langle p \\rangle_+\\boldsymbol{I}:\\mathbb{I}_{vol}\\boldsymbol{\\epsilon} + \\mathbb{I}_{dev}\\mathbb{C}\\boldsymbol{\\epsilon}:\\mathbb{I}_{dev}\\boldsymbol{\\epsilon} + \\boldsymbol{E} \\cdot \\boldsymbol{K}\\boldsymbol{E} + \\boldsymbol{\\epsilon}:\\mathbb{e}^T\\boldsymbol{E}\\biggr)$\n",
    "\n",
    "$\\mathcal{H}(f) = \\text{max}_{\\tau \\in [0,t]}f(\\tau)$\n",
    "\n",
    "$\\mathbb{e}_{mod} = s^2 \\mathbb{e}$\n",
    "\n",
    "$\\boldsymbol{K}_{mod} = s^2 \\boldsymbol{K}$"
   ]
  },
  {
   "cell_type": "markdown",
   "id": "26bc5576",
   "metadata": {},
   "source": [
    " # Weak Form\n",
    "\n",
    "### For Piezo-elasticity part\n",
    "\n",
    " $a((\\boldsymbol{u},\\phi), ({\\boldsymbol{v}},{\\psi})) = \\int_{\\Omega} \\bigl( \\mathbb{C}_{mod}\\mathbb{\\epsilon}: \\nabla \\boldsymbol{v} \\bigr)d\\Omega - \\int_\\Omega \\bigl ( \\boldsymbol{e}_{mod}^T\\boldsymbol{E}:\\nabla \\boldsymbol{v}\\bigr)d\\Omega + \\int_{\\Omega}\\left(\\boldsymbol{K}_{mod}\\boldsymbol{E} \\cdot \\nabla \\boldsymbol{\\psi}\\right) + \\int_{\\Omega}\\left(\\mathbb{e}_{mod}\\boldsymbol{\\epsilon}  \\cdot \\nabla  \\boldsymbol{\\psi}\\right)d\\Omega$\n",
    "\n",
    "### For phase-field part\n",
    " \n",
    " $ a(s,\\phi) = \\int_{\\Omega}\\bigl(G_cl\\nabla s \\cdot \\nabla \\phi + 2s \\phi\\mathcal{H}({\\mathcal{E}}) +  \\frac{G_c}{l} s \\phi\\bigr)d\\Omega$\n",
    "\n",
    " $ l(\\phi) = \\int_{\\Omega}\\frac{G_c}{l}\\phi d{\\Omega}$"
   ]
  },
  {
   "cell_type": "code",
   "execution_count": 1,
   "id": "frank-charity",
   "metadata": {},
   "outputs": [],
   "source": [
    "using Gmsh: gmsh\n",
    "using GridapGmsh\n",
    "using Gridap\n",
    "using Gridap.TensorValues\n",
    "using PyPlot"
   ]
  },
  {
   "cell_type": "markdown",
   "id": "guided-cornell",
   "metadata": {},
   "source": [
    "## Definitions of Tensorial Quantities:\n",
    "\n",
    "$\\boldsymbol{I} = \\delta_{ij} \\boldsymbol{e}_i\\otimes\\boldsymbol{e}_j$\n",
    "\n",
    "$\\mathbb{I} = \\boldsymbol{I}\\otimes\\boldsymbol{I}$\n",
    "\n",
    "$\\mathbb{I}_{sym} = \\frac{1}{2}\\biggl(\\mathbb{I}+\\mathbb{I}^T\\biggr)$\n",
    "\n",
    "$\\mathbb{I}_{skw} = \\frac{1}{2}\\biggl(\\mathbb{I}-\\mathbb{I}^T\\biggr)$\n",
    "\n",
    "$\\mathbb{I}_{vol} = \\frac{1}{3}\\biggl(\\boldsymbol{I}\\otimes\\boldsymbol{I}\\biggr)$\n",
    "\n",
    "$\\mathbb{I}_{dev} = \\mathbb{I}_{sym} - \\mathbb{I}_{vol}$\n",
    "\n",
    "$\\boldsymbol{\\epsilon}_{vol} = \\frac{1}{3}\\text{tr}(\\boldsymbol{\\epsilon}) \\boldsymbol{I} = \\frac{1}{3}\\biggl(\\boldsymbol{\\epsilon}:\\boldsymbol{I}\\biggr)\\boldsymbol{I} = \\frac{1}{3}\\biggl(\\boldsymbol{I}\\otimes\\boldsymbol{I}\\biggr)\\boldsymbol{\\epsilon} = \\mathbb{I}_{vol} \\boldsymbol{\\epsilon} $\n",
    "\n",
    "$\\boldsymbol{\\epsilon}_{dev} = \\boldsymbol{\\epsilon} - \\boldsymbol{\\epsilon}_{vol} = \\biggl(\\mathbb{I}_{sym} -  \\mathbb{I}_{vol}\\biggl) \\boldsymbol{\\epsilon} = \\mathbb{I}_{dev} \\boldsymbol{\\epsilon}$\n",
    "\n",
    "$\\boldsymbol{\\sigma}_{vol} = p \\boldsymbol{I} = \\frac{1}{3}\\biggl(\\boldsymbol{\\sigma}:\\boldsymbol{I}\\biggr)\\boldsymbol{I} = \\frac{1}{3}\\biggl(\\boldsymbol{I}\\otimes\\boldsymbol{I}\\biggr)\\boldsymbol{\\sigma} = \\mathbb{I}_{vol} \\boldsymbol{\\sigma} = \\mathbb{I}_{vol}\\mathbb{C} \\boldsymbol{\\epsilon}$\n",
    "\n",
    "$\\boldsymbol{\\sigma}_{dev} = \\boldsymbol{\\sigma} - \\boldsymbol{\\sigma}_{vol} = \\biggl(\\mathbb{I}_{sym} -  \\mathbb{I}_{vol}\\biggl) \\boldsymbol{\\sigma} = \\mathbb{I}_{dev} \\boldsymbol{\\sigma}=\\mathbb{I}_{dev} \\mathbb{C} \\boldsymbol{\\epsilon}$"
   ]
  },
  {
   "cell_type": "code",
   "execution_count": 2,
   "id": "contained-intro",
   "metadata": {
    "scrolled": true
   },
   "outputs": [
    {
     "data": {
      "text/plain": [
       "SymFourthOrderTensorValue{2, Float64, 9}(0.6666666666666667, 0.0, -0.3333333333333333, 0.0, 0.5, 0.0, -0.3333333333333333, 0.0, 0.6666666666666667)"
      ]
     },
     "execution_count": 2,
     "metadata": {},
     "output_type": "execute_result"
    }
   ],
   "source": [
    "I2 = SymTensorValue{2,Float64}(1.0 ,0.0 ,1.0)\n",
    "I4 = I2⊗I2\n",
    "I4_sym = one(SymFourthOrderTensorValue{2,Float64})\n",
    "I4_vol = (1.0/3)*I4\n",
    "I4_dev = I4_sym  - I4_vol"
   ]
  },
  {
   "cell_type": "code",
   "execution_count": 3,
   "id": "municipal-incentive",
   "metadata": {
    "scrolled": true
   },
   "outputs": [
    {
     "name": "stdout",
     "output_type": "stream",
     "text": [
      "Info    : Meshing 1D...\n",
      "Info    : Meshing curve 1 (Line)\n",
      "Info    : Meshing curve 2 (Line)\n",
      "Info    : Meshing curve 3 (Line)\n",
      "Info    : Meshing curve 4 (Line)\n",
      "Info    : Meshing curve 5 (Line)\n",
      "Info    : Meshing curve 6 (Line)\n",
      "Info    : Meshing curve 7 (Line)\n",
      "Info    : Meshing curve 8 (Line)\n",
      "Info    : Meshing curve 9 (Line)\n",
      "Info    : Meshing curve 10 (Line)\n",
      "Info    : Meshing curve 11 (Line)\n",
      "Info    : Meshing curve 12 (Line)\n",
      "Info    : Meshing curve 13 (Line)\n",
      "Info    : Meshing curve 14 (Line)\n",
      "Info    : Done meshing 1D (0.022783 s)\n",
      "Info    : Meshing 2D...\n",
      "Info    : Meshing surface 1 (Plane, Delaunay)\n",
      "Info    : Done meshing 2D (1.97316 s)\n",
      "Info    : 34436 vertices 68375 elements\n",
      "Info    : Writing 'PlateWithEdgeNotch.msh'...\n",
      "Info    : Done writing 'PlateWithEdgeNotch.msh'\n"
     ]
    }
   ],
   "source": [
    "const L = 25.5      #Length\n",
    "const H = 19.1      #Height\n",
    "const Lu = 4.6      #offset of load from left end\n",
    "const Lh = 11.5     #notch length\n",
    "const lsp = 0.08    #length factor\n",
    "const CP = H/2      #center height  \n",
    "const CH = 0.46     #Crack height\n",
    "const hf = 0.06/2.1    #finer mesh size\n",
    "const hfc = 0.06/50    #finer mesh size\n",
    "const h = 60*hf     #coarser mesh size\n",
    "const Lw = 2*h         #load width\n",
    "const FMR = CH/2 \n",
    "\n",
    "gmsh.initialize()\n",
    "gmsh.option.setNumber(\"General.Terminal\", 1)\n",
    "p1 = gmsh.model.geo.addPoint(0.0, 0.0, 0.0, h)  \n",
    "p2 = gmsh.model.geo.addPoint(Lu-0.5*Lw, 0.0, 0.0, h)\n",
    "p3 = gmsh.model.geo.addPoint(Lu+0.5*Lw, 0.0, 0.0, h) \n",
    "p4 = gmsh.model.geo.addPoint(L, 0, 0.0, h) \n",
    "p5 = gmsh.model.geo.addPoint(L, H, 0.0, h)\n",
    "p6 = gmsh.model.geo.addPoint(Lu+0.5*Lw, H, 0.0, h)\n",
    "p7 = gmsh.model.geo.addPoint(Lu-0.5*Lw, H, 0.0, h)\n",
    "p8 = gmsh.model.geo.addPoint(0, H, 0.0, h)\n",
    "p9 = gmsh.model.geo.addPoint(0, CP + (CH*0.5), 0.0, h)\n",
    "p10 = gmsh.model.geo.addPoint(Lh-(CH*0.5), CP + (CH*0.5), 0.0, h)\n",
    "p11 = gmsh.model.geo.addPoint(Lh, CP, 0.0, hfc)\n",
    "p12 = gmsh.model.geo.addPoint(Lh-(CH*0.5), CP - (CH*0.5), 0.0, h)\n",
    "p13 = gmsh.model.geo.addPoint(0, CP - (CH*0.5), 0.0, h)\n",
    "\n",
    "pp14 = gmsh.model.geo.addPoint(L, CP, 0.0, h)\n",
    "\n",
    "l1 = gmsh.model.geo.addLine(p1, p2)\n",
    "l2 = gmsh.model.geo.addLine(p2, p3)\n",
    "l3 = gmsh.model.geo.addLine(p3, p4)\n",
    "l4 = gmsh.model.geo.addLine(p4, p5)\n",
    "l5 = gmsh.model.geo.addLine(p5, p6)\n",
    "l6 = gmsh.model.geo.addLine(p6, p7)\n",
    "l7 = gmsh.model.geo.addLine(p7, p8)\n",
    "l8 = gmsh.model.geo.addLine(p8, p9)\n",
    "l9 = gmsh.model.geo.addLine(p9, p10)\n",
    "l10 = gmsh.model.geo.addLine(p10, p11)\n",
    "l11 = gmsh.model.geo.addLine(p11, p12)\n",
    "l12 = gmsh.model.geo.addLine(p12, p13)\n",
    "l13 = gmsh.model.geo.addLine(p13, p1)\n",
    "\n",
    "ll1 = gmsh.model.geo.addLine(p11, pp14)\n",
    "\n",
    "cl1 = gmsh.model.geo.addCurveLoop([l1,l2,l3,l4,l5,l6,l7,l8,l9,l10,l11,l12,l13])\n",
    "\n",
    "ps1 = gmsh.model.geo.addPlaneSurface([cl1])\n",
    "\n",
    "pg1 = gmsh.model.addPhysicalGroup(2, [ps1])\n",
    "pg2 = gmsh.model.addPhysicalGroup(1, [l2])\n",
    "pg3 = gmsh.model.addPhysicalGroup(1, [l6])\n",
    "pg4 = gmsh.model.addPhysicalGroup(1, [l7,l6,l5])\n",
    "pg5 = gmsh.model.addPhysicalGroup(1, [l1,l2,l3])\n",
    "\n",
    "gmsh.model.setPhysicalName(2, pg1, \"Domain\")\n",
    "gmsh.model.setPhysicalName(1, pg2, \"DirichletBot\")\n",
    "gmsh.model.setPhysicalName(1, pg3, \"DirichletTop\")\n",
    "gmsh.model.setPhysicalName(1, pg4, \"ElectricPotentialTop\")\n",
    "gmsh.model.setPhysicalName(1, pg5, \"ElectricPotentialBot\")\n",
    "\n",
    "gmsh.model.mesh.field.add(\"Box\", 11)\n",
    "gmsh.model.mesh.field.setNumber(11, \"VIn\", hf)\n",
    "gmsh.model.mesh.field.setNumber(11, \"VOut\", h)\n",
    "gmsh.model.mesh.field.setNumber(11, \"XMin\", 0.95*Lh)\n",
    "gmsh.model.mesh.field.setNumber(11, \"XMax\", L)\n",
    "gmsh.model.mesh.field.setNumber(11, \"YMin\", CP-4*FMR)\n",
    "gmsh.model.mesh.field.setNumber(11, \"YMax\", CP+4*FMR)\n",
    "\n",
    "gmsh.model.mesh.field.add(\"Distance\", 1)\n",
    "gmsh.model.mesh.field.setNumbers(1, \"EdgesList\", [ll1])\n",
    "\n",
    "gmsh.model.mesh.field.add(\"Threshold\", 2)\n",
    "gmsh.model.mesh.field.setNumber(2, \"IField\", 1)\n",
    "gmsh.model.mesh.field.setNumber(2, \"LcMin\", hf)\n",
    "gmsh.model.mesh.field.setNumber(2, \"LcMax\", h)\n",
    "gmsh.model.mesh.field.setNumber(2, \"DistMin\", 4*FMR)\n",
    "gmsh.model.mesh.field.setNumber(2, \"DistMax\", 1)\n",
    "\n",
    "gmsh.model.mesh.field.setAsBackgroundMesh(2)\n",
    "\n",
    "gmsh.model.geo.synchronize()\n",
    "gmsh.model.mesh.generate(2)\n",
    "gmsh.write(\"PlateWithEdgeNotch.msh\")\n",
    "gmsh.finalize()"
   ]
  },
  {
   "cell_type": "code",
   "execution_count": 4,
   "id": "dangerous-preference",
   "metadata": {},
   "outputs": [
    {
     "name": "stdout",
     "output_type": "stream",
     "text": [
      "Info    : Reading 'PlateWithEdgeNotch.msh'...\n",
      "Info    : 29 entities\n",
      "Info    : 33927 nodes\n",
      "Info    : 67748 elements\n",
      "Info    : Done reading 'PlateWithEdgeNotch.msh'\n"
     ]
    },
    {
     "data": {
      "text/plain": [
       "3-element Vector{Vector{String}}:\n",
       " [\"PlateWithEdgeNotch_0.vtu\"]\n",
       " [\"PlateWithEdgeNotch_1.vtu\"]\n",
       " [\"PlateWithEdgeNotch_2.vtu\"]"
      ]
     },
     "execution_count": 4,
     "metadata": {},
     "output_type": "execute_result"
    }
   ],
   "source": [
    "model = GmshDiscreteModel(\"PlateWithEdgeNotch.msh\")\n",
    "writevtk(model,\"PlateWithEdgeNotch\")"
   ]
  },
  {
   "cell_type": "code",
   "execution_count": 5,
   "id": "1ccc7309",
   "metadata": {},
   "outputs": [
    {
     "data": {
      "text/plain": [
       "5.1"
      ]
     },
     "execution_count": 5,
     "metadata": {},
     "output_type": "execute_result"
    }
   ],
   "source": [
    "ElecF = -3\n",
    "phiMaxApp = (ElecF/10)*H*1e3\n",
    "thickness = 5.1"
   ]
  },
  {
   "cell_type": "code",
   "execution_count": 6,
   "id": "bd6fbf65",
   "metadata": {},
   "outputs": [],
   "source": [
    "cd(\"ResultNotchedPlateElecField$ElecF\")"
   ]
  },
  {
   "cell_type": "code",
   "execution_count": 7,
   "id": "meaningful-haven",
   "metadata": {},
   "outputs": [
    {
     "data": {
      "text/plain": [
       "67716-element Vector{Int8}:\n",
       " 5\n",
       " 5\n",
       " 5\n",
       " 5\n",
       " 5\n",
       " 5\n",
       " 5\n",
       " 5\n",
       " 5\n",
       " 5\n",
       " 5\n",
       " 5\n",
       " 5\n",
       " ⋮\n",
       " 5\n",
       " 5\n",
       " 5\n",
       " 5\n",
       " 5\n",
       " 5\n",
       " 5\n",
       " 5\n",
       " 5\n",
       " 5\n",
       " 5\n",
       " 5"
      ]
     },
     "execution_count": 7,
     "metadata": {},
     "output_type": "execute_result"
    }
   ],
   "source": [
    "using Gridap.Geometry\n",
    "labels = get_face_labeling(model)\n",
    "dimension = 2\n",
    "mat_tags = get_face_tag(labels,dimension)"
   ]
  },
  {
   "cell_type": "code",
   "execution_count": 8,
   "id": "forty-hollow",
   "metadata": {},
   "outputs": [
    {
     "data": {
      "text/plain": [
       "5"
      ]
     },
     "execution_count": 8,
     "metadata": {},
     "output_type": "execute_result"
    }
   ],
   "source": [
    "const Mat_tag = get_tag_from_name(labels,\"Domain\")"
   ]
  },
  {
   "cell_type": "markdown",
   "id": "roman-infrastructure",
   "metadata": {},
   "source": [
    "## Input paramters for Piezo-Electric Material Properties"
   ]
  },
  {
   "cell_type": "markdown",
   "id": "foreign-anderson",
   "metadata": {},
   "source": [
    "#### Input elasticity parameters"
   ]
  },
  {
   "cell_type": "code",
   "execution_count": 9,
   "id": "healthy-grave",
   "metadata": {},
   "outputs": [
    {
     "data": {
      "text/plain": [
       "30600.0"
      ]
     },
     "execution_count": 9,
     "metadata": {},
     "output_type": "execute_result"
    }
   ],
   "source": [
    "const λ_mat = 77.8e3 \n",
    "const μ_mat = 30.6e3"
   ]
  },
  {
   "cell_type": "markdown",
   "id": "global-client",
   "metadata": {},
   "source": [
    "#### Input piezo-electric parameters"
   ]
  },
  {
   "cell_type": "raw",
   "id": "e725b8f6",
   "metadata": {},
   "source": [
    "const e₂₁_mat = -6.98e-3\n",
    "const e₂₂_mat = 13.84e-3\n",
    "const e₁₆_mat = 13.44e-3"
   ]
  },
  {
   "cell_type": "markdown",
   "id": "running-anxiety",
   "metadata": {},
   "source": [
    "#### Input permitivity parameters"
   ]
  },
  {
   "cell_type": "code",
   "execution_count": 10,
   "id": "otherwise-newman",
   "metadata": {},
   "outputs": [
    {
     "data": {
      "text/plain": [
       "6.0e-9"
      ]
     },
     "execution_count": 10,
     "metadata": {},
     "output_type": "execute_result"
    }
   ],
   "source": [
    "const K₁₁_mat = 6e-9\n",
    "const K₂₂_mat = 6e-9"
   ]
  },
  {
   "cell_type": "markdown",
   "id": "superior-compensation",
   "metadata": {},
   "source": [
    "#### Input fracture parameters"
   ]
  },
  {
   "cell_type": "code",
   "execution_count": 11,
   "id": "acute-carry",
   "metadata": {},
   "outputs": [
    {
     "data": {
      "text/plain": [
       "1.0e-10"
      ]
     },
     "execution_count": 11,
     "metadata": {},
     "output_type": "execute_result"
    }
   ],
   "source": [
    "const Gc = 7e-3\n",
    "const η = 1e-10"
   ]
  },
  {
   "cell_type": "markdown",
   "id": "biological-struggle",
   "metadata": {},
   "source": [
    "## COnstitutive Matrices"
   ]
  },
  {
   "cell_type": "markdown",
   "id": "decent-model",
   "metadata": {},
   "source": [
    "### Elastic stiffness tensor"
   ]
  },
  {
   "cell_type": "markdown",
   "id": "private-nebraska",
   "metadata": {},
   "source": [
    "### Third order piezoelectric tensor"
   ]
  },
  {
   "cell_type": "code",
   "execution_count": 12,
   "id": "conventional-purse",
   "metadata": {},
   "outputs": [
    {
     "data": {
      "text/plain": [
       "2×2 Matrix{Float64}:\n",
       " 0.0    0.008\n",
       " 0.008  0.0"
      ]
     },
     "execution_count": 12,
     "metadata": {},
     "output_type": "execute_result"
    }
   ],
   "source": [
    "p = VectorValue(0,1)\n",
    "I = [1 0; 0 1]\n",
    "K1 = zeros(2,2,2)\n",
    "K2 = zeros(2,2,2)\n",
    "K3 = zeros(2,2,2)\n",
    "C1 = -6.98e-3\n",
    "C2 = -6.06e-3\n",
    "C3 = 16.00e-3\n",
    "for i = 1:2, j = 1:2, k= 1:2\n",
    "    K1[i,j,k] = p[i]*I[j,k]\n",
    "end\n",
    "for i = 1:2, j = 1:2, k= 1:2\n",
    "    K2[i,j,k] = p[i]*p[j]*p[k]\n",
    "end\n",
    "for i = 1:2, j = 1:2, k= 1:2\n",
    "    K3[i,j,k] = 0.5*(p[j]*I[i,k] + p[k]*I[i,j])\n",
    "end\n",
    "K = C1*K1+C2*K2+C3*K3\n",
    "K[1,:,:]"
   ]
  },
  {
   "cell_type": "code",
   "execution_count": 13,
   "id": "located-mobile",
   "metadata": {},
   "outputs": [
    {
     "data": {
      "text/plain": [
       "ThirdOrderTensorValue{2, 2, 2, Float64, 8}(0.0, -0.00698, 0.008, 0.0, 0.008, 0.0, 0.0, 0.002960000000000001)"
      ]
     },
     "execution_count": 13,
     "metadata": {},
     "output_type": "execute_result"
    }
   ],
   "source": [
    "vals = zeros(2,2,2);\n",
    "    vals[1,:,:] .= K[1,:,:]\n",
    "    vals[2,:,:] .= K[2,:,:]\n",
    "const e_mat = ThirdOrderTensorValue(vals ...)"
   ]
  },
  {
   "cell_type": "raw",
   "id": "incomplete-scientist",
   "metadata": {},
   "source": [
    "function PiezoThirdOrderConstTensor(e₂₁,e₂₂,e₁₆)\n",
    "    # 1 for Plane Stress and 2 Plane Strain Condition \n",
    "      e111 = 0.0\n",
    "      e112 = e₁₆\n",
    "      e121 = e₁₆\n",
    "      e122 = 0.0\n",
    "      e211 = e₂₁\n",
    "      e212 = 0.0\n",
    "      e221 = 0.0\n",
    "      e222 = e₂₂   \n",
    "    vals = zeros(2,2,2);\n",
    "    vals[1,:,:] .= [e111 e112\n",
    "                    e121 e122]\n",
    "    vals[2,:,:] .= [e211 e212\n",
    "                    e221 e222]\n",
    "    e_ten = ThirdOrderTensorValue(vals ...)\n",
    "    return  e_ten\n",
    "end\n",
    "\n",
    "const e_mat = PiezoThirdOrderConstTensor(e₂₁_mat,e₂₂_mat,e₁₆_mat)"
   ]
  },
  {
   "cell_type": "markdown",
   "id": "better-reminder",
   "metadata": {},
   "source": [
    "### Second order electrical permittivity tensor"
   ]
  },
  {
   "cell_type": "code",
   "execution_count": 14,
   "id": "developing-foundation",
   "metadata": {},
   "outputs": [
    {
     "data": {
      "text/plain": [
       "TensorValue{2, 2, Float64, 4}(6.0e-9, 0.0, 0.0, 6.0e-9)"
      ]
     },
     "execution_count": 14,
     "metadata": {},
     "output_type": "execute_result"
    }
   ],
   "source": [
    "const K_mat = TensorValue(K₁₁_mat,0.0,0.0, K₁₁_mat)"
   ]
  },
  {
   "cell_type": "markdown",
   "id": "nutritional-oliver",
   "metadata": {},
   "source": [
    "## Stress\n",
    "\n",
    "$\\sigma_{elas}(\\epsilon(\\boldsymbol{u})) =  \\mathbb{C}\\,\\boldsymbol{\\epsilon}$\n",
    "\n",
    "$\\sigma_{elasMod}(\\epsilon(\\boldsymbol{u}),s) =  \\mathbb{C}_{mod}\\,\\boldsymbol{\\epsilon}$\n",
    "\n",
    "$\\sigma_{piezo}(\\boldsymbol{E}(\\phi)) = - \\mathbb{e}^T\\,\\boldsymbol{E}$\n",
    "\n",
    "or, $\\sigma_{piezo}(\\nabla\\phi) =  \\mathbb{e}^T\\,\\boldsymbol{\\nabla}\\phi$\n",
    "\n",
    "$\\sigma_{piezoMod}(\\nabla\\phi,s) =  \\mathbb{e}_{mod}^T\\,\\boldsymbol{\\nabla}\\phi$"
   ]
  },
  {
   "cell_type": "code",
   "execution_count": 15,
   "id": "built-universe",
   "metadata": {},
   "outputs": [
    {
     "data": {
      "text/plain": [
       "σ_elasMod (generic function with 1 method)"
      ]
     },
     "execution_count": 15,
     "metadata": {},
     "output_type": "execute_result"
    }
   ],
   "source": [
    "σ_elas(ε) = λ_mat*tr(ε)*one(ε) + 2*μ_mat*ε\n",
    "\n",
    "function σ_elasMod(ε, ε_in, s_in)  \n",
    " if tr(ε_in)  >= 0\n",
    "      σ = (s_in^2 + η)*σ_elas(ε)\n",
    "  elseif tr(ε_in) < 0\n",
    "      σ = (s_in^2 + η)*I4_dev ⊙ σ_elas(ε) + I4_vol⊙ σ_elas(ε)\n",
    "  end  \n",
    "    return σ\n",
    "end"
   ]
  },
  {
   "cell_type": "code",
   "execution_count": 16,
   "id": "bc56b220",
   "metadata": {},
   "outputs": [
    {
     "data": {
      "text/plain": [
       "σ_piezoMod (generic function with 1 method)"
      ]
     },
     "execution_count": 16,
     "metadata": {},
     "output_type": "execute_result"
    }
   ],
   "source": [
    "σ_piezo(∇) = ∇ ⋅ e_mat\n",
    "\n",
    "σ_piezoMod(∇, ∇_in, s_in) = (s_in^2 + η)*σ_piezo(∇)"
   ]
  },
  {
   "cell_type": "markdown",
   "id": "average-petroleum",
   "metadata": {},
   "source": [
    "### Electric Displacement\n",
    "\n",
    "$\\boldsymbol{D}_{elas}(ε(\\boldsymbol{u}),tag) = \\mathbb{e}\\boldsymbol{\\epsilon}$\n",
    "\n",
    "$\\boldsymbol{D}_{elasMod}(ε(\\boldsymbol{u}),s,tag) = \\mathbb{e}_{mod}\\boldsymbol{\\epsilon}$\n",
    "\n",
    "$\\boldsymbol{D}_{piezo}(\\boldsymbol{E}(\\phi)) = -\\boldsymbol{K}\\boldsymbol{E} $\n",
    "\n",
    "or, $\\boldsymbol{D}_{piezo}(\\nabla\\phi)  = \\boldsymbol{K}\\boldsymbol{\\nabla} \\phi$\n",
    "\n",
    "$\\boldsymbol{D}_{piezoMod}(\\nabla\\phi,s)  = \\boldsymbol{K}_{mod}\\boldsymbol{\\nabla} \\phi$"
   ]
  },
  {
   "cell_type": "code",
   "execution_count": 17,
   "id": "f5be4d33",
   "metadata": {},
   "outputs": [
    {
     "data": {
      "text/plain": [
       "D_elasMod (generic function with 1 method)"
      ]
     },
     "execution_count": 17,
     "metadata": {},
     "output_type": "execute_result"
    }
   ],
   "source": [
    "D_elasMod(ε, ∇_in, s_in) = (s_in^2 + η)*(e_mat ⋅² ε)"
   ]
  },
  {
   "cell_type": "code",
   "execution_count": 18,
   "id": "7c9f4d54",
   "metadata": {},
   "outputs": [
    {
     "data": {
      "text/plain": [
       "D_piezoMod (generic function with 1 method)"
      ]
     },
     "execution_count": 18,
     "metadata": {},
     "output_type": "execute_result"
    }
   ],
   "source": [
    "D_piezo(∇) = K_mat ⋅ ∇\n",
    "\n",
    "function D_piezoMod(∇, s_in)   \n",
    "    return (s_in^2 + η)*D_piezo(∇)\n",
    "end"
   ]
  },
  {
   "cell_type": "code",
   "execution_count": 19,
   "id": "reflected-female",
   "metadata": {},
   "outputs": [
    {
     "data": {
      "text/plain": [
       "ψPos (generic function with 1 method)"
      ]
     },
     "execution_count": 19,
     "metadata": {},
     "output_type": "execute_result"
    }
   ],
   "source": [
    "function ψPos(ε_in, ∇_in)   \n",
    " if tr(ε_in) >= 0\n",
    "    ψPlus = 0.5*(ε_in ⊙ σ_elas(ε_in)) + 0.5*(σ_piezo(∇_in) ⊙ ε_in)\n",
    " elseif tr(ε_in) < 0\n",
    "    ψPlus = 0.5*((I4_dev ⊙ σ_elas(ε_in)) ⊙ (I4_dev ⊙ ε_in)) + 0.5*(σ_piezo(∇_in) ⊙ (I4_dev ⊙ ε_in))        \n",
    " end \n",
    "    return ψPlus\n",
    "end"
   ]
  },
  {
   "cell_type": "code",
   "execution_count": 20,
   "id": "6fce0388",
   "metadata": {},
   "outputs": [
    {
     "data": {
      "text/plain": [
       "new_EnergyState (generic function with 1 method)"
      ]
     },
     "execution_count": 20,
     "metadata": {},
     "output_type": "execute_result"
    }
   ],
   "source": [
    "function new_EnergyState(ψPlusPrev_in,ψhPos_in)\n",
    "  ψPlus_in = ψhPos_in\n",
    "  if ψPlus_in >= ψPlusPrev_in\n",
    "    ψPlus_out = ψPlus_in\n",
    "  else\n",
    "    ψPlus_out = ψPlusPrev_in\n",
    "  end\n",
    "  true,ψPlus_out\n",
    "end"
   ]
  },
  {
   "cell_type": "markdown",
   "id": "spare-throw",
   "metadata": {},
   "source": [
    "## FE formulation"
   ]
  },
  {
   "cell_type": "code",
   "execution_count": 21,
   "id": "tough-beast",
   "metadata": {},
   "outputs": [
    {
     "data": {
      "text/plain": [
       "project (generic function with 1 method)"
      ]
     },
     "execution_count": 21,
     "metadata": {},
     "output_type": "execute_result"
    }
   ],
   "source": [
    "function project(q,model,dΩ,order)\n",
    "  reffe = ReferenceFE(lagrangian,Float64,order)\n",
    "  V = FESpace(model,reffe,conformity=:L2)\n",
    "  a(u,v) = ∫( u*v )*dΩ\n",
    "  l(v) = ∫( v*q )*dΩ\n",
    "  op = AffineFEOperator(a,l,V,V)\n",
    "  qh = solve(op)\n",
    "  qh\n",
    "end"
   ]
  },
  {
   "cell_type": "code",
   "execution_count": 22,
   "id": "french-place",
   "metadata": {},
   "outputs": [
    {
     "data": {
      "text/plain": [
       "2"
      ]
     },
     "execution_count": 22,
     "metadata": {},
     "output_type": "execute_result"
    }
   ],
   "source": [
    "order = 1\n",
    "degree = 2*order"
   ]
  },
  {
   "cell_type": "code",
   "execution_count": 23,
   "id": "stuck-parent",
   "metadata": {},
   "outputs": [
    {
     "data": {
      "text/plain": [
       "Measure()"
      ]
     },
     "execution_count": 23,
     "metadata": {},
     "output_type": "execute_result"
    }
   ],
   "source": [
    "Ω = Triangulation(model)\n",
    "dΩ = Measure(Ω,degree)"
   ]
  },
  {
   "cell_type": "code",
   "execution_count": 24,
   "id": "focal-alliance",
   "metadata": {},
   "outputs": [
    {
     "data": {
      "text/plain": [
       "GenericCellField():\n",
       " num_cells: 2\n",
       " DomainStyle: ReferenceDomain()\n",
       " Triangulation: BoundaryTriangulation()\n",
       " Triangulation id: 8690521999222340486"
      ]
     },
     "execution_count": 24,
     "metadata": {},
     "output_type": "execute_result"
    }
   ],
   "source": [
    "LoadTagId = get_tag_from_name(labels,\"DirichletTop\")\n",
    "Γ_Load = BoundaryTriangulation(model,tags = LoadTagId)\n",
    "dΓ_Load = Measure(Γ_Load,degree)\n",
    "n_Γ_Load = get_normal_vector(Γ_Load)"
   ]
  },
  {
   "cell_type": "code",
   "execution_count": 25,
   "id": "incorporated-decade",
   "metadata": {},
   "outputs": [
    {
     "data": {
      "text/plain": [
       "SingleFieldFEFunction():\n",
       " num_cells: 67716\n",
       " DomainStyle: ReferenceDomain()\n",
       " Triangulation: UnstructuredGrid()\n",
       " Triangulation id: 11358333469752246961"
      ]
     },
     "execution_count": 25,
     "metadata": {},
     "output_type": "execute_result"
    }
   ],
   "source": [
    "reffe_PF = ReferenceFE(lagrangian,Float64,order)\n",
    "V0_PF = TestFESpace(model,reffe_PF;\n",
    "  conformity=:H1)\n",
    "U_PF = TrialFESpace(V0_PF)\n",
    "sh = zero(V0_PF)"
   ]
  },
  {
   "cell_type": "code",
   "execution_count": 26,
   "id": "victorian-utilization",
   "metadata": {},
   "outputs": [
    {
     "data": {
      "text/plain": [
       "SingleFieldFEFunction():\n",
       " num_cells: 67716\n",
       " DomainStyle: ReferenceDomain()\n",
       " Triangulation: UnstructuredGrid()\n",
       " Triangulation id: 11358333469752246961"
      ]
     },
     "execution_count": 26,
     "metadata": {},
     "output_type": "execute_result"
    }
   ],
   "source": [
    "reffe_Disp = ReferenceFE(lagrangian,VectorValue{2,Float64},order)\n",
    "        V0_Disp = TestFESpace(model,reffe_Disp;\n",
    "          conformity=:H1,\n",
    "          dirichlet_tags=[\"DirichletTop\", \"DirichletBot\"],\n",
    "          dirichlet_masks=[(false,true), (false,true)])\n",
    "\n",
    "uh = zero(V0_Disp)"
   ]
  },
  {
   "cell_type": "code",
   "execution_count": 27,
   "id": "unique-iceland",
   "metadata": {},
   "outputs": [
    {
     "data": {
      "text/plain": [
       "UnconstrainedFESpace()"
      ]
     },
     "execution_count": 27,
     "metadata": {},
     "output_type": "execute_result"
    }
   ],
   "source": [
    "reffe_ElecPot = ReferenceFE(lagrangian,Float64,order)\n",
    "V0_ElecPot  = TestFESpace(model,reffe_ElecPot;\n",
    "  conformity=:H1,\n",
    "  dirichlet_tags=[\"ElectricPotentialTop\",\"ElectricPotentialBot\"])"
   ]
  },
  {
   "cell_type": "code",
   "execution_count": 28,
   "id": "accredited-startup",
   "metadata": {},
   "outputs": [
    {
     "data": {
      "text/plain": [
       "MultiFieldFESpace()"
      ]
     },
     "execution_count": 28,
     "metadata": {},
     "output_type": "execute_result"
    }
   ],
   "source": [
    "V0 = MultiFieldFESpace([V0_Disp,V0_ElecPot])"
   ]
  },
  {
   "cell_type": "code",
   "execution_count": 29,
   "id": "terminal-saint",
   "metadata": {},
   "outputs": [
    {
     "data": {
      "text/plain": [
       "stepPhaseField (generic function with 1 method)"
      ]
     },
     "execution_count": 29,
     "metadata": {},
     "output_type": "execute_result"
    }
   ],
   "source": [
    "function  stepPhaseField(uh_in,ψPlusPrev_in)\n",
    "        \n",
    "        a_PF(s,ϕ) = ∫( Gc*lsp*∇(ϕ)⋅ ∇(s) + 2*ψPlusPrev_in*s*ϕ  + (Gc/lsp)*s*ϕ )*dΩ\n",
    "        b_PF(ϕ) = ∫( (Gc/lsp)*ϕ )*dΩ\n",
    "        op_PF = AffineFEOperator(a_PF,b_PF,U_PF,V0_PF)\n",
    "        sh_out = solve(op_PF)           \n",
    "    \n",
    "    return sh_out\n",
    "    \n",
    "end"
   ]
  },
  {
   "cell_type": "code",
   "execution_count": 30,
   "id": "broadband-tracker",
   "metadata": {},
   "outputs": [
    {
     "data": {
      "text/plain": [
       "stepDispElecPot (generic function with 1 method)"
      ]
     },
     "execution_count": 30,
     "metadata": {},
     "output_type": "execute_result"
    }
   ],
   "source": [
    " function   stepDispElecPot(uh_in,phih_in,sh_in,vApp,phiApp)\n",
    "    \n",
    "        uApp1(x) = VectorValue(0.0,vApp)\n",
    "        uApp2(x) = VectorValue(0.0,-vApp)\n",
    "        U_Disp = TrialFESpace(V0_Disp,[uApp1,uApp2])\n",
    "    \n",
    "        phiApp1(x) = 0\n",
    "        phiApp2(x) = phiApp\n",
    "        U_ElecPot = TrialFESpace(V0_ElecPot,[phiApp1,phiApp2])\n",
    "    \n",
    "        U = MultiFieldFESpace([U_Disp,U_ElecPot])\n",
    "    \n",
    "        a((u,ϕ),(v,ψ)) = ∫( (ε(v) ⊙ (σ_elasMod∘(ε(u),ε(uh_in),sh_in))) + (∇(v) ⊙ (σ_piezoMod ∘(∇(ϕ),∇(phih_in),sh_in))) - (∇(ψ)⋅(D_piezoMod∘ (∇(ϕ),sh_in))) + (∇(ψ)⋅(D_elasMod∘(ε(u),∇(phih_in),sh_in))) )*dΩ\n",
    "        b((v,ψ)) = 0.0\n",
    "    \n",
    "        op = AffineFEOperator(a,b,U,V0)\n",
    "        uhPhi = solve(op)\n",
    "        uh_out,phih_out = uhPhi\n",
    "    \n",
    "    return uh_out,phih_out\n",
    "end"
   ]
  },
  {
   "cell_type": "code",
   "execution_count": 31,
   "id": "electoral-disability",
   "metadata": {
    "scrolled": true
   },
   "outputs": [
    {
     "name": "stdout",
     "output_type": "stream",
     "text": [
      "\n",
      " Entering displacemtent step1 :0.0001\n",
      " Relative error = 2.5459796109815345e-17\n",
      " Entering displacemtent step2 :0.0002\n",
      " Relative error = 7.2754874101616595e-6\n",
      " Relative error = 2.1824816912692697e-5\n",
      " Relative error = 2.4685024029167305e-9\n",
      " Entering displacemtent step3 :0.00030000000000000003\n",
      " Relative error = 3.296330882894348e-12\n",
      " Entering displacemtent step4 :0.0004\n",
      " Relative error = 3.6363730251968694e-5\n",
      " Relative error = 5.0892684798265924e-5\n",
      " Relative error = 2.287099556350153e-8\n",
      " Relative error = 1.232577729548271e-10\n",
      " Entering displacemtent step5 :0.0005\n",
      " Relative error = 1.593678482959108e-12\n",
      " Entering displacemtent step6 :0.0006000000000000001\n",
      " Relative error = 6.537386116286079e-5\n",
      " Relative error = 4.8803159019735876e-5\n",
      " Relative error = 4.059108914240702e-8\n",
      " Relative error = 1.0383710454606023e-9\n",
      " Entering displacemtent step7 :0.0007000000000000001\n",
      " Relative error = 3.4458892062936835e-11\n",
      " Entering displacemtent step8 :0.0008000000000000001\n",
      " Relative error = 5.7480711237472866e-5\n",
      " Relative error = 6.640642032505166e-5\n",
      " Relative error = 1.0926150845722781e-7\n",
      " Relative error = 5.522376180429895e-9\n",
      " Entering displacemtent step9 :0.0009000000000000002\n",
      " Relative error = 3.4719709811610226e-10\n",
      " Entering displacemtent step10 :0.0010000000000000002\n",
      " Relative error = 7.508808300555402e-5\n",
      " Relative error = 8.386660651782521e-5\n",
      " Relative error = 2.3680579745908684e-7\n",
      " Relative error = 1.96632724634646e-8\n",
      " Relative error = 2.021892954081599e-9\n",
      " Entering displacemtent step11 :0.0011000000000000003\n",
      " Relative error = 2.1659907762625457e-10\n",
      " Entering displacemtent step12 :0.0012000000000000003\n",
      " Relative error = 9.203435825317155e-5\n",
      " Relative error = 0.00010059773714546137\n",
      " Relative error = 4.4937710760916863e-7\n",
      " Relative error = 5.621922976088082e-8\n",
      " Relative error = 8.68188963321412e-9\n",
      " Entering displacemtent step13 :0.0013000000000000004\n",
      " Relative error = 1.4008901211183534e-9\n",
      " Entering displacemtent step14 :0.0014000000000000004\n",
      " Relative error = 0.00010812824437168241\n",
      " Relative error = 0.00011668422834637222\n",
      " Relative error = 7.787633777553923e-7\n",
      " Relative error = 1.3951842072328038e-7\n",
      " Relative error = 3.0757147648201246e-8\n",
      " Relative error = 7.0969917346407496e-9\n",
      " Entering displacemtent step15 :0.0015000000000000005\n",
      " Relative error = 1.6597579364017548e-9\n",
      " Entering displacemtent step16 :0.0016000000000000005\n",
      " Relative error = 0.00012352915020870896\n",
      " Relative error = 0.0001323016246392863\n",
      " Relative error = 1.2726986870568614e-6\n",
      " Relative error = 3.1529477226808504e-7\n",
      " Relative error = 9.595344959352504e-8\n",
      " Relative error = 3.065602337098184e-8\n",
      " Relative error = 9.943938573954164e-9\n",
      " Entering displacemtent step17 :0.0017000000000000006\n",
      " Relative error = 3.241442547805802e-9\n",
      " Entering displacemtent step18 :0.0018000000000000006\n",
      " Relative error = 0.0001380884569837152\n",
      " Relative error = 0.00014755698096116068\n",
      " Relative error = 2.0059835464626026e-6\n",
      " Relative error = 6.728641771727983e-7\n",
      " Relative error = 2.7781456612451995e-7\n",
      " Relative error = 1.210228722213512e-7\n",
      " Relative error = 5.36744400985581e-8\n",
      " Relative error = 2.3969965420775105e-8\n",
      " Relative error = 1.0734363575561596e-8\n",
      " Relative error = 4.812590653124739e-9\n",
      " Entering displacemtent step19 :0.0019000000000000006\n",
      " Relative error = 2.158694053706713e-9\n",
      " Entering displacemtent step20 :0.0020000000000000005\n",
      " Relative error = 0.00015163348256174567\n",
      " Relative error = 0.00016258711187695638\n",
      " Relative error = 3.1044315404454173e-6\n",
      " Relative error = 1.4020944730241714e-6\n",
      " Relative error = 7.819620699271742e-7\n",
      " Relative error = 4.6464667830142016e-7\n",
      " Relative error = 2.8355849016381226e-7\n",
      " Relative error = 1.752056711693228e-7\n",
      " Relative error = 1.0902473910165578e-7\n",
      " Relative error = 6.813462793917657e-8\n",
      " Entering displacemtent step21 :0.0021000000000000003\n",
      " Relative error = 4.269165457898886e-8\n",
      " Relative error = 0.00016284498254777596\n",
      " Relative error = 2.8551658694602353e-6\n",
      " Relative error = 1.4747857035769567e-6\n",
      " Relative error = 9.79562623245601e-7\n",
      " Relative error = 6.968320552825182e-7\n",
      " Relative error = 5.108228865259071e-7\n",
      " Relative error = 3.8078658679494366e-7\n",
      " Relative error = 2.868347953490992e-7\n",
      " Relative error = 2.177428972934572e-7\n",
      " Entering displacemtent step22 :0.0022\n",
      " Relative error = 1.6622003814018943e-7\n",
      " Relative error = 0.00016887852579017487\n",
      " Relative error = 3.5174772831605297e-6\n",
      " Relative error = 2.217323139740696e-6\n",
      " Relative error = 1.7897697193202447e-6\n",
      " Relative error = 1.5562866885881208e-6\n",
      " Relative error = 1.4064055302668771e-6\n",
      " Relative error = 1.304791216960149e-6\n",
      " Relative error = 1.2373536341173142e-6\n",
      " Relative error = 1.19626023042116e-6\n",
      " Entering displacemtent step23 :0.0023\n",
      " Relative error = 1.1776534160121233e-6\n",
      " Relative error = 0.00016811432540825692\n",
      " Relative error = 5.390847359761061e-6\n",
      " Relative error = 4.653151666182009e-6\n",
      " Relative error = 4.8746590221898335e-6\n",
      " Relative error = 5.368965391587279e-6\n",
      " Relative error = 6.00992437579627e-6\n",
      " Relative error = 6.644558662113691e-6\n",
      " Relative error = 7.032781810772174e-6\n",
      " Relative error = 7.0336432734416816e-6\n",
      " Entering displacemtent step24 :0.0024\n",
      " Relative error = 6.721175677025608e-6\n",
      " Relative error = 0.0001410403223061243\n",
      " Relative error = 1.0435885196207046e-5\n",
      " Relative error = 8.708952804947947e-6\n",
      " Relative error = 7.97228118106868e-6\n",
      " Relative error = 7.442028544660164e-6\n",
      " Relative error = 6.977842379244151e-6\n",
      " Relative error = 6.570953960752375e-6\n",
      " Relative error = 6.249994923301177e-6\n",
      " Relative error = 5.982013385498151e-6\n",
      " Entering displacemtent step25 :0.0024999999999999996\n",
      " Relative error = 5.724193182096417e-6\n",
      " Relative error = 0.00013327012556015573\n",
      " Relative error = 1.0091728608903468e-5\n",
      " Relative error = 8.751968440124992e-6\n",
      " Relative error = 8.3804440293667e-6\n",
      " Relative error = 8.123592443097966e-6\n",
      " Relative error = 7.788631093338913e-6\n",
      " Relative error = 7.419968172104539e-6\n",
      " Relative error = 7.160773479512089e-6\n",
      " Relative error = 6.948356357389169e-6\n",
      " Entering displacemtent step26 :0.0025999999999999994\n",
      " Relative error = 6.714638935993196e-6\n",
      " Relative error = 0.00013260395193418525\n",
      " Relative error = 1.1165135803846486e-5\n",
      " Relative error = 9.725695477246227e-6\n",
      " Relative error = 9.279424599975873e-6\n",
      " Relative error = 8.993449896012858e-6\n",
      " Relative error = 8.722707057976337e-6\n",
      " Relative error = 8.513189231288311e-6\n",
      " Relative error = 8.313800341602074e-6\n",
      " Relative error = 8.07155499429559e-6\n",
      " Entering displacemtent step27 :0.0026999999999999993\n",
      " Relative error = 7.828644586757536e-6\n",
      " Relative error = 0.00012802086577399098\n",
      " Relative error = 1.2328394780605765e-5\n",
      " Relative error = 1.0659685794915648e-5\n",
      " Relative error = 1.013628509153404e-5\n",
      " Relative error = 9.931796924635991e-6\n",
      " Relative error = 9.665619696439147e-6\n",
      " Relative error = 9.321669837029752e-6\n",
      " Relative error = 9.084182990981888e-6\n",
      " Relative error = 8.923829823933673e-6\n",
      " Entering displacemtent step28 :0.002799999999999999\n",
      " Relative error = 8.700891858729692e-6\n",
      " Relative error = 0.00012270261473285352\n",
      " Relative error = 1.3526948610330273e-5\n",
      " Relative error = 1.1938565424932174e-5\n",
      " Relative error = 1.1507061316940283e-5\n",
      " Relative error = 1.1178186528391944e-5\n",
      " Relative error = 1.078845729834404e-5\n",
      " Relative error = 1.0483479416616304e-5\n",
      " Relative error = 1.0284101585380399e-5\n",
      " Relative error = 1.0093993337322077e-5\n",
      " Entering displacemtent step29 :0.002899999999999999\n",
      " Relative error = 9.870977574635886e-6\n",
      " Relative error = 0.0001158495742834454\n",
      " Relative error = 1.4786405436844993e-5\n",
      " Relative error = 1.3290775023631804e-5\n",
      " Relative error = 1.2853081860103569e-5\n",
      " Relative error = 1.2416557108554018e-5\n",
      " Relative error = 1.212684806508205e-5\n",
      " Relative error = 1.190435232345304e-5\n",
      " Relative error = 1.173407371671891e-5\n",
      " Relative error = 1.1519655279708868e-5\n",
      " Entering displacemtent step30 :0.0029999999999999988\n",
      " Relative error = 1.1351779268082839e-5\n",
      " Relative error = 0.00011174841185759465\n",
      " Relative error = 1.625279472933017e-5\n",
      " Relative error = 1.4413555764551461e-5\n",
      " Relative error = 1.3798323676859877e-5\n",
      " Relative error = 1.3452551573067288e-5\n",
      " Relative error = 1.328474222165327e-5\n",
      " Relative error = 1.2988966662994703e-5\n",
      " Relative error = 1.2507619918506344e-5\n",
      " Relative error = 1.2111117554227183e-5\n"
     ]
    },
    {
     "name": "stdout",
     "output_type": "stream",
     "text": [
      " Entering displacemtent step31 :0.0030999999999999986\n",
      " Relative error = 1.1960326611442706e-5\n",
      " Relative error = 0.00010849640188829962\n",
      " Relative error = 1.7123390843590536e-5\n",
      " Relative error = 1.5319826315204507e-5\n",
      " Relative error = 1.4802238349742041e-5\n",
      " Relative error = 1.4524247619282851e-5\n",
      " Relative error = 1.4053490818238814e-5\n",
      " Relative error = 1.3724932332785447e-5\n",
      " Relative error = 1.3485677049179513e-5\n",
      " Relative error = 1.32499269717588e-5\n",
      " Entering displacemtent step32 :0.0031999999999999984\n",
      " Relative error = 1.3011094317111653e-5\n",
      " Relative error = 0.00010569452184098542\n",
      " Relative error = 1.7727184420946862e-5\n",
      " Relative error = 1.6042558873390874e-5\n",
      " Relative error = 1.5641853991123455e-5\n",
      " Relative error = 1.5171421631559954e-5\n",
      " Relative error = 1.4803080925611183e-5\n",
      " Relative error = 1.4592714168180526e-5\n",
      " Relative error = 1.4389357661311748e-5\n",
      " Relative error = 1.3976043116194296e-5\n",
      " Entering displacemtent step33 :0.0032999999999999982\n",
      " Relative error = 1.3638406126149152e-5\n",
      " Relative error = 0.00010354062398566318\n",
      " Relative error = 1.8778551323480618e-5\n",
      " Relative error = 1.7039700621742318e-5\n",
      " Relative error = 1.639381406658777e-5\n",
      " Relative error = 1.5989568392245633e-5\n",
      " Relative error = 1.5672387989229773e-5\n",
      " Relative error = 1.541202120766185e-5\n",
      " Relative error = 1.5031716426291454e-5\n",
      " Relative error = 1.4677671222087464e-5\n",
      " Entering displacemtent step34 :0.003399999999999998\n",
      " Relative error = 1.4380446147686696e-5\n",
      " Relative error = 0.00010094863997727618\n",
      " Relative error = 1.930680404850924e-5\n",
      " Relative error = 1.759784172958673e-5\n",
      " Relative error = 1.70840850595768e-5\n",
      " Relative error = 1.650930815174821e-5\n",
      " Relative error = 1.608202894086469e-5\n",
      " Relative error = 1.5847460491646367e-5\n",
      " Relative error = 1.560176760219953e-5\n",
      " Relative error = 1.5253608269226765e-5\n",
      " Entering displacemtent step35 :0.003499999999999998\n",
      " Relative error = 1.48902875650985e-5\n",
      " Relative error = 9.846263540322046e-5\n",
      " Relative error = 1.9628384425856364e-5\n",
      " Relative error = 1.786247762415692e-5\n",
      " Relative error = 1.7249166533080844e-5\n",
      " Relative error = 1.6906581005282653e-5\n",
      " Relative error = 1.654483646622209e-5\n",
      " Relative error = 1.612391672623729e-5\n",
      " Relative error = 1.5828231500808525e-5\n",
      " Relative error = 1.5461943666053166e-5\n",
      " Entering displacemtent step36 :0.0035999999999999977\n",
      " Relative error = 1.5224997806750868e-5\n",
      " Relative error = 9.577914921891944e-5\n",
      " Relative error = 2.0090194122109838e-5\n",
      " Relative error = 1.827541728593488e-5\n",
      " Relative error = 1.760277601476963e-5\n",
      " Relative error = 1.7296415614368078e-5\n",
      " Relative error = 1.6979956482812906e-5\n",
      " Relative error = 1.6554458910726146e-5\n",
      " Relative error = 1.6275490116471207e-5\n",
      " Relative error = 1.6143014888609762e-5\n",
      " Entering displacemtent step37 :0.0036999999999999976\n",
      " Relative error = 1.589954288572107e-5\n",
      " Relative error = 9.328321560613221e-5\n",
      " Relative error = 2.0453489673173255e-5\n",
      " Relative error = 1.8676261676242766e-5\n",
      " Relative error = 1.812481180338747e-5\n",
      " Relative error = 1.7699642065420045e-5\n",
      " Relative error = 1.741860962860506e-5\n",
      " Relative error = 1.7114471507254616e-5\n",
      " Relative error = 1.6780156809588926e-5\n",
      " Relative error = 1.6561835979248885e-5\n",
      " Entering displacemtent step38 :0.0037999999999999974\n",
      " Relative error = 1.6259476821165337e-5\n",
      " Relative error = 9.103623666730163e-5\n",
      " Relative error = 2.074259474044775e-5\n",
      " Relative error = 1.9072444084130156e-5\n",
      " Relative error = 1.852467939720363e-5\n",
      " Relative error = 1.790609548821723e-5\n",
      " Relative error = 1.7557573352044273e-5\n",
      " Relative error = 1.726776404965249e-5\n",
      " Relative error = 1.697506315528782e-5\n",
      " Relative error = 1.668798805963924e-5\n",
      " Entering displacemtent step39 :0.0038999999999999972\n",
      " Relative error = 1.6464092656316068e-5\n",
      " Relative error = 8.83365980872905e-5\n",
      " Relative error = 2.1074616426433855e-5\n",
      " Relative error = 1.9330121341976587e-5\n",
      " Relative error = 1.8672348635443387e-5\n",
      " Relative error = 1.825854994552349e-5\n",
      " Relative error = 1.7976973264473997e-5\n",
      " Relative error = 1.7646492862009356e-5\n",
      " Relative error = 1.7365597996104333e-5\n",
      " Relative error = 1.7089802142086927e-5\n",
      " Entering displacemtent step40 :0.0039999999999999975\n",
      " Relative error = 1.6754797770971295e-5\n",
      " Relative error = 8.508093325029382e-5\n",
      " Relative error = 2.1276760730059523e-5\n",
      " Relative error = 1.9534676361159557e-5\n",
      " Relative error = 1.898305928693999e-5\n",
      " Relative error = 1.8558248306678795e-5\n",
      " Relative error = 1.8230399209139267e-5\n",
      " Relative error = 1.7929807015173343e-5\n",
      " Relative error = 1.7659238163139422e-5\n",
      " Relative error = 1.7460101240862108e-5\n",
      " Entering displacemtent step41 :0.004099999999999998\n",
      " Relative error = 1.7309569886248824e-5\n",
      " Relative error = 8.308094100471544e-5\n",
      " Relative error = 2.1757267204485038e-5\n",
      " Relative error = 1.9946945593248178e-5\n",
      " Relative error = 1.931583936467694e-5\n",
      " Relative error = 1.898485957102176e-5\n",
      " Relative error = 1.8615710090068472e-5\n",
      " Relative error = 1.8217066349630222e-5\n",
      " Relative error = 1.7758013863337617e-5\n",
      " Relative error = 1.735907470954238e-5\n",
      " Entering displacemtent step42 :0.004199999999999998\n",
      " Relative error = 1.713771460068087e-5\n",
      " Relative error = 8.133283836220816e-5\n",
      " Relative error = 2.1679091021771538e-5\n",
      " Relative error = 2.0151861647113056e-5\n",
      " Relative error = 1.956018236813394e-5\n",
      " Relative error = 1.90702626083303e-5\n",
      " Relative error = 1.8759525424886343e-5\n",
      " Relative error = 1.836719663518845e-5\n",
      " Relative error = 1.802844209080201e-5\n",
      " Relative error = 1.771530556698743e-5\n",
      " Entering displacemtent step43 :0.004299999999999998\n",
      " Relative error = 1.7416783559727865e-5\n",
      " Relative error = 7.886730081568297e-5\n",
      " Relative error = 2.1881628189295527e-5\n",
      " Relative error = 2.021908702493247e-5\n",
      " Relative error = 1.973115679660335e-5\n",
      " Relative error = 1.940813131051243e-5\n",
      " Relative error = 1.9080492759750674e-5\n",
      " Relative error = 1.881664018593193e-5\n",
      " Relative error = 1.8487942850355828e-5\n",
      " Relative error = 1.8259696322824724e-5\n",
      " Entering displacemtent step44 :0.0043999999999999985\n",
      " Relative error = 1.7988182848306145e-5\n",
      " Relative error = 7.625507208252248e-5\n",
      " Relative error = 2.2308285247769606e-5\n",
      " Relative error = 2.064451441804404e-5\n",
      " Relative error = 2.013803852435786e-5\n",
      " Relative error = 1.9611299096859495e-5\n",
      " Relative error = 1.9274638996472193e-5\n",
      " Relative error = 1.9054910552369403e-5\n",
      " Relative error = 1.8763130000627562e-5\n",
      " Relative error = 1.8374855860277737e-5\n",
      " Entering displacemtent step45 :0.004499999999999999\n",
      " Relative error = 1.8003203121676478e-5\n",
      " Relative error = 7.414967643484496e-5\n",
      " Relative error = 2.1988934606274642e-5\n",
      " Relative error = 2.045010998282766e-5\n",
      " Relative error = 1.987525777344905e-5\n",
      " Relative error = 1.9470111430210536e-5\n",
      " Relative error = 1.9176942682867978e-5\n",
      " Relative error = 1.8907790449190613e-5\n",
      " Relative error = 1.869542125470636e-5\n",
      " Relative error = 1.8416040367132147e-5\n",
      " Entering displacemtent step46 :0.004599999999999999\n",
      " Relative error = 1.810008503423059e-5\n",
      " Relative error = 7.205873331320526e-5\n",
      " Relative error = 2.2239466926491658e-5\n",
      " Relative error = 2.0623871737433306e-5\n",
      " Relative error = 2.0112790723015127e-5\n",
      " Relative error = 1.982388416584685e-5\n",
      " Relative error = 1.9507947059076325e-5\n",
      " Relative error = 1.9124717876830123e-5\n",
      " Relative error = 1.8831700747985947e-5\n",
      " Relative error = 1.8478706961216637e-5\n",
      " Entering displacemtent step47 :0.004699999999999999\n",
      " Relative error = 1.8178304764527347e-5\n",
      " Relative error = 6.989243479317964e-5\n",
      " Relative error = 2.226550607529774e-5\n",
      " Relative error = 2.0575111210352683e-5\n",
      " Relative error = 2.003537869212251e-5\n",
      " Relative error = 1.9675876747938732e-5\n",
      " Relative error = 1.932181760328584e-5\n",
      " Relative error = 1.892811906870651e-5\n",
      " Relative error = 1.8651898149102655e-5\n",
      " Relative error = 1.8464365675478482e-5\n",
      " Entering displacemtent step48 :0.0048\n",
      " Relative error = 1.8275692133822752e-5\n",
      " Relative error = 6.737629478307203e-5\n",
      " Relative error = 2.2364520744011234e-5\n",
      " Relative error = 2.071460798946909e-5\n",
      " Relative error = 2.027519912856645e-5\n",
      " Relative error = 1.988858859955709e-5\n",
      " Relative error = 1.9579238180967103e-5\n",
      " Relative error = 1.929755806849032e-5\n",
      " Relative error = 1.9133283332635112e-5\n",
      " Relative error = 1.8994505017021096e-5\n",
      " Entering displacemtent step49 :0.0049\n",
      " Relative error = 1.8632051837111664e-5\n"
     ]
    },
    {
     "name": "stdout",
     "output_type": "stream",
     "text": [
      " Relative error = 6.488844959522709e-5\n",
      " Relative error = 2.26873828532806e-5\n",
      " Relative error = 2.1091640116687902e-5\n",
      " Relative error = 2.0596170870515722e-5\n",
      " Relative error = 2.0219072000371537e-5\n",
      " Relative error = 1.9970138736816903e-5\n",
      " Relative error = 1.9616559017825997e-5\n",
      " Relative error = 1.9268441693501746e-5\n",
      " Relative error = 1.8983656916847682e-5\n",
      " Entering displacemtent step50 :0.005\n",
      " Relative error = 1.870503039487232e-5\n",
      " Relative error = 6.248858473047505e-5\n",
      " Relative error = 2.245366831163082e-5\n",
      " Relative error = 2.0949842313145233e-5\n",
      " Relative error = 2.039280784608873e-5\n",
      " Relative error = 2.0146168805611467e-5\n",
      " Relative error = 1.9799272259422684e-5\n",
      " Relative error = 1.9508138453623868e-5\n",
      " Relative error = 1.9199347800392148e-5\n",
      " Relative error = 1.8876434036064512e-5\n",
      " Entering displacemtent step51 :0.0051\n",
      " Relative error = 1.856570024059906e-5\n",
      " Relative error = 6.081447508065443e-5\n",
      " Relative error = 2.2318503049294273e-5\n",
      " Relative error = 2.080794928418198e-5\n",
      " Relative error = 2.0329592598772114e-5\n",
      " Relative error = 1.9968304832621272e-5\n",
      " Relative error = 1.97148333155472e-5\n",
      " Relative error = 1.942288074256175e-5\n",
      " Relative error = 1.9150543515481866e-5\n",
      " Relative error = 1.89093786778975e-5\n",
      " Entering displacemtent step52 :0.005200000000000001\n",
      " Relative error = 1.8662234376268283e-5\n",
      " Relative error = 5.883909226009645e-5\n",
      " Relative error = 2.230737321353658e-5\n",
      " Relative error = 2.082265916837523e-5\n",
      " Relative error = 2.0391563840936162e-5\n",
      " Relative error = 2.0094277775899065e-5\n",
      " Relative error = 1.9871624618242288e-5\n",
      " Relative error = 1.951837351402758e-5\n",
      " Relative error = 1.925075325334884e-5\n",
      " Relative error = 1.9023312109873764e-5\n",
      " Entering displacemtent step53 :0.005300000000000001\n",
      " Relative error = 1.8794996615774716e-5\n",
      " Relative error = 5.6219124238552875e-5\n",
      " Relative error = 2.2361623454261743e-5\n",
      " Relative error = 2.0744584866801606e-5\n",
      " Relative error = 2.0384623293575935e-5\n",
      " Relative error = 1.9963557113884378e-5\n",
      " Relative error = 1.9763476792505956e-5\n",
      " Relative error = 1.95593279892741e-5\n",
      " Relative error = 1.9202486687165686e-5\n",
      " Relative error = 1.8858779269271207e-5\n",
      " Entering displacemtent step54 :0.005400000000000001\n",
      " Relative error = 1.866476496000366e-5\n",
      " Relative error = 5.3894532281017625e-5\n",
      " Relative error = 2.227827179740676e-5\n",
      " Relative error = 2.0876885362082325e-5\n",
      " Relative error = 2.0355653037606166e-5\n",
      " Relative error = 2.0113214488958684e-5\n",
      " Relative error = 1.977807467208708e-5\n",
      " Relative error = 1.9515786187273833e-5\n",
      " Relative error = 1.923201681181463e-5\n",
      " Relative error = 1.8947684326344764e-5\n",
      " Entering displacemtent step55 :0.005500000000000001\n",
      " Relative error = 1.871250825208692e-5\n",
      " Relative error = 5.174081940943724e-5\n",
      " Relative error = 2.2009008038628098e-5\n",
      " Relative error = 2.0748380500234868e-5\n",
      " Relative error = 2.0343513003736345e-5\n",
      " Relative error = 2.0146773821662682e-5\n",
      " Relative error = 1.986789796494101e-5\n",
      " Relative error = 1.9587380070304043e-5\n",
      " Relative error = 1.9222888551092818e-5\n",
      " Relative error = 1.907396884409623e-5\n",
      " Entering displacemtent step56 :0.005600000000000002\n",
      " Relative error = 1.8878192750685033e-5\n",
      " Relative error = 4.907582517988749e-5\n",
      " Relative error = 2.2146724474331635e-5\n",
      " Relative error = 2.0755718262417097e-5\n",
      " Relative error = 2.034590814977553e-5\n",
      " Relative error = 1.998125697276777e-5\n",
      " Relative error = 1.975753604872101e-5\n",
      " Relative error = 1.9468222209583925e-5\n",
      " Relative error = 1.9163983595315428e-5\n",
      " Relative error = 1.8931942162657213e-5\n",
      " Entering displacemtent step57 :0.005700000000000002\n",
      " Relative error = 1.8636960902113974e-5\n",
      " Relative error = 4.66238528253014e-5\n",
      " Relative error = 2.182025290892963e-5\n",
      " Relative error = 2.0475626932902165e-5\n",
      " Relative error = 1.9988524492521414e-5\n",
      " Relative error = 1.9631454853050196e-5\n",
      " Relative error = 1.9358786971325674e-5\n",
      " Relative error = 1.903380972664106e-5\n",
      " Relative error = 1.860385551307538e-5\n",
      " Relative error = 1.834799336088864e-5\n",
      " Entering displacemtent step58 :0.005800000000000002\n",
      " Relative error = 1.819083852118613e-5\n",
      " Relative error = 4.3742411109691966e-5\n",
      " Relative error = 2.1166839381561826e-5\n",
      " Relative error = 1.9823194670277504e-5\n",
      " Relative error = 1.941522313006425e-5\n",
      " Relative error = 1.9089701990340917e-5\n",
      " Relative error = 1.881736592173279e-5\n",
      " Relative error = 1.851780351972724e-5\n",
      " Relative error = 1.8317342374775267e-5\n",
      " Relative error = 1.805370916145174e-5\n",
      " Entering displacemtent step59 :0.0059000000000000025\n",
      " Relative error = 1.7827368438678937e-5\n",
      " Relative error = 4.127957310501898e-5\n",
      " Relative error = 2.088770718090837e-5\n",
      " Relative error = 1.960403293726321e-5\n",
      " Relative error = 1.9167473576200547e-5\n",
      " Relative error = 1.8867202236548814e-5\n",
      " Relative error = 1.8523850818071807e-5\n",
      " Relative error = 1.8287621093999036e-5\n",
      " Relative error = 1.8060486098095742e-5\n",
      " Relative error = 1.775334915603835e-5\n",
      " Entering displacemtent step60 :0.006000000000000003\n",
      " Relative error = 1.748007740057422e-5\n",
      " Relative error = 3.855894969323016e-5\n",
      " Relative error = 2.01224946052135e-5\n",
      " Relative error = 1.908762819576207e-5\n",
      " Relative error = 1.876874269256883e-5\n",
      " Relative error = 1.8414028067680013e-5\n",
      " Relative error = 1.8072827501461006e-5\n",
      " Relative error = 1.7704377099527953e-5\n",
      " Relative error = 1.7622178745101235e-5\n",
      " Relative error = 1.7389213340220563e-5\n",
      " Entering displacemtent step61 :0.006100000000000003\n",
      " Relative error = 1.703320008472099e-5\n",
      " Relative error = 3.637174778931744e-5\n",
      " Relative error = 1.9674932097920635e-5\n",
      " Relative error = 1.8472921801487994e-5\n",
      " Relative error = 1.8124888338876578e-5\n",
      " Relative error = 1.782525587390203e-5\n",
      " Relative error = 1.745871222709308e-5\n",
      " Relative error = 1.7183914566355053e-5\n",
      " Relative error = 1.6857958223663145e-5\n",
      " Relative error = 1.6511528099931405e-5\n",
      " Entering displacemtent step62 :0.006200000000000003\n",
      " Relative error = 1.6239421809582256e-5\n",
      " Relative error = 3.382725622235133e-5\n",
      " Relative error = 1.8716715269094094e-5\n",
      " Relative error = 1.761804609463322e-5\n",
      " Relative error = 1.7270829765338466e-5\n",
      " Relative error = 1.7050085004199552e-5\n",
      " Relative error = 1.6710130931155008e-5\n",
      " Relative error = 1.6444520878370845e-5\n",
      " Relative error = 1.614345761814995e-5\n",
      " Relative error = 1.5865101678171435e-5\n",
      " Entering displacemtent step63 :0.0063000000000000035\n",
      " Relative error = 1.562709531975241e-5\n",
      " Relative error = 3.1321767900667147e-5\n",
      " Relative error = 1.8013473140539177e-5\n",
      " Relative error = 1.7127522366643966e-5\n",
      " Relative error = 1.674245875350199e-5\n",
      " Relative error = 1.6418369205179322e-5\n",
      " Relative error = 1.6075499742000292e-5\n",
      " Relative error = 1.5820794455444215e-5\n",
      " Relative error = 1.5605370614358915e-5\n",
      " Relative error = 1.5434206879148657e-5\n",
      " Entering displacemtent step64 :0.006400000000000004\n",
      " Relative error = 1.51843644968395e-5\n",
      " Relative error = 2.938381234486679e-5\n",
      " Relative error = 1.728486231106168e-5\n",
      " Relative error = 1.6224623984278448e-5\n",
      " Relative error = 1.577949561054156e-5\n",
      " Relative error = 1.5715774107364243e-5\n",
      " Relative error = 1.557383904696513e-5\n",
      " Relative error = 1.5223035721520658e-5\n",
      " Relative error = 1.5050094591317667e-5\n",
      " Relative error = 1.4617550134853402e-5\n",
      " Entering displacemtent step65 :0.006500000000000004\n",
      " Relative error = 1.4280663906591121e-5\n",
      " Relative error = 2.7049439923080594e-5\n",
      " Relative error = 1.627529705881681e-5\n",
      " Relative error = 1.5569027726324532e-5\n",
      " Relative error = 1.519802730134156e-5\n",
      " Relative error = 1.4870041835894968e-5\n",
      " Relative error = 1.4557370429284402e-5\n",
      " Relative error = 1.4218939615787252e-5\n",
      " Relative error = 1.3976027245510745e-5\n",
      " Relative error = 1.3719024865488392e-5\n",
      " Entering displacemtent step66 :0.006600000000000004\n",
      " Relative error = 1.3571322900985273e-5\n",
      " Relative error = 2.513758781248889e-5\n",
      " Relative error = 1.5425293439589775e-5\n",
      " Relative error = 1.4494496927486675e-5\n",
      " Relative error = 1.4110883546244137e-5\n",
      " Relative error = 1.3872804845526875e-5\n",
      " Relative error = 1.3652693677732503e-5\n",
      " Relative error = 1.3347273319472646e-5\n",
      " Relative error = 1.3114738169605741e-5\n",
      " Relative error = 1.2889712646060688e-5\n",
      " Entering displacemtent step67 :0.0067000000000000046\n",
      " Relative error = 1.2630844569483366e-5\n",
      " Relative error = 2.3171648183613082e-5\n",
      " Relative error = 1.4517153147586555e-5\n",
      " Relative error = 1.3672977633519688e-5\n"
     ]
    },
    {
     "name": "stdout",
     "output_type": "stream",
     "text": [
      " Relative error = 1.3281471757193233e-5\n",
      " Relative error = 1.3047395919351666e-5\n",
      " Relative error = 1.2753674596610377e-5\n",
      " Relative error = 1.2585060988506221e-5\n",
      " Relative error = 1.2329452811462573e-5\n",
      " Relative error = 1.1970762765294144e-5\n",
      " Entering displacemtent step68 :0.006800000000000005\n",
      " Relative error = 1.163801438575867e-5\n",
      " Relative error = 2.118242876333309e-5\n",
      " Relative error = 1.3064550161516095e-5\n",
      " Relative error = 1.2512084192069616e-5\n",
      " Relative error = 1.2400506954247665e-5\n",
      " Relative error = 1.2092974872063548e-5\n",
      " Relative error = 1.1798913867592775e-5\n",
      " Relative error = 1.1516618870816804e-5\n",
      " Relative error = 1.1412990530842873e-5\n",
      " Relative error = 1.117986399272496e-5\n",
      " Entering displacemtent step69 :0.006900000000000005\n",
      " Relative error = 1.0943526984054495e-5\n",
      " Relative error = 1.9484527169605673e-5\n",
      " Relative error = 1.2269133627594332e-5\n",
      " Relative error = 1.1670333614035736e-5\n",
      " Relative error = 1.136949441610359e-5\n",
      " Relative error = 1.1124974330244904e-5\n",
      " Relative error = 1.0874076953455536e-5\n",
      " Relative error = 1.0628072860680728e-5\n",
      " Relative error = 1.035406511149842e-5\n",
      " Relative error = 1.009814379353184e-5\n",
      " Entering displacemtent step70 :0.007000000000000005\n",
      " Relative error = 9.933770323074532e-6\n",
      " Relative error = 1.7836896756947498e-5\n",
      " Relative error = 1.1379109438618663e-5\n",
      " Relative error = 1.0615502542248772e-5\n",
      " Relative error = 1.0333830301953308e-5\n",
      " Relative error = 1.0191239200234543e-5\n",
      " Relative error = 9.998077493021992e-6\n",
      " Relative error = 9.851004479958067e-6\n",
      " Relative error = 9.697146865315921e-6\n",
      " Relative error = 9.37394635058951e-6\n",
      " Entering displacemtent step71 :0.007100000000000006\n",
      " Relative error = 8.978237396467277e-6\n",
      " Relative error = 1.6294378598105703e-5\n",
      " Relative error = 1.0550616230404978e-5\n",
      " Relative error = 1.0037126666912918e-5\n",
      " Relative error = 9.84341242297893e-6\n",
      " Relative error = 9.560789452497279e-6\n",
      " Relative error = 9.269589147324796e-6\n",
      " Relative error = 9.161986645399068e-6\n",
      " Relative error = 9.070919756496554e-6\n",
      " Relative error = 8.863720296706659e-6\n",
      " Entering displacemtent step72 :0.007200000000000006\n",
      " Relative error = 8.580135838109369e-6\n",
      " Relative error = 1.505453098958553e-5\n",
      " Relative error = 9.816682681420914e-6\n",
      " Relative error = 9.281138910713874e-6\n",
      " Relative error = 9.107868486517958e-6\n",
      " Relative error = 8.862741583211367e-6\n",
      " Relative error = 8.569337467854976e-6\n",
      " Relative error = 8.380601972571765e-6\n",
      " Relative error = 8.259077492283493e-6\n",
      " Relative error = 8.124153847329638e-6\n",
      " Entering displacemtent step73 :0.007300000000000006\n",
      " Relative error = 8.037807976644831e-6\n",
      " Relative error = 1.400293836119852e-5\n",
      " Relative error = 9.149663443031081e-6\n",
      " Relative error = 8.60858039526589e-6\n",
      " Relative error = 8.448811598003592e-6\n",
      " Relative error = 8.28938540333032e-6\n",
      " Relative error = 8.067004479277e-6\n",
      " Relative error = 7.999319712502172e-6\n",
      " Relative error = 7.957858232867843e-6\n",
      " Relative error = 7.809169379660574e-6\n",
      " Entering displacemtent step74 :0.007400000000000006\n",
      " Relative error = 7.601279332128218e-6\n",
      " Relative error = 1.3127694451208149e-5\n",
      " Relative error = 8.741085605756484e-6\n",
      " Relative error = 8.228384460412208e-6\n",
      " Relative error = 8.011847135464775e-6\n",
      " Relative error = 7.850604421545279e-6\n",
      " Relative error = 7.70828998683274e-6\n",
      " Relative error = 7.535646103853081e-6\n",
      " Relative error = 7.325974258397606e-6\n",
      " Relative error = 7.1984763847642165e-6\n",
      " Entering displacemtent step75 :0.007500000000000007\n",
      " Relative error = 7.0091590768049675e-6\n",
      " Relative error = 1.201102248580628e-5\n",
      " Relative error = 7.827872774721196e-6\n",
      " Relative error = 7.283667422933699e-6\n",
      " Relative error = 7.017410264108316e-6\n",
      " Relative error = 6.984255243136615e-6\n",
      " Relative error = 6.996723923945233e-6\n",
      " Relative error = 6.844822833978556e-6\n",
      " Relative error = 6.6184982738204e-6\n",
      " Relative error = 6.459247310723894e-6\n",
      " Entering displacemtent step76 :0.007600000000000007\n",
      " Relative error = 6.273743631342718e-6\n",
      " Relative error = 1.1142157569330111e-5\n",
      " Relative error = 7.0954556335438675e-6\n",
      " Relative error = 6.63259595277706e-6\n",
      " Relative error = 6.439815804869231e-6\n",
      " Relative error = 6.371275960423331e-6\n",
      " Relative error = 6.343404160799199e-6\n",
      " Relative error = 6.158281244736846e-6\n",
      " Relative error = 5.9208657611129325e-6\n",
      " Relative error = 5.791541367812965e-6\n",
      " Entering displacemtent step77 :0.007700000000000007\n",
      " Relative error = 5.695534781167278e-6\n",
      " Relative error = 1.037079368071115e-5\n",
      " Relative error = 6.588197087490009e-6\n",
      " Relative error = 6.056402756668902e-6\n",
      " Relative error = 5.761759491045575e-6\n",
      " Relative error = 5.55782132177736e-6\n",
      " Relative error = 5.3954824624917504e-6\n",
      " Relative error = 5.213218373873429e-6\n",
      " Relative error = 5.062244056972826e-6\n",
      " Relative error = 4.983278035636067e-6\n",
      " Entering displacemtent step78 :0.0078000000000000074\n",
      " Relative error = 4.90381775071869e-6\n",
      " Relative error = 9.415306212329885e-6\n",
      " Relative error = 5.809424837153596e-6\n",
      " Relative error = 5.42266046426981e-6\n",
      " Relative error = 5.384713125473456e-6\n",
      " Relative error = 5.378612431511012e-6\n",
      " Relative error = 5.260696473466825e-6\n",
      " Relative error = 5.023659572526156e-6\n",
      " Relative error = 4.7666465036941774e-6\n",
      " Relative error = 4.5733923917354755e-6\n",
      " Entering displacemtent step79 :0.007900000000000008\n",
      " Relative error = 4.507742922660769e-6\n",
      " Relative error = 8.811848282763535e-6\n",
      " Relative error = 5.696956004039687e-6\n",
      " Relative error = 5.33301819995717e-6\n",
      " Relative error = 5.141585363138326e-6\n",
      " Relative error = 4.963409879595707e-6\n",
      " Relative error = 4.768128766743679e-6\n",
      " Relative error = 4.6419477981624655e-6\n",
      " Relative error = 4.56952415905148e-6\n",
      " Relative error = 4.501402441292824e-6\n",
      " Entering displacemtent step80 :0.008000000000000007\n",
      " Relative error = 4.431913449188032e-6\n",
      " Relative error = 8.341489876593475e-6\n",
      " Relative error = 5.304987806642289e-6\n",
      " Relative error = 5.00113136604047e-6\n",
      " Relative error = 4.937932671249561e-6\n",
      " Relative error = 4.838768410583399e-6\n",
      " Relative error = 4.688625779487121e-6\n",
      " Relative error = 4.521262442982858e-6\n",
      " Relative error = 4.353884929126616e-6\n",
      " Relative error = 4.210550452858287e-6\n",
      " Entering displacemtent step81 :0.008100000000000007\n",
      " Relative error = 4.097055946775561e-6\n",
      " Relative error = 7.692754969704261e-6\n",
      " Relative error = 4.94863510421465e-6\n",
      " Relative error = 4.6009555080031e-6\n",
      " Relative error = 4.436838528505542e-6\n",
      " Relative error = 4.303827232310795e-6\n",
      " Relative error = 4.168393213042925e-6\n",
      " Relative error = 4.013396424557046e-6\n",
      " Relative error = 3.8535801094393894e-6\n",
      " Relative error = 3.7303770580310246e-6\n",
      " Entering displacemtent step82 :0.008200000000000006\n",
      " Relative error = 3.625894100359835e-6\n",
      " Relative error = 6.997413744157084e-6\n",
      " Relative error = 4.362198882601246e-6\n",
      " Relative error = 3.981244360966404e-6\n",
      " Relative error = 3.825903238028781e-6\n",
      " Relative error = 3.7389870433680056e-6\n",
      " Relative error = 3.6978383049077767e-6\n",
      " Relative error = 3.6659078467522404e-6\n",
      " Relative error = 3.5918441830372283e-6\n",
      " Relative error = 3.481987278079208e-6\n",
      " Entering displacemtent step83 :0.008300000000000005\n",
      " Relative error = 3.3839818333662424e-6\n",
      " Relative error = 6.711245581024465e-6\n",
      " Relative error = 4.25017031249489e-6\n",
      " Relative error = 3.941492512889151e-6\n",
      " Relative error = 3.82695296762082e-6\n",
      " Relative error = 3.713230871329828e-6\n",
      " Relative error = 3.5944126472529656e-6\n",
      " Relative error = 3.479836897164503e-6\n",
      " Relative error = 3.3565869735451193e-6\n",
      " Relative error = 3.2141352860083354e-6\n",
      " Entering displacemtent step84 :0.008400000000000005\n",
      " Relative error = 3.076141749503909e-6\n",
      " Relative error = 6.158326580535969e-6\n",
      " Relative error = 3.820420905585736e-6\n",
      " Relative error = 3.505659153440493e-6\n",
      " Relative error = 3.3703096773014586e-6\n",
      " Relative error = 3.2502578405218604e-6\n",
      " Relative error = 3.167608373751352e-6\n",
      " Relative error = 3.125645557570165e-6\n",
      " Relative error = 3.1069348755048175e-6\n",
      " Relative error = 3.08338925060698e-6\n",
      " Entering displacemtent step85 :0.008500000000000004\n",
      " Relative error = 3.032980402255663e-6\n",
      " Relative error = 6.022654240888026e-6\n",
      " Relative error = 3.7588743367267574e-6\n",
      " Relative error = 3.446218660989499e-6\n",
      " Relative error = 3.341196670144522e-6\n",
      " Relative error = 3.2823395857988328e-6\n",
      " Relative error = 3.224198683726419e-6\n",
      " Relative error = 3.1506821401512985e-6\n"
     ]
    },
    {
     "name": "stdout",
     "output_type": "stream",
     "text": [
      " Relative error = 3.0481188602071223e-6\n",
      " Relative error = 2.9262209195476337e-6\n",
      " Entering displacemtent step86 :0.008600000000000003\n",
      " Relative error = 2.8049366386310766e-6\n",
      " Relative error = 5.597276872829311e-6\n",
      " Relative error = 3.513758025853067e-6\n",
      " Relative error = 3.2637672285803494e-6\n",
      " Relative error = 3.205999770166903e-6\n",
      " Relative error = 3.1514565205734634e-6\n",
      " Relative error = 3.0573340367170157e-6\n",
      " Relative error = 2.917837605579036e-6\n",
      " Relative error = 2.7447321122774797e-6\n",
      " Relative error = 2.5585531349758124e-6\n",
      " Entering displacemtent step87 :0.008700000000000003\n",
      " Relative error = 2.386036489318979e-6\n",
      " Relative error = 5.009673716524516e-6\n",
      " Relative error = 2.957725458171685e-6\n",
      " Relative error = 2.64066099882851e-6\n",
      " Relative error = 2.5187342730214624e-6\n",
      " Relative error = 2.4358310565969423e-6\n",
      " Relative error = 2.372389170079176e-6\n",
      " Relative error = 2.3182471270638558e-6\n",
      " Relative error = 2.2653278594739883e-6\n",
      " Relative error = 2.209700448355737e-6\n",
      " Entering displacemtent step88 :0.008800000000000002\n",
      " Relative error = 2.1572690626587166e-6\n",
      " Relative error = 4.929401607682175e-6\n",
      " Relative error = 2.9201975062204544e-6\n",
      " Relative error = 2.6870132232704746e-6\n",
      " Relative error = 2.6067499516236848e-6\n",
      " Relative error = 2.512016735368088e-6\n",
      " Relative error = 2.3926025428429124e-6\n",
      " Relative error = 2.2646496693486688e-6\n",
      " Relative error = 2.1415040141192543e-6\n",
      " Relative error = 2.0307504382523134e-6\n",
      " Entering displacemtent step89 :0.008900000000000002\n",
      " Relative error = 1.9411116673795635e-6\n",
      " Relative error = 4.5946407149424445e-6\n",
      " Relative error = 2.671654450970481e-6\n",
      " Relative error = 2.461914129579239e-6\n",
      " Relative error = 2.4255542303982413e-6\n",
      " Relative error = 2.401975238833472e-6\n",
      " Relative error = 2.3695779200139575e-6\n",
      " Relative error = 2.34595991522501e-6\n",
      " Relative error = 2.3448684479654534e-6\n",
      " Relative error = 2.3489546668757643e-6\n",
      " Entering displacemtent step90 :0.009000000000000001\n",
      " Relative error = 2.33130611782118e-6\n",
      " Relative error = 4.8395106960099e-6\n",
      " Relative error = 2.96830226304865e-6\n",
      " Relative error = 2.6705801191057066e-6\n",
      " Relative error = 2.53517471166222e-6\n",
      " Relative error = 2.4514742089360343e-6\n",
      " Relative error = 2.3962256529433617e-6\n",
      " Relative error = 2.3356223798079425e-6\n",
      " Relative error = 2.2461122459307793e-6\n",
      " Relative error = 2.125855081779231e-6\n",
      " Entering displacemtent step91 :0.0091\n",
      " Relative error = 1.9825802411659186e-6\n",
      " Relative error = 4.268462539635884e-6\n",
      " Relative error = 2.43530100650325e-6\n",
      " Relative error = 2.090260369659601e-6\n",
      " Relative error = 1.922202905241611e-6\n",
      " Relative error = 1.8073034715234552e-6\n",
      " Relative error = 1.7395433030995508e-6\n",
      " Relative error = 1.7150460085879433e-6\n",
      " Relative error = 1.7215175656654134e-6\n",
      " Relative error = 1.739686777240621e-6\n",
      " Entering displacemtent step92 :0.0092\n",
      " Relative error = 1.7514977146494907e-6\n",
      " Relative error = 4.262347833196313e-6\n",
      " Relative error = 2.4555207387133585e-6\n",
      " Relative error = 2.18786372327258e-6\n",
      " Relative error = 2.061140268197219e-6\n",
      " Relative error = 1.9424003793778314e-6\n",
      " Relative error = 1.827473529946838e-6\n",
      " Relative error = 1.7200728822488474e-6\n",
      " Relative error = 1.6234694197988733e-6\n",
      " Relative error = 1.5381463410213092e-6\n",
      " Entering displacemtent step93 :0.0093\n",
      " Relative error = 1.4630889551418076e-6\n",
      " Relative error = 3.8458828104963215e-6\n",
      " Relative error = 2.0963439194447638e-6\n",
      " Relative error = 1.8645123388209648e-6\n",
      " Relative error = 1.8128781849030425e-6\n",
      " Relative error = 1.794955597943901e-6\n",
      " Relative error = 1.7906357543876941e-6\n",
      " Relative error = 1.7862845535800832e-6\n",
      " Relative error = 1.7740808291100318e-6\n",
      " Relative error = 1.748355233761448e-6\n",
      " Entering displacemtent step94 :0.009399999999999999\n",
      " Relative error = 1.7159172116809203e-6\n",
      " Relative error = 4.051998230948908e-6\n",
      " Relative error = 2.356613697146418e-6\n",
      " Relative error = 2.121279175018697e-6\n",
      " Relative error = 2.0514376087344678e-6\n",
      " Relative error = 2.0148889513789962e-6\n",
      " Relative error = 1.989851251182611e-6\n",
      " Relative error = 1.9667004709233764e-6\n",
      " Relative error = 1.9462473606040975e-6\n",
      " Relative error = 1.9230020355627483e-6\n",
      " Entering displacemtent step95 :0.009499999999999998\n",
      " Relative error = 1.8935205523186722e-6\n",
      " Relative error = 4.019300813403624e-6\n",
      " Relative error = 2.4915077893547124e-6\n",
      " Relative error = 2.2564243716038342e-6\n",
      " Relative error = 2.1574724199767045e-6\n",
      " Relative error = 2.090201911245758e-6\n",
      " Relative error = 2.047460979231421e-6\n",
      " Relative error = 2.0204917616759107e-6\n",
      " Relative error = 1.99133575341538e-6\n",
      " Relative error = 1.9453926654006436e-6\n",
      " Entering displacemtent step96 :0.009599999999999997\n",
      " Relative error = 1.8828991496719127e-6\n",
      " Relative error = 3.830069106433436e-6\n",
      " Relative error = 2.364805732554752e-6\n",
      " Relative error = 2.099775861744473e-6\n",
      " Relative error = 1.996704841633566e-6\n",
      " Relative error = 1.947271572382804e-6\n",
      " Relative error = 1.9332285707612137e-6\n",
      " Relative error = 1.935040810288747e-6\n",
      " Relative error = 1.932665425767274e-6\n",
      " Relative error = 1.916552260560445e-6\n",
      " Entering displacemtent step97 :0.009699999999999997\n",
      " Relative error = 1.8817249820404637e-6\n",
      " Relative error = 3.781730977518854e-6\n",
      " Relative error = 2.4031097848868365e-6\n",
      " Relative error = 2.1738368235731534e-6\n",
      " Relative error = 2.0745932614145862e-6\n",
      " Relative error = 1.9879306666128666e-6\n",
      " Relative error = 1.8958007974230878e-6\n",
      " Relative error = 1.7928502395801304e-6\n",
      " Relative error = 1.6801758497866128e-6\n",
      " Relative error = 1.5627336810014404e-6\n",
      " Entering displacemtent step98 :0.009799999999999996\n",
      " Relative error = 1.44674839794348e-6\n",
      " Relative error = 3.227872200787383e-6\n",
      " Relative error = 1.870868445997087e-6\n",
      " Relative error = 1.6185684299789242e-6\n",
      " Relative error = 1.5260567030069248e-6\n",
      " Relative error = 1.4762892904796636e-6\n",
      " Relative error = 1.4473401273789162e-6\n",
      " Relative error = 1.429309905005409e-6\n",
      " Relative error = 1.4190200302294785e-6\n",
      " Relative error = 1.411591954879919e-6\n",
      " Entering displacemtent step99 :0.009899999999999996\n",
      " Relative error = 1.401381111679817e-6\n",
      " Relative error = 3.329054363345239e-6\n",
      " Relative error = 1.972069428906707e-6\n",
      " Relative error = 1.7617651207541246e-6\n",
      " Relative error = 1.6797947371243714e-6\n",
      " Relative error = 1.6254515464819272e-6\n",
      " Relative error = 1.5918261368751592e-6\n",
      " Relative error = 1.5695709400569894e-6\n",
      " Relative error = 1.5497885553119252e-6\n",
      " Relative error = 1.525519219905441e-6\n",
      " Entering displacemtent step100 :0.009999999999999995\n",
      " Relative error = 1.4915273383069132e-6\n",
      " Relative error = 3.2648410289960182e-6\n",
      " Relative error = 1.9766797378487657e-6\n",
      " Relative error = 1.7441346791777413e-6\n",
      " Relative error = 1.6297990486458349e-6\n",
      " Relative error = 1.5347311809478073e-6\n",
      " Relative error = 1.4493398070225344e-6\n",
      " Relative error = 1.3766293784802521e-6\n",
      " Relative error = 1.3194573767268496e-6\n",
      " Relative error = 1.2738098898340758e-6\n",
      " Entering displacemtent step101 :0.010099999999999994\n",
      " Relative error = 1.234343286009225e-6\n",
      " Relative error = 2.9911322798399496e-6\n",
      " Relative error = 1.7435507028732588e-6\n",
      " Relative error = 1.5416668647726807e-6\n",
      " Relative error = 1.4633695019745784e-6\n",
      " Relative error = 1.3979280849266748e-6\n",
      " Relative error = 1.3369240504825499e-6\n",
      " Relative error = 1.2823286211450221e-6\n",
      " Relative error = 1.2462144045146187e-6\n",
      " Relative error = 1.2337519162981349e-6"
     ]
    }
   ],
   "source": [
    "vApp = 0\n",
    "phiApp = 0\n",
    "delv = 1e-4\n",
    "vAppMax = 0.010\n",
    "innerMax = 10\n",
    "count = 0\n",
    "\n",
    "Load = Float64[]\n",
    "Displacement = Float64[]\n",
    "\n",
    "#push!(Load, 0.0)\n",
    "#push!(Displacement, 0.0)\n",
    "\n",
    "ψPlusPrev = CellState(0.0,dΩ) \n",
    "sPrev = CellState(1.0,dΩ)\n",
    "sh = project(sPrev,model,dΩ,order)\n",
    "ϕPrev = CellState(0.0,dΩ)\n",
    "ϕh = project(ϕPrev,model,dΩ,order)\n",
    "\n",
    "\n",
    "while vApp .< vAppMax \n",
    "    count = count .+ 1\n",
    "    vApp = vApp .+ delv\n",
    "    \n",
    "    if vApp <= 5e-4\n",
    "        phiApp = vApp * (phiMaxApp/5e-4)\n",
    "    else\n",
    "        phiApp = phiMaxApp\n",
    "    end\n",
    "    \n",
    "    if vApp >= 5e-4 && vApp <= 2e-3\n",
    "        delv = 1e-4\n",
    "    elseif vApp >= 2e-3\n",
    "        delv = 1e-4\n",
    "    end\n",
    "    \n",
    "    print(\"\\n Entering displacemtent step$count :\", float(vApp))\n",
    "    \n",
    "   for inner = 1:innerMax   \n",
    "        \n",
    "        ψhPlusPrev = project(ψPlusPrev,model,dΩ,order)\n",
    "        \n",
    "        RelErr = abs(sum(∫( Gc*lsp*∇(sh)⋅ ∇(sh) + 2*ψhPlusPrev*sh*sh  + (Gc/lsp)*sh*sh)*dΩ - ∫( (Gc/lsp)*sh)*dΩ))/abs(sum(∫( (Gc/lsp)*sh)*dΩ))\n",
    "        print(\"\\n Relative error = \",float(RelErr))\n",
    "        \n",
    "        sh = stepPhaseField(uh,ψhPlusPrev) \n",
    "        uh,ϕh = stepDispElecPot(uh,ϕh,sh,vApp,phiApp)\n",
    "        \n",
    "        ψhPos_in = ψPos∘(ε(uh),∇(ϕh))      \n",
    "        \n",
    "        update_state!(new_EnergyState,ψPlusPrev,ψhPos_in)\n",
    "  \n",
    "        if RelErr < 1e-8\n",
    "            break \n",
    "        end      \n",
    "    end\n",
    "    \n",
    "    Node_Force = sum(∫( n_Γ_Load ⋅ (σ_elasMod∘(ε(uh),ε(uh),sh)) ) *dΓ_Load + ∫( n_Γ_Load ⋅ (σ_piezoMod∘(∇(ϕh),∇(ϕh),sh) ) )  *dΓ_Load)\n",
    "    \n",
    "    push!(Load, thickness*Node_Force[2])\n",
    "    push!(Displacement, vApp)\n",
    "    if mod(count,2) == 0\n",
    "         writevtk(Ω,\"results_NotchedPlate$count\",cellfields=\n",
    "        [\"uh\"=>uh,\"s\"=>sh ,\"phi\"=>ϕh, \"epsi\"=>ε(uh)])\n",
    "    end\n",
    "end"
   ]
  },
  {
   "cell_type": "code",
   "execution_count": 32,
   "id": "disabled-stone",
   "metadata": {},
   "outputs": [
    {
     "data": {
      "text/plain": [
       "([\"results_NotchedPlate101.vtu\"],)"
      ]
     },
     "execution_count": 32,
     "metadata": {},
     "output_type": "execute_result"
    }
   ],
   "source": [
    " writevtk(Ω,\"results_NotchedPlate$count\",cellfields=\n",
    "        [\"uh\"=>uh,\"s\"=>sh ,\"phi\"=>ϕh, \"epsi\"=>ε(uh)])"
   ]
  },
  {
   "cell_type": "code",
   "execution_count": 33,
   "id": "colonial-infection",
   "metadata": {},
   "outputs": [
    {
     "data": {
      "image/png": "[encoded data removed]",
      "text/plain": [
       "Figure(PyObject <Figure size 640x480 with 1 Axes>)"
      ]
     },
     "metadata": {},
     "output_type": "display_data"
    },
    {
     "name": "stderr",
     "output_type": "stream",
     "text": [
      "┌ Warning: both Julia and NumPy are linked with MKL, which may cause conflicts and crashes (#433).\n",
      "└ @ PyCall /home/ayyappan/.julia/packages/PyCall/BD546/src/numpy.jl:73\n"
     ]
    },
    {
     "data": {
      "text/plain": [
       "1-element Vector{PyCall.PyObject}:\n",
       " PyObject <matplotlib.lines.Line2D object at 0x7f6c8f433640>"
      ]
     },
     "execution_count": 33,
     "metadata": {},
     "output_type": "execute_result"
    }
   ],
   "source": [
    "plot(Displacement,Load)"
   ]
  },
  {
   "cell_type": "code",
   "execution_count": 34,
   "id": "human-hollywood",
   "metadata": {},
   "outputs": [
    {
     "data": {
      "text/plain": [
       "99.54685346106685"
      ]
     },
     "execution_count": 34,
     "metadata": {},
     "output_type": "execute_result"
    }
   ],
   "source": [
    "maximum(Load)"
   ]
  },
  {
   "cell_type": "code",
   "execution_count": 35,
   "id": "pointed-month",
   "metadata": {},
   "outputs": [],
   "source": [
    "cd(\"../DataLoadDispResultNotchedPlate\")"
   ]
  },
  {
   "cell_type": "code",
   "execution_count": 36,
   "id": "adjustable-production",
   "metadata": {},
   "outputs": [],
   "source": [
    "using DelimitedFiles\n",
    "Disp = writedlm(\"DispDataResult0mmEccentricNotchedBeam$ElecF.csv\",  Displacement, ',')\n",
    "Force = writedlm(\"LoadDataResult0mmEccentricNotchedBeam$ElecF.csv\",  Load, ',')"
   ]
  }
 ],
 "metadata": {
  "@webio": {
   "lastCommId": null,
   "lastKernelId": null
  },
  "kernelspec": {
   "display_name": "Python 3 (ipykernel)",
   "language": "python",
   "name": "python3"
  },
  "language_info": {
   "codemirror_mode": {
    "name": "ipython",
    "version": 3
   },
   "file_extension": ".py",
   "mimetype": "text/x-python",
   "name": "python",
   "nbconvert_exporter": "python",
   "pygments_lexer": "ipython3",
   "version": "3.10.12"
  }
 },
 "nbformat": 4,
 "nbformat_minor": 5
}
